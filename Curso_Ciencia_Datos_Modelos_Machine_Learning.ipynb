{
  "cells": [
    {
      "cell_type": "markdown",
      "metadata": {
        "id": "view-in-github",
        "colab_type": "text"
      },
      "source": [
        "<a href=\"https://colab.research.google.com/github/hfelizzola/Curso-Ciencia-Datos-Ecopetrol/blob/main/Curso_Ciencia_Datos_Modelos_Machine_Learning.ipynb\" target=\"_parent\"><img src=\"https://colab.research.google.com/assets/colab-badge.svg\" alt=\"Open In Colab\"/></a>"
      ]
    },
    {
      "cell_type": "markdown",
      "metadata": {
        "id": "JA8Ox4e42CLj"
      },
      "source": [
        "# Técnicas Predictivas y Descriptivas para la Generación de Nuevo Conocimiento"
      ]
    },
    {
      "cell_type": "markdown",
      "metadata": {
        "id": "bf8yowLL2QsQ"
      },
      "source": [
        "Este cuaderno contiene el código para la implementación de casos de modelos de machine learning para el curso de ciencia de datos."
      ]
    },
    {
      "cell_type": "code",
      "execution_count": 1,
      "metadata": {
        "id": "D8eAi7s94AJM"
      },
      "outputs": [],
      "source": [
        "# Cargar modulos para ciencia de datos\n",
        "import numpy as np\n",
        "import pandas as pd\n",
        "import matplotlib.pyplot as plt\n",
        "import seaborn as sns\n",
        "pd.set_option('display.max_columns', None)"
      ]
    },
    {
      "cell_type": "markdown",
      "metadata": {
        "id": "wQxiK3FN2L7P"
      },
      "source": [
        "## 1. Regresión Lineal"
      ]
    },
    {
      "cell_type": "code",
      "execution_count": 2,
      "metadata": {
        "id": "mlPZzjC519Jj"
      },
      "outputs": [],
      "source": [
        "# Cargar modulos para modelo de regresión\n",
        "import statsmodels.api as sm"
      ]
    },
    {
      "cell_type": "markdown",
      "metadata": {
        "id": "v0EUmy-C4lzJ"
      },
      "source": [
        "### Caso Regresión: Efecto de Gasto Publicitario.\n",
        " \n",
        "**Contexto:** Supongamos que somos consultores estadísticos contratados por un cliente para investigar la asociación entre el gasto en publicidad y las ventas de un producto en particular. Nuestro cliente no puede incrementar directamente las ventas del producto pero puede controlar el gasto publicitario. Por lo tanto, si determinamos que existe una asociación entre publicidad y ventas, entonces podemos instruir a nuestro cliente para que ajuste los presupuestos publicitarios. \n",
        " \n",
        "**Objetivo** es desarrollar un modelo preciso que se pueda utilizar para predecir las ventas sobre la base de los tres presupuestos de medios (TV, radio y periódico)*.\n"
      ]
    },
    {
      "cell_type": "code",
      "execution_count": 3,
      "metadata": {
        "colab": {
          "base_uri": "https://localhost:8080/",
          "height": 206
        },
        "id": "CXxIpfjW5C_5",
        "outputId": "3495117c-71f2-4c14-e9cc-e081066217cd"
      },
      "outputs": [
        {
          "output_type": "execute_result",
          "data": {
            "text/plain": [
              "      tv  radio  periodico       zona  ventas\n",
              "0  230.1   37.8       69.2  occidente    22.1\n",
              "1   44.5   39.3       45.1    oriente    10.4\n",
              "2   17.2   45.9       69.3  occidente     9.3\n",
              "3  151.5   41.3       58.5  occidente    18.5\n",
              "4  180.8   10.8       58.4    oriente    12.9"
            ],
            "text/html": [
              "\n",
              "  <div id=\"df-0674606b-4c2a-49ac-8283-86f8d7014551\">\n",
              "    <div class=\"colab-df-container\">\n",
              "      <div>\n",
              "<style scoped>\n",
              "    .dataframe tbody tr th:only-of-type {\n",
              "        vertical-align: middle;\n",
              "    }\n",
              "\n",
              "    .dataframe tbody tr th {\n",
              "        vertical-align: top;\n",
              "    }\n",
              "\n",
              "    .dataframe thead th {\n",
              "        text-align: right;\n",
              "    }\n",
              "</style>\n",
              "<table border=\"1\" class=\"dataframe\">\n",
              "  <thead>\n",
              "    <tr style=\"text-align: right;\">\n",
              "      <th></th>\n",
              "      <th>tv</th>\n",
              "      <th>radio</th>\n",
              "      <th>periodico</th>\n",
              "      <th>zona</th>\n",
              "      <th>ventas</th>\n",
              "    </tr>\n",
              "  </thead>\n",
              "  <tbody>\n",
              "    <tr>\n",
              "      <th>0</th>\n",
              "      <td>230.1</td>\n",
              "      <td>37.8</td>\n",
              "      <td>69.2</td>\n",
              "      <td>occidente</td>\n",
              "      <td>22.1</td>\n",
              "    </tr>\n",
              "    <tr>\n",
              "      <th>1</th>\n",
              "      <td>44.5</td>\n",
              "      <td>39.3</td>\n",
              "      <td>45.1</td>\n",
              "      <td>oriente</td>\n",
              "      <td>10.4</td>\n",
              "    </tr>\n",
              "    <tr>\n",
              "      <th>2</th>\n",
              "      <td>17.2</td>\n",
              "      <td>45.9</td>\n",
              "      <td>69.3</td>\n",
              "      <td>occidente</td>\n",
              "      <td>9.3</td>\n",
              "    </tr>\n",
              "    <tr>\n",
              "      <th>3</th>\n",
              "      <td>151.5</td>\n",
              "      <td>41.3</td>\n",
              "      <td>58.5</td>\n",
              "      <td>occidente</td>\n",
              "      <td>18.5</td>\n",
              "    </tr>\n",
              "    <tr>\n",
              "      <th>4</th>\n",
              "      <td>180.8</td>\n",
              "      <td>10.8</td>\n",
              "      <td>58.4</td>\n",
              "      <td>oriente</td>\n",
              "      <td>12.9</td>\n",
              "    </tr>\n",
              "  </tbody>\n",
              "</table>\n",
              "</div>\n",
              "      <button class=\"colab-df-convert\" onclick=\"convertToInteractive('df-0674606b-4c2a-49ac-8283-86f8d7014551')\"\n",
              "              title=\"Convert this dataframe to an interactive table.\"\n",
              "              style=\"display:none;\">\n",
              "        \n",
              "  <svg xmlns=\"http://www.w3.org/2000/svg\" height=\"24px\"viewBox=\"0 0 24 24\"\n",
              "       width=\"24px\">\n",
              "    <path d=\"M0 0h24v24H0V0z\" fill=\"none\"/>\n",
              "    <path d=\"M18.56 5.44l.94 2.06.94-2.06 2.06-.94-2.06-.94-.94-2.06-.94 2.06-2.06.94zm-11 1L8.5 8.5l.94-2.06 2.06-.94-2.06-.94L8.5 2.5l-.94 2.06-2.06.94zm10 10l.94 2.06.94-2.06 2.06-.94-2.06-.94-.94-2.06-.94 2.06-2.06.94z\"/><path d=\"M17.41 7.96l-1.37-1.37c-.4-.4-.92-.59-1.43-.59-.52 0-1.04.2-1.43.59L10.3 9.45l-7.72 7.72c-.78.78-.78 2.05 0 2.83L4 21.41c.39.39.9.59 1.41.59.51 0 1.02-.2 1.41-.59l7.78-7.78 2.81-2.81c.8-.78.8-2.07 0-2.86zM5.41 20L4 18.59l7.72-7.72 1.47 1.35L5.41 20z\"/>\n",
              "  </svg>\n",
              "      </button>\n",
              "      \n",
              "  <style>\n",
              "    .colab-df-container {\n",
              "      display:flex;\n",
              "      flex-wrap:wrap;\n",
              "      gap: 12px;\n",
              "    }\n",
              "\n",
              "    .colab-df-convert {\n",
              "      background-color: #E8F0FE;\n",
              "      border: none;\n",
              "      border-radius: 50%;\n",
              "      cursor: pointer;\n",
              "      display: none;\n",
              "      fill: #1967D2;\n",
              "      height: 32px;\n",
              "      padding: 0 0 0 0;\n",
              "      width: 32px;\n",
              "    }\n",
              "\n",
              "    .colab-df-convert:hover {\n",
              "      background-color: #E2EBFA;\n",
              "      box-shadow: 0px 1px 2px rgba(60, 64, 67, 0.3), 0px 1px 3px 1px rgba(60, 64, 67, 0.15);\n",
              "      fill: #174EA6;\n",
              "    }\n",
              "\n",
              "    [theme=dark] .colab-df-convert {\n",
              "      background-color: #3B4455;\n",
              "      fill: #D2E3FC;\n",
              "    }\n",
              "\n",
              "    [theme=dark] .colab-df-convert:hover {\n",
              "      background-color: #434B5C;\n",
              "      box-shadow: 0px 1px 3px 1px rgba(0, 0, 0, 0.15);\n",
              "      filter: drop-shadow(0px 1px 2px rgba(0, 0, 0, 0.3));\n",
              "      fill: #FFFFFF;\n",
              "    }\n",
              "  </style>\n",
              "\n",
              "      <script>\n",
              "        const buttonEl =\n",
              "          document.querySelector('#df-0674606b-4c2a-49ac-8283-86f8d7014551 button.colab-df-convert');\n",
              "        buttonEl.style.display =\n",
              "          google.colab.kernel.accessAllowed ? 'block' : 'none';\n",
              "\n",
              "        async function convertToInteractive(key) {\n",
              "          const element = document.querySelector('#df-0674606b-4c2a-49ac-8283-86f8d7014551');\n",
              "          const dataTable =\n",
              "            await google.colab.kernel.invokeFunction('convertToInteractive',\n",
              "                                                     [key], {});\n",
              "          if (!dataTable) return;\n",
              "\n",
              "          const docLinkHtml = 'Like what you see? Visit the ' +\n",
              "            '<a target=\"_blank\" href=https://colab.research.google.com/notebooks/data_table.ipynb>data table notebook</a>'\n",
              "            + ' to learn more about interactive tables.';\n",
              "          element.innerHTML = '';\n",
              "          dataTable['output_type'] = 'display_data';\n",
              "          await google.colab.output.renderOutput(dataTable, element);\n",
              "          const docLink = document.createElement('div');\n",
              "          docLink.innerHTML = docLinkHtml;\n",
              "          element.appendChild(docLink);\n",
              "        }\n",
              "      </script>\n",
              "    </div>\n",
              "  </div>\n",
              "  "
            ]
          },
          "metadata": {},
          "execution_count": 3
        }
      ],
      "source": [
        "# Cargar datos\n",
        "publicidad = pd.read_csv('https://raw.githubusercontent.com/hfelizzola/Curso-Ciencia-Datos-Ecopetrol/main/publicidad.csv')\n",
        "publicidad.head()"
      ]
    },
    {
      "cell_type": "code",
      "source": [
        "pd.read_excel?"
      ],
      "metadata": {
        "id": "FPfxV0omznh0"
      },
      "execution_count": 4,
      "outputs": []
    },
    {
      "cell_type": "markdown",
      "metadata": {
        "id": "HrfG-NMa5mEc"
      },
      "source": [
        "### Análisis Exploratorio de Datos\n",
        "\n",
        "En primer lugar se hace un resumen estadístico de cada una de las variables:"
      ]
    },
    {
      "cell_type": "code",
      "execution_count": 5,
      "metadata": {
        "colab": {
          "base_uri": "https://localhost:8080/",
          "height": 300
        },
        "id": "6sV-Jr6r51Zd",
        "outputId": "873651cf-c23a-48df-f67b-5548042b2b1d"
      },
      "outputs": [
        {
          "output_type": "execute_result",
          "data": {
            "text/plain": [
              "               tv       radio   periodico      ventas\n",
              "count  200.000000  200.000000  200.000000  200.000000\n",
              "mean   147.042500   23.264000   30.554000   14.022500\n",
              "std     85.854236   14.846809   21.778621    5.217457\n",
              "min      0.700000    0.000000    0.300000    1.600000\n",
              "25%     74.375000    9.975000   12.750000   10.375000\n",
              "50%    149.750000   22.900000   25.750000   12.900000\n",
              "75%    218.825000   36.525000   45.100000   17.400000\n",
              "max    296.400000   49.600000  114.000000   27.000000"
            ],
            "text/html": [
              "\n",
              "  <div id=\"df-61426560-ea99-42aa-8870-c2ba3d510273\">\n",
              "    <div class=\"colab-df-container\">\n",
              "      <div>\n",
              "<style scoped>\n",
              "    .dataframe tbody tr th:only-of-type {\n",
              "        vertical-align: middle;\n",
              "    }\n",
              "\n",
              "    .dataframe tbody tr th {\n",
              "        vertical-align: top;\n",
              "    }\n",
              "\n",
              "    .dataframe thead th {\n",
              "        text-align: right;\n",
              "    }\n",
              "</style>\n",
              "<table border=\"1\" class=\"dataframe\">\n",
              "  <thead>\n",
              "    <tr style=\"text-align: right;\">\n",
              "      <th></th>\n",
              "      <th>tv</th>\n",
              "      <th>radio</th>\n",
              "      <th>periodico</th>\n",
              "      <th>ventas</th>\n",
              "    </tr>\n",
              "  </thead>\n",
              "  <tbody>\n",
              "    <tr>\n",
              "      <th>count</th>\n",
              "      <td>200.000000</td>\n",
              "      <td>200.000000</td>\n",
              "      <td>200.000000</td>\n",
              "      <td>200.000000</td>\n",
              "    </tr>\n",
              "    <tr>\n",
              "      <th>mean</th>\n",
              "      <td>147.042500</td>\n",
              "      <td>23.264000</td>\n",
              "      <td>30.554000</td>\n",
              "      <td>14.022500</td>\n",
              "    </tr>\n",
              "    <tr>\n",
              "      <th>std</th>\n",
              "      <td>85.854236</td>\n",
              "      <td>14.846809</td>\n",
              "      <td>21.778621</td>\n",
              "      <td>5.217457</td>\n",
              "    </tr>\n",
              "    <tr>\n",
              "      <th>min</th>\n",
              "      <td>0.700000</td>\n",
              "      <td>0.000000</td>\n",
              "      <td>0.300000</td>\n",
              "      <td>1.600000</td>\n",
              "    </tr>\n",
              "    <tr>\n",
              "      <th>25%</th>\n",
              "      <td>74.375000</td>\n",
              "      <td>9.975000</td>\n",
              "      <td>12.750000</td>\n",
              "      <td>10.375000</td>\n",
              "    </tr>\n",
              "    <tr>\n",
              "      <th>50%</th>\n",
              "      <td>149.750000</td>\n",
              "      <td>22.900000</td>\n",
              "      <td>25.750000</td>\n",
              "      <td>12.900000</td>\n",
              "    </tr>\n",
              "    <tr>\n",
              "      <th>75%</th>\n",
              "      <td>218.825000</td>\n",
              "      <td>36.525000</td>\n",
              "      <td>45.100000</td>\n",
              "      <td>17.400000</td>\n",
              "    </tr>\n",
              "    <tr>\n",
              "      <th>max</th>\n",
              "      <td>296.400000</td>\n",
              "      <td>49.600000</td>\n",
              "      <td>114.000000</td>\n",
              "      <td>27.000000</td>\n",
              "    </tr>\n",
              "  </tbody>\n",
              "</table>\n",
              "</div>\n",
              "      <button class=\"colab-df-convert\" onclick=\"convertToInteractive('df-61426560-ea99-42aa-8870-c2ba3d510273')\"\n",
              "              title=\"Convert this dataframe to an interactive table.\"\n",
              "              style=\"display:none;\">\n",
              "        \n",
              "  <svg xmlns=\"http://www.w3.org/2000/svg\" height=\"24px\"viewBox=\"0 0 24 24\"\n",
              "       width=\"24px\">\n",
              "    <path d=\"M0 0h24v24H0V0z\" fill=\"none\"/>\n",
              "    <path d=\"M18.56 5.44l.94 2.06.94-2.06 2.06-.94-2.06-.94-.94-2.06-.94 2.06-2.06.94zm-11 1L8.5 8.5l.94-2.06 2.06-.94-2.06-.94L8.5 2.5l-.94 2.06-2.06.94zm10 10l.94 2.06.94-2.06 2.06-.94-2.06-.94-.94-2.06-.94 2.06-2.06.94z\"/><path d=\"M17.41 7.96l-1.37-1.37c-.4-.4-.92-.59-1.43-.59-.52 0-1.04.2-1.43.59L10.3 9.45l-7.72 7.72c-.78.78-.78 2.05 0 2.83L4 21.41c.39.39.9.59 1.41.59.51 0 1.02-.2 1.41-.59l7.78-7.78 2.81-2.81c.8-.78.8-2.07 0-2.86zM5.41 20L4 18.59l7.72-7.72 1.47 1.35L5.41 20z\"/>\n",
              "  </svg>\n",
              "      </button>\n",
              "      \n",
              "  <style>\n",
              "    .colab-df-container {\n",
              "      display:flex;\n",
              "      flex-wrap:wrap;\n",
              "      gap: 12px;\n",
              "    }\n",
              "\n",
              "    .colab-df-convert {\n",
              "      background-color: #E8F0FE;\n",
              "      border: none;\n",
              "      border-radius: 50%;\n",
              "      cursor: pointer;\n",
              "      display: none;\n",
              "      fill: #1967D2;\n",
              "      height: 32px;\n",
              "      padding: 0 0 0 0;\n",
              "      width: 32px;\n",
              "    }\n",
              "\n",
              "    .colab-df-convert:hover {\n",
              "      background-color: #E2EBFA;\n",
              "      box-shadow: 0px 1px 2px rgba(60, 64, 67, 0.3), 0px 1px 3px 1px rgba(60, 64, 67, 0.15);\n",
              "      fill: #174EA6;\n",
              "    }\n",
              "\n",
              "    [theme=dark] .colab-df-convert {\n",
              "      background-color: #3B4455;\n",
              "      fill: #D2E3FC;\n",
              "    }\n",
              "\n",
              "    [theme=dark] .colab-df-convert:hover {\n",
              "      background-color: #434B5C;\n",
              "      box-shadow: 0px 1px 3px 1px rgba(0, 0, 0, 0.15);\n",
              "      filter: drop-shadow(0px 1px 2px rgba(0, 0, 0, 0.3));\n",
              "      fill: #FFFFFF;\n",
              "    }\n",
              "  </style>\n",
              "\n",
              "      <script>\n",
              "        const buttonEl =\n",
              "          document.querySelector('#df-61426560-ea99-42aa-8870-c2ba3d510273 button.colab-df-convert');\n",
              "        buttonEl.style.display =\n",
              "          google.colab.kernel.accessAllowed ? 'block' : 'none';\n",
              "\n",
              "        async function convertToInteractive(key) {\n",
              "          const element = document.querySelector('#df-61426560-ea99-42aa-8870-c2ba3d510273');\n",
              "          const dataTable =\n",
              "            await google.colab.kernel.invokeFunction('convertToInteractive',\n",
              "                                                     [key], {});\n",
              "          if (!dataTable) return;\n",
              "\n",
              "          const docLinkHtml = 'Like what you see? Visit the ' +\n",
              "            '<a target=\"_blank\" href=https://colab.research.google.com/notebooks/data_table.ipynb>data table notebook</a>'\n",
              "            + ' to learn more about interactive tables.';\n",
              "          element.innerHTML = '';\n",
              "          dataTable['output_type'] = 'display_data';\n",
              "          await google.colab.output.renderOutput(dataTable, element);\n",
              "          const docLink = document.createElement('div');\n",
              "          docLink.innerHTML = docLinkHtml;\n",
              "          element.appendChild(docLink);\n",
              "        }\n",
              "      </script>\n",
              "    </div>\n",
              "  </div>\n",
              "  "
            ]
          },
          "metadata": {},
          "execution_count": 5
        }
      ],
      "source": [
        "# Resumen estadístico para variables numericas\n",
        "publicidad.describe()"
      ]
    },
    {
      "cell_type": "markdown",
      "metadata": {
        "id": "P-BZfhn-6ZQo"
      },
      "source": [
        "El resumen estadístico se puede acompañar de gráficos para revisar la distribución y correlación entre variables."
      ]
    },
    {
      "cell_type": "code",
      "execution_count": 6,
      "metadata": {
        "colab": {
          "base_uri": "https://localhost:8080/",
          "height": 296
        },
        "id": "-FbisX8D6Y4t",
        "outputId": "488d72dd-c369-4ebe-8a8c-874ca410da67"
      },
      "outputs": [
        {
          "output_type": "execute_result",
          "data": {
            "text/plain": [
              "<matplotlib.axes._subplots.AxesSubplot at 0x7fce9cd1be50>"
            ]
          },
          "metadata": {},
          "execution_count": 6
        },
        {
          "output_type": "display_data",
          "data": {
            "text/plain": [
              "<Figure size 432x288 with 1 Axes>"
            ],
            "image/png": "[encoded data removed]"
          },
          "metadata": {
            "needs_background": "light"
          }
        }
      ],
      "source": [
        "# Histograma para las ventas\n",
        "sns.histplot(data=publicidad, x='ventas')"
      ]
    },
    {
      "cell_type": "code",
      "execution_count": 7,
      "metadata": {
        "id": "hr29sFhC7BaQ",
        "colab": {
          "base_uri": "https://localhost:8080/",
          "height": 296
        },
        "outputId": "70478c0e-9e66-4ff0-dea6-aefb09c05533"
      },
      "outputs": [
        {
          "output_type": "execute_result",
          "data": {
            "text/plain": [
              "<matplotlib.axes._subplots.AxesSubplot at 0x7fce9c5189d0>"
            ]
          },
          "metadata": {},
          "execution_count": 7
        },
        {
          "output_type": "display_data",
          "data": {
            "text/plain": [
              "<Figure size 432x288 with 1 Axes>"
            ],
            "image/png": "[encoded data removed]"
          },
          "metadata": {
            "needs_background": "light"
          }
        }
      ],
      "source": [
        "# Histograma para el gasto en tv. Escriba el código a continuación\n",
        "sns.histplot(data=publicidad, x='tv')"
      ]
    },
    {
      "cell_type": "code",
      "execution_count": 8,
      "metadata": {
        "id": "DIxA4lV97Lev",
        "colab": {
          "base_uri": "https://localhost:8080/",
          "height": 296
        },
        "outputId": "b5b7f5a9-4067-4253-fe40-3f6e7e0fd54d"
      },
      "outputs": [
        {
          "output_type": "execute_result",
          "data": {
            "text/plain": [
              "<matplotlib.axes._subplots.AxesSubplot at 0x7fce9bfeb790>"
            ]
          },
          "metadata": {},
          "execution_count": 8
        },
        {
          "output_type": "display_data",
          "data": {
            "text/plain": [
              "<Figure size 432x288 with 1 Axes>"
            ],
            "image/png": "[encoded data removed]"
          },
          "metadata": {
            "needs_background": "light"
          }
        }
      ],
      "source": [
        "# Histograma para el gasto en radio. Escriba el código a continuación\n",
        "sns.histplot(data=publicidad, x='radio')"
      ]
    },
    {
      "cell_type": "code",
      "execution_count": 9,
      "metadata": {
        "id": "y0FZqERC7Pih",
        "colab": {
          "base_uri": "https://localhost:8080/",
          "height": 296
        },
        "outputId": "c307284d-9c22-4b8e-9c57-a25ee98edcc2"
      },
      "outputs": [
        {
          "output_type": "execute_result",
          "data": {
            "text/plain": [
              "<matplotlib.axes._subplots.AxesSubplot at 0x7fce9bf7f210>"
            ]
          },
          "metadata": {},
          "execution_count": 9
        },
        {
          "output_type": "display_data",
          "data": {
            "text/plain": [
              "<Figure size 432x288 with 1 Axes>"
            ],
            "image/png": "[encoded data removed]"
          },
          "metadata": {
            "needs_background": "light"
          }
        }
      ],
      "source": [
        "# Histograma para el gasto en periodico. Escriba el código a continuación\n",
        "sns.histplot(data=publicidad, x='periodico')"
      ]
    },
    {
      "cell_type": "markdown",
      "metadata": {
        "id": "WuIhZVyP7aJM"
      },
      "source": [
        "Para variables categoricas se generan tablas de frecuencia."
      ]
    },
    {
      "cell_type": "code",
      "execution_count": 10,
      "metadata": {
        "colab": {
          "base_uri": "https://localhost:8080/"
        },
        "id": "jf_zMLBB7Y2O",
        "outputId": "7058046d-1350-4835-ecf8-724fa50f45f3"
      },
      "outputs": [
        {
          "output_type": "execute_result",
          "data": {
            "text/plain": [
              "sur          52\n",
              "oriente      50\n",
              "norte        50\n",
              "occidente    48\n",
              "Name: zona, dtype: int64"
            ]
          },
          "metadata": {},
          "execution_count": 10
        }
      ],
      "source": [
        "# Tabla de frecuencia para zona\n",
        "publicidad['zona'].value_counts()"
      ]
    },
    {
      "cell_type": "code",
      "execution_count": 11,
      "metadata": {
        "colab": {
          "base_uri": "https://localhost:8080/",
          "height": 296
        },
        "id": "LZKDDDcw8R24",
        "outputId": "94f72a7d-42de-4e8f-a41f-97a0dcc73054"
      },
      "outputs": [
        {
          "output_type": "execute_result",
          "data": {
            "text/plain": [
              "<matplotlib.axes._subplots.AxesSubplot at 0x7fce9bef4450>"
            ]
          },
          "metadata": {},
          "execution_count": 11
        },
        {
          "output_type": "display_data",
          "data": {
            "text/plain": [
              "<Figure size 432x288 with 1 Axes>"
            ],
            "image/png": "[encoded data removed]"
          },
          "metadata": {
            "needs_background": "light"
          }
        }
      ],
      "source": [
        "# Gráfico de Barra\n",
        "sns.countplot(data=publicidad, x='zona')"
      ]
    },
    {
      "cell_type": "markdown",
      "metadata": {
        "id": "I7tDnrrv8f-d"
      },
      "source": [
        "Dado que se quiere analizar la relación entre el gasto en publicidad y las ventas. Es recomendable hacer un análisis de la relación entre el gasto en publicidad para cada rubro y las ventas. Para esto podemos utilizar los gráficos de *dispersión*.\n",
        "\n",
        "En el eje $X$ ubique la variable dependiente (gasto) y en el eje $Y$ la variable dependiente."
      ]
    },
    {
      "cell_type": "code",
      "execution_count": 12,
      "metadata": {
        "colab": {
          "base_uri": "https://localhost:8080/",
          "height": 295
        },
        "id": "ZNmOG4ql877i",
        "outputId": "2388d616-444e-4692-f70b-a1f69742b076"
      },
      "outputs": [
        {
          "output_type": "display_data",
          "data": {
            "text/plain": [
              "<Figure size 432x288 with 1 Axes>"
            ],
            "image/png": "[encoded data removed]"
          },
          "metadata": {
            "needs_background": "light"
          }
        }
      ],
      "source": [
        "# Gráfico de dispersión gasto tv vs ventas\n",
        "sns.scatterplot(data=publicidad, x='tv', y='ventas', hue='zona')\n",
        "plt.grid(False)\n",
        "plt.title('ventas vs gasto en tv')\n",
        "plt.show()"
      ]
    },
    {
      "cell_type": "code",
      "execution_count": 13,
      "metadata": {
        "id": "-tKAhUdb9XEV"
      },
      "outputs": [],
      "source": [
        "# Gráfico de dispersión gasto radio vs ventas\n"
      ]
    },
    {
      "cell_type": "code",
      "execution_count": 14,
      "metadata": {
        "id": "TGoOMmsX9ZKb"
      },
      "outputs": [],
      "source": [
        "# Gráfico de dispersión gasto periodico vs ventas\n"
      ]
    },
    {
      "cell_type": "code",
      "source": [
        "sns.heatmap(publicidad.corr(), annot=True)"
      ],
      "metadata": {
        "colab": {
          "base_uri": "https://localhost:8080/",
          "height": 286
        },
        "id": "BhPEfevP_V4b",
        "outputId": "addbefbf-06d7-470c-a851-7d9415208277"
      },
      "execution_count": 15,
      "outputs": [
        {
          "output_type": "execute_result",
          "data": {
            "text/plain": [
              "<matplotlib.axes._subplots.AxesSubplot at 0x7fce9c053a90>"
            ]
          },
          "metadata": {},
          "execution_count": 15
        },
        {
          "output_type": "display_data",
          "data": {
            "text/plain": [
              "<Figure size 432x288 with 2 Axes>"
            ],
            "image/png": "[encoded data removed]"
          },
          "metadata": {
            "needs_background": "light"
          }
        }
      ]
    },
    {
      "cell_type": "markdown",
      "metadata": {
        "id": "pogLuS0k9gCq"
      },
      "source": [
        "Cuando se tiene una variable categorica y una variable numérica se pueden utilizar los gráficos de caja para estudiar la relación entre las dos variables. Esta gráfica muestra la distribución de las ventas en las diferentes zonas, y las compara entre si."
      ]
    },
    {
      "cell_type": "code",
      "execution_count": 16,
      "metadata": {
        "colab": {
          "base_uri": "https://localhost:8080/",
          "height": 296
        },
        "id": "blNagEZG9n9c",
        "outputId": "baef19d4-472f-4689-ce8b-ad92d3a537fb"
      },
      "outputs": [
        {
          "output_type": "execute_result",
          "data": {
            "text/plain": [
              "<matplotlib.axes._subplots.AxesSubplot at 0x7fce99547290>"
            ]
          },
          "metadata": {},
          "execution_count": 16
        },
        {
          "output_type": "display_data",
          "data": {
            "text/plain": [
              "<Figure size 432x288 with 1 Axes>"
            ],
            "image/png": "[encoded data removed]"
          },
          "metadata": {
            "needs_background": "light"
          }
        }
      ],
      "source": [
        "# Gráfico de caja zona vs ventas\n",
        "sns.boxplot(data=publicidad, x='zona', y='ventas')"
      ]
    },
    {
      "cell_type": "markdown",
      "metadata": {
        "id": "ymWsUlxPBhZr"
      },
      "source": [
        "A contiuación, escriba las 5 principales conclusiones del análisis exploratorio:\n",
        "\n",
        "- \n",
        "-\n",
        "-\n",
        "-\n",
        "-"
      ]
    },
    {
      "cell_type": "markdown",
      "metadata": {
        "id": "xBjVtIc4-uEB"
      },
      "source": [
        "### Modelo de Regresión"
      ]
    },
    {
      "cell_type": "markdown",
      "metadata": {
        "id": "ZMqHkn1S_C3L"
      },
      "source": [
        "En primer lugar se dividen los datos en variables independientes y variable dependiente."
      ]
    },
    {
      "cell_type": "code",
      "execution_count": 17,
      "metadata": {
        "id": "ikD9IgUb_CMu",
        "colab": {
          "base_uri": "https://localhost:8080/",
          "height": 424
        },
        "outputId": "15803b48-b87a-48a0-998b-1d28ac2683c3"
      },
      "outputs": [
        {
          "output_type": "execute_result",
          "data": {
            "text/plain": [
              "        tv  radio  periodico       zona\n",
              "0    230.1   37.8       69.2  occidente\n",
              "1     44.5   39.3       45.1    oriente\n",
              "2     17.2   45.9       69.3  occidente\n",
              "3    151.5   41.3       58.5  occidente\n",
              "4    180.8   10.8       58.4    oriente\n",
              "..     ...    ...        ...        ...\n",
              "195   38.2    3.7       13.8      norte\n",
              "196   94.2    4.9        8.1        sur\n",
              "197  177.0    9.3        6.4    oriente\n",
              "198  283.6   42.0       66.2    oriente\n",
              "199  232.1    8.6        8.7      norte\n",
              "\n",
              "[200 rows x 4 columns]"
            ],
            "text/html": [
              "\n",
              "  <div id=\"df-6063d320-430b-457b-b181-577e91abb772\">\n",
              "    <div class=\"colab-df-container\">\n",
              "      <div>\n",
              "<style scoped>\n",
              "    .dataframe tbody tr th:only-of-type {\n",
              "        vertical-align: middle;\n",
              "    }\n",
              "\n",
              "    .dataframe tbody tr th {\n",
              "        vertical-align: top;\n",
              "    }\n",
              "\n",
              "    .dataframe thead th {\n",
              "        text-align: right;\n",
              "    }\n",
              "</style>\n",
              "<table border=\"1\" class=\"dataframe\">\n",
              "  <thead>\n",
              "    <tr style=\"text-align: right;\">\n",
              "      <th></th>\n",
              "      <th>tv</th>\n",
              "      <th>radio</th>\n",
              "      <th>periodico</th>\n",
              "      <th>zona</th>\n",
              "    </tr>\n",
              "  </thead>\n",
              "  <tbody>\n",
              "    <tr>\n",
              "      <th>0</th>\n",
              "      <td>230.1</td>\n",
              "      <td>37.8</td>\n",
              "      <td>69.2</td>\n",
              "      <td>occidente</td>\n",
              "    </tr>\n",
              "    <tr>\n",
              "      <th>1</th>\n",
              "      <td>44.5</td>\n",
              "      <td>39.3</td>\n",
              "      <td>45.1</td>\n",
              "      <td>oriente</td>\n",
              "    </tr>\n",
              "    <tr>\n",
              "      <th>2</th>\n",
              "      <td>17.2</td>\n",
              "      <td>45.9</td>\n",
              "      <td>69.3</td>\n",
              "      <td>occidente</td>\n",
              "    </tr>\n",
              "    <tr>\n",
              "      <th>3</th>\n",
              "      <td>151.5</td>\n",
              "      <td>41.3</td>\n",
              "      <td>58.5</td>\n",
              "      <td>occidente</td>\n",
              "    </tr>\n",
              "    <tr>\n",
              "      <th>4</th>\n",
              "      <td>180.8</td>\n",
              "      <td>10.8</td>\n",
              "      <td>58.4</td>\n",
              "      <td>oriente</td>\n",
              "    </tr>\n",
              "    <tr>\n",
              "      <th>...</th>\n",
              "      <td>...</td>\n",
              "      <td>...</td>\n",
              "      <td>...</td>\n",
              "      <td>...</td>\n",
              "    </tr>\n",
              "    <tr>\n",
              "      <th>195</th>\n",
              "      <td>38.2</td>\n",
              "      <td>3.7</td>\n",
              "      <td>13.8</td>\n",
              "      <td>norte</td>\n",
              "    </tr>\n",
              "    <tr>\n",
              "      <th>196</th>\n",
              "      <td>94.2</td>\n",
              "      <td>4.9</td>\n",
              "      <td>8.1</td>\n",
              "      <td>sur</td>\n",
              "    </tr>\n",
              "    <tr>\n",
              "      <th>197</th>\n",
              "      <td>177.0</td>\n",
              "      <td>9.3</td>\n",
              "      <td>6.4</td>\n",
              "      <td>oriente</td>\n",
              "    </tr>\n",
              "    <tr>\n",
              "      <th>198</th>\n",
              "      <td>283.6</td>\n",
              "      <td>42.0</td>\n",
              "      <td>66.2</td>\n",
              "      <td>oriente</td>\n",
              "    </tr>\n",
              "    <tr>\n",
              "      <th>199</th>\n",
              "      <td>232.1</td>\n",
              "      <td>8.6</td>\n",
              "      <td>8.7</td>\n",
              "      <td>norte</td>\n",
              "    </tr>\n",
              "  </tbody>\n",
              "</table>\n",
              "<p>200 rows × 4 columns</p>\n",
              "</div>\n",
              "      <button class=\"colab-df-convert\" onclick=\"convertToInteractive('df-6063d320-430b-457b-b181-577e91abb772')\"\n",
              "              title=\"Convert this dataframe to an interactive table.\"\n",
              "              style=\"display:none;\">\n",
              "        \n",
              "  <svg xmlns=\"http://www.w3.org/2000/svg\" height=\"24px\"viewBox=\"0 0 24 24\"\n",
              "       width=\"24px\">\n",
              "    <path d=\"M0 0h24v24H0V0z\" fill=\"none\"/>\n",
              "    <path d=\"M18.56 5.44l.94 2.06.94-2.06 2.06-.94-2.06-.94-.94-2.06-.94 2.06-2.06.94zm-11 1L8.5 8.5l.94-2.06 2.06-.94-2.06-.94L8.5 2.5l-.94 2.06-2.06.94zm10 10l.94 2.06.94-2.06 2.06-.94-2.06-.94-.94-2.06-.94 2.06-2.06.94z\"/><path d=\"M17.41 7.96l-1.37-1.37c-.4-.4-.92-.59-1.43-.59-.52 0-1.04.2-1.43.59L10.3 9.45l-7.72 7.72c-.78.78-.78 2.05 0 2.83L4 21.41c.39.39.9.59 1.41.59.51 0 1.02-.2 1.41-.59l7.78-7.78 2.81-2.81c.8-.78.8-2.07 0-2.86zM5.41 20L4 18.59l7.72-7.72 1.47 1.35L5.41 20z\"/>\n",
              "  </svg>\n",
              "      </button>\n",
              "      \n",
              "  <style>\n",
              "    .colab-df-container {\n",
              "      display:flex;\n",
              "      flex-wrap:wrap;\n",
              "      gap: 12px;\n",
              "    }\n",
              "\n",
              "    .colab-df-convert {\n",
              "      background-color: #E8F0FE;\n",
              "      border: none;\n",
              "      border-radius: 50%;\n",
              "      cursor: pointer;\n",
              "      display: none;\n",
              "      fill: #1967D2;\n",
              "      height: 32px;\n",
              "      padding: 0 0 0 0;\n",
              "      width: 32px;\n",
              "    }\n",
              "\n",
              "    .colab-df-convert:hover {\n",
              "      background-color: #E2EBFA;\n",
              "      box-shadow: 0px 1px 2px rgba(60, 64, 67, 0.3), 0px 1px 3px 1px rgba(60, 64, 67, 0.15);\n",
              "      fill: #174EA6;\n",
              "    }\n",
              "\n",
              "    [theme=dark] .colab-df-convert {\n",
              "      background-color: #3B4455;\n",
              "      fill: #D2E3FC;\n",
              "    }\n",
              "\n",
              "    [theme=dark] .colab-df-convert:hover {\n",
              "      background-color: #434B5C;\n",
              "      box-shadow: 0px 1px 3px 1px rgba(0, 0, 0, 0.15);\n",
              "      filter: drop-shadow(0px 1px 2px rgba(0, 0, 0, 0.3));\n",
              "      fill: #FFFFFF;\n",
              "    }\n",
              "  </style>\n",
              "\n",
              "      <script>\n",
              "        const buttonEl =\n",
              "          document.querySelector('#df-6063d320-430b-457b-b181-577e91abb772 button.colab-df-convert');\n",
              "        buttonEl.style.display =\n",
              "          google.colab.kernel.accessAllowed ? 'block' : 'none';\n",
              "\n",
              "        async function convertToInteractive(key) {\n",
              "          const element = document.querySelector('#df-6063d320-430b-457b-b181-577e91abb772');\n",
              "          const dataTable =\n",
              "            await google.colab.kernel.invokeFunction('convertToInteractive',\n",
              "                                                     [key], {});\n",
              "          if (!dataTable) return;\n",
              "\n",
              "          const docLinkHtml = 'Like what you see? Visit the ' +\n",
              "            '<a target=\"_blank\" href=https://colab.research.google.com/notebooks/data_table.ipynb>data table notebook</a>'\n",
              "            + ' to learn more about interactive tables.';\n",
              "          element.innerHTML = '';\n",
              "          dataTable['output_type'] = 'display_data';\n",
              "          await google.colab.output.renderOutput(dataTable, element);\n",
              "          const docLink = document.createElement('div');\n",
              "          docLink.innerHTML = docLinkHtml;\n",
              "          element.appendChild(docLink);\n",
              "        }\n",
              "      </script>\n",
              "    </div>\n",
              "  </div>\n",
              "  "
            ]
          },
          "metadata": {},
          "execution_count": 17
        }
      ],
      "source": [
        "# Variable dependiente\n",
        "Y = publicidad['ventas']\n",
        "# Variables independientes\n",
        "X = publicidad[['tv','radio','periodico','zona']]\n",
        "X"
      ]
    },
    {
      "cell_type": "markdown",
      "metadata": {
        "id": "lX_u254I-0KI"
      },
      "source": [
        "Dado que tenemos una variable categorica, primero tenemos que crear una variable dummy."
      ]
    },
    {
      "cell_type": "code",
      "execution_count": 18,
      "metadata": {
        "colab": {
          "base_uri": "https://localhost:8080/",
          "height": 424
        },
        "id": "Ue8ggtqT-zAK",
        "outputId": "652790a2-8187-4e1d-8deb-e81bb624c053"
      },
      "outputs": [
        {
          "output_type": "execute_result",
          "data": {
            "text/plain": [
              "        tv  radio  periodico  zona_occidente  zona_oriente  zona_sur\n",
              "0    230.1   37.8       69.2               1             0         0\n",
              "1     44.5   39.3       45.1               0             1         0\n",
              "2     17.2   45.9       69.3               1             0         0\n",
              "3    151.5   41.3       58.5               1             0         0\n",
              "4    180.8   10.8       58.4               0             1         0\n",
              "..     ...    ...        ...             ...           ...       ...\n",
              "195   38.2    3.7       13.8               0             0         0\n",
              "196   94.2    4.9        8.1               0             0         1\n",
              "197  177.0    9.3        6.4               0             1         0\n",
              "198  283.6   42.0       66.2               0             1         0\n",
              "199  232.1    8.6        8.7               0             0         0\n",
              "\n",
              "[200 rows x 6 columns]"
            ],
            "text/html": [
              "\n",
              "  <div id=\"df-c2393474-f884-40ac-a859-39d8c7ce3951\">\n",
              "    <div class=\"colab-df-container\">\n",
              "      <div>\n",
              "<style scoped>\n",
              "    .dataframe tbody tr th:only-of-type {\n",
              "        vertical-align: middle;\n",
              "    }\n",
              "\n",
              "    .dataframe tbody tr th {\n",
              "        vertical-align: top;\n",
              "    }\n",
              "\n",
              "    .dataframe thead th {\n",
              "        text-align: right;\n",
              "    }\n",
              "</style>\n",
              "<table border=\"1\" class=\"dataframe\">\n",
              "  <thead>\n",
              "    <tr style=\"text-align: right;\">\n",
              "      <th></th>\n",
              "      <th>tv</th>\n",
              "      <th>radio</th>\n",
              "      <th>periodico</th>\n",
              "      <th>zona_occidente</th>\n",
              "      <th>zona_oriente</th>\n",
              "      <th>zona_sur</th>\n",
              "    </tr>\n",
              "  </thead>\n",
              "  <tbody>\n",
              "    <tr>\n",
              "      <th>0</th>\n",
              "      <td>230.1</td>\n",
              "      <td>37.8</td>\n",
              "      <td>69.2</td>\n",
              "      <td>1</td>\n",
              "      <td>0</td>\n",
              "      <td>0</td>\n",
              "    </tr>\n",
              "    <tr>\n",
              "      <th>1</th>\n",
              "      <td>44.5</td>\n",
              "      <td>39.3</td>\n",
              "      <td>45.1</td>\n",
              "      <td>0</td>\n",
              "      <td>1</td>\n",
              "      <td>0</td>\n",
              "    </tr>\n",
              "    <tr>\n",
              "      <th>2</th>\n",
              "      <td>17.2</td>\n",
              "      <td>45.9</td>\n",
              "      <td>69.3</td>\n",
              "      <td>1</td>\n",
              "      <td>0</td>\n",
              "      <td>0</td>\n",
              "    </tr>\n",
              "    <tr>\n",
              "      <th>3</th>\n",
              "      <td>151.5</td>\n",
              "      <td>41.3</td>\n",
              "      <td>58.5</td>\n",
              "      <td>1</td>\n",
              "      <td>0</td>\n",
              "      <td>0</td>\n",
              "    </tr>\n",
              "    <tr>\n",
              "      <th>4</th>\n",
              "      <td>180.8</td>\n",
              "      <td>10.8</td>\n",
              "      <td>58.4</td>\n",
              "      <td>0</td>\n",
              "      <td>1</td>\n",
              "      <td>0</td>\n",
              "    </tr>\n",
              "    <tr>\n",
              "      <th>...</th>\n",
              "      <td>...</td>\n",
              "      <td>...</td>\n",
              "      <td>...</td>\n",
              "      <td>...</td>\n",
              "      <td>...</td>\n",
              "      <td>...</td>\n",
              "    </tr>\n",
              "    <tr>\n",
              "      <th>195</th>\n",
              "      <td>38.2</td>\n",
              "      <td>3.7</td>\n",
              "      <td>13.8</td>\n",
              "      <td>0</td>\n",
              "      <td>0</td>\n",
              "      <td>0</td>\n",
              "    </tr>\n",
              "    <tr>\n",
              "      <th>196</th>\n",
              "      <td>94.2</td>\n",
              "      <td>4.9</td>\n",
              "      <td>8.1</td>\n",
              "      <td>0</td>\n",
              "      <td>0</td>\n",
              "      <td>1</td>\n",
              "    </tr>\n",
              "    <tr>\n",
              "      <th>197</th>\n",
              "      <td>177.0</td>\n",
              "      <td>9.3</td>\n",
              "      <td>6.4</td>\n",
              "      <td>0</td>\n",
              "      <td>1</td>\n",
              "      <td>0</td>\n",
              "    </tr>\n",
              "    <tr>\n",
              "      <th>198</th>\n",
              "      <td>283.6</td>\n",
              "      <td>42.0</td>\n",
              "      <td>66.2</td>\n",
              "      <td>0</td>\n",
              "      <td>1</td>\n",
              "      <td>0</td>\n",
              "    </tr>\n",
              "    <tr>\n",
              "      <th>199</th>\n",
              "      <td>232.1</td>\n",
              "      <td>8.6</td>\n",
              "      <td>8.7</td>\n",
              "      <td>0</td>\n",
              "      <td>0</td>\n",
              "      <td>0</td>\n",
              "    </tr>\n",
              "  </tbody>\n",
              "</table>\n",
              "<p>200 rows × 6 columns</p>\n",
              "</div>\n",
              "      <button class=\"colab-df-convert\" onclick=\"convertToInteractive('df-c2393474-f884-40ac-a859-39d8c7ce3951')\"\n",
              "              title=\"Convert this dataframe to an interactive table.\"\n",
              "              style=\"display:none;\">\n",
              "        \n",
              "  <svg xmlns=\"http://www.w3.org/2000/svg\" height=\"24px\"viewBox=\"0 0 24 24\"\n",
              "       width=\"24px\">\n",
              "    <path d=\"M0 0h24v24H0V0z\" fill=\"none\"/>\n",
              "    <path d=\"M18.56 5.44l.94 2.06.94-2.06 2.06-.94-2.06-.94-.94-2.06-.94 2.06-2.06.94zm-11 1L8.5 8.5l.94-2.06 2.06-.94-2.06-.94L8.5 2.5l-.94 2.06-2.06.94zm10 10l.94 2.06.94-2.06 2.06-.94-2.06-.94-.94-2.06-.94 2.06-2.06.94z\"/><path d=\"M17.41 7.96l-1.37-1.37c-.4-.4-.92-.59-1.43-.59-.52 0-1.04.2-1.43.59L10.3 9.45l-7.72 7.72c-.78.78-.78 2.05 0 2.83L4 21.41c.39.39.9.59 1.41.59.51 0 1.02-.2 1.41-.59l7.78-7.78 2.81-2.81c.8-.78.8-2.07 0-2.86zM5.41 20L4 18.59l7.72-7.72 1.47 1.35L5.41 20z\"/>\n",
              "  </svg>\n",
              "      </button>\n",
              "      \n",
              "  <style>\n",
              "    .colab-df-container {\n",
              "      display:flex;\n",
              "      flex-wrap:wrap;\n",
              "      gap: 12px;\n",
              "    }\n",
              "\n",
              "    .colab-df-convert {\n",
              "      background-color: #E8F0FE;\n",
              "      border: none;\n",
              "      border-radius: 50%;\n",
              "      cursor: pointer;\n",
              "      display: none;\n",
              "      fill: #1967D2;\n",
              "      height: 32px;\n",
              "      padding: 0 0 0 0;\n",
              "      width: 32px;\n",
              "    }\n",
              "\n",
              "    .colab-df-convert:hover {\n",
              "      background-color: #E2EBFA;\n",
              "      box-shadow: 0px 1px 2px rgba(60, 64, 67, 0.3), 0px 1px 3px 1px rgba(60, 64, 67, 0.15);\n",
              "      fill: #174EA6;\n",
              "    }\n",
              "\n",
              "    [theme=dark] .colab-df-convert {\n",
              "      background-color: #3B4455;\n",
              "      fill: #D2E3FC;\n",
              "    }\n",
              "\n",
              "    [theme=dark] .colab-df-convert:hover {\n",
              "      background-color: #434B5C;\n",
              "      box-shadow: 0px 1px 3px 1px rgba(0, 0, 0, 0.15);\n",
              "      filter: drop-shadow(0px 1px 2px rgba(0, 0, 0, 0.3));\n",
              "      fill: #FFFFFF;\n",
              "    }\n",
              "  </style>\n",
              "\n",
              "      <script>\n",
              "        const buttonEl =\n",
              "          document.querySelector('#df-c2393474-f884-40ac-a859-39d8c7ce3951 button.colab-df-convert');\n",
              "        buttonEl.style.display =\n",
              "          google.colab.kernel.accessAllowed ? 'block' : 'none';\n",
              "\n",
              "        async function convertToInteractive(key) {\n",
              "          const element = document.querySelector('#df-c2393474-f884-40ac-a859-39d8c7ce3951');\n",
              "          const dataTable =\n",
              "            await google.colab.kernel.invokeFunction('convertToInteractive',\n",
              "                                                     [key], {});\n",
              "          if (!dataTable) return;\n",
              "\n",
              "          const docLinkHtml = 'Like what you see? Visit the ' +\n",
              "            '<a target=\"_blank\" href=https://colab.research.google.com/notebooks/data_table.ipynb>data table notebook</a>'\n",
              "            + ' to learn more about interactive tables.';\n",
              "          element.innerHTML = '';\n",
              "          dataTable['output_type'] = 'display_data';\n",
              "          await google.colab.output.renderOutput(dataTable, element);\n",
              "          const docLink = document.createElement('div');\n",
              "          docLink.innerHTML = docLinkHtml;\n",
              "          element.appendChild(docLink);\n",
              "        }\n",
              "      </script>\n",
              "    </div>\n",
              "  </div>\n",
              "  "
            ]
          },
          "metadata": {},
          "execution_count": 18
        }
      ],
      "source": [
        "# Crear variables dummies\n",
        "# drop_first=True retira una de las categorias. Esto es necesario para construir \n",
        "# un modelo de regresión\n",
        "X = pd.get_dummies(X, drop_first=True)\n",
        "X"
      ]
    },
    {
      "cell_type": "code",
      "execution_count": 19,
      "metadata": {
        "colab": {
          "base_uri": "https://localhost:8080/"
        },
        "id": "KsposC6y-wvq",
        "outputId": "01fab841-3ad5-40c3-fcb0-a07a9f07f9bb"
      },
      "outputs": [
        {
          "output_type": "stream",
          "name": "stdout",
          "text": [
            "                            OLS Regression Results                            \n",
            "==============================================================================\n",
            "Dep. Variable:                 ventas   R-squared:                       0.900\n",
            "Model:                            OLS   Adj. R-squared:                  0.897\n",
            "Method:                 Least Squares   F-statistic:                     289.6\n",
            "Date:                Wed, 23 Nov 2022   Prob (F-statistic):           1.18e-93\n",
            "Time:                        20:34:49   Log-Likelihood:                -383.39\n",
            "No. Observations:                 200   AIC:                             780.8\n",
            "Df Residuals:                     193   BIC:                             803.9\n",
            "Df Model:                           6                                         \n",
            "Covariance Type:            nonrobust                                         \n",
            "==================================================================================\n",
            "                     coef    std err          t      P>|t|      [0.025      0.975]\n",
            "----------------------------------------------------------------------------------\n",
            "const              3.0974      0.370      8.369      0.000       2.367       3.827\n",
            "tv                 0.0459      0.001     33.069      0.000       0.043       0.049\n",
            "radio              0.1879      0.009     21.841      0.000       0.171       0.205\n",
            "periodico         -0.0003      0.006     -0.048      0.962      -0.012       0.011\n",
            "zona_occidente     0.0057      0.341      0.017      0.987      -0.666       0.678\n",
            "zona_oriente      -0.0557      0.338     -0.165      0.869      -0.723       0.611\n",
            "zona_sur          -0.6473      0.334     -1.936      0.054      -1.307       0.012\n",
            "==============================================================================\n",
            "Omnibus:                       50.833   Durbin-Watson:                   2.053\n",
            "Prob(Omnibus):                  0.000   Jarque-Bera (JB):              106.623\n",
            "Skew:                          -1.191   Prob(JB):                     7.03e-24\n",
            "Kurtosis:                       5.669   Cond. No.                         790.\n",
            "==============================================================================\n",
            "\n",
            "Notes:\n",
            "[1] Standard Errors assume that the covariance matrix of the errors is correctly specified.\n"
          ]
        },
        {
          "output_type": "stream",
          "name": "stderr",
          "text": [
            "/usr/local/lib/python3.7/dist-packages/statsmodels/tsa/tsatools.py:142: FutureWarning: In a future version of pandas all arguments of concat except for the argument 'objs' will be keyword-only\n",
            "  x = pd.concat(x[::order], 1)\n"
          ]
        }
      ],
      "source": [
        "# Agregar la constante al modelo\n",
        "X = sm.add_constant(X)\n",
        "\n",
        "# Crear el modelo y ajustarlo\n",
        "modelo_regresion = sm.OLS(Y, X).fit()\n",
        "\n",
        "# Generar un resumen del modelo\n",
        "print(modelo_regresion.summary())"
      ]
    },
    {
      "cell_type": "markdown",
      "metadata": {
        "id": "NpRcGXYRAM6_"
      },
      "source": [
        "### Análisis de las predicciones\n",
        "\n",
        "A continuación se presenta un gráfico que compara las predicciones de las ventas con su valor real."
      ]
    },
    {
      "cell_type": "code",
      "source": [
        "modelo_regresion.predict()"
      ],
      "metadata": {
        "colab": {
          "base_uri": "https://localhost:8080/"
        },
        "id": "tmciukGfNDHU",
        "outputId": "f4ce82ad-0030-4212-826c-fd7871a14d16"
      },
      "execution_count": 21,
      "outputs": [
        {
          "output_type": "execute_result",
          "data": {
            "text/plain": [
              "array([20.73838754, 12.45287515, 12.49512653, 17.79382461, 13.34673523,\n",
              "       12.60590506, 11.88979387, 12.28921591,  3.88603329, 12.7495394 ,\n",
              "        6.56456442, 17.45226601, 10.11694718,  9.00066493, 18.62622049,\n",
              "       21.01120654, 13.05631372, 23.42755918,  9.4699152 , 14.28219967,\n",
              "       18.30316583, 14.8817688 ,  6.67580029, 16.73601763,  8.26101852,\n",
              "       15.81323623, 15.15231406, 16.59327024, 19.59334736,  9.33543388,\n",
              "       21.18844393, 10.88619936,  7.77323576, 19.0421209 ,  7.74766722,\n",
              "       16.55113012, 22.91845319, 15.79089129, 10.08013192, 20.62806905,\n",
              "       16.5655884 , 16.83190818, 21.11946617, 14.16330224,  8.41705954,\n",
              "       15.29079127,  8.41398896, 21.83585971, 16.47226336,  8.35906505,\n",
              "       12.77837179,  9.51040326, 20.78965155, 20.14070519, 20.55787478,\n",
              "       21.48910119,  8.64369132, 12.89085763, 22.0730787 , 18.24486317,\n",
              "        5.86523458, 23.08831969, 16.32991203, 13.36603638, 17.1425948 ,\n",
              "        8.00894596,  9.10716012, 12.213241  , 18.50163844, 21.28610049,\n",
              "       17.31954609, 10.81091636, 10.46479063, 10.10009151, 17.5027983 ,\n",
              "       11.40944597,  4.59777104, 13.91851183,  8.31202459,  9.21051865,\n",
              "       11.61106709, 14.20857004, 10.35545949, 14.5842698 , 20.31082945,\n",
              "       15.39680924, 11.75853654, 15.13668228, 11.26976578, 17.0986157 ,\n",
              "       10.18072948,  4.68164963, 18.71173893, 20.7943283 , 10.65032396,\n",
              "       15.86141023, 12.81633958, 15.52249273, 24.26108828, 17.06355901,\n",
              "       14.03610343, 23.48861398, 17.84038121, 14.94738333, 20.47035211,\n",
              "       18.06664839,  6.24644013,  7.23782775,  3.71049418, 19.86337995,\n",
              "       14.92281084, 21.25959617, 14.04836342, 16.58341544, 15.47180357,\n",
              "       13.10778471, 11.51376948,  6.75332381, 15.71675944,  6.33930278,\n",
              "       14.54417751,  8.02200018, 13.82349931, 14.5925463 , 19.67058101,\n",
              "        9.25066171, 10.10124813,  6.77890182, 22.41144844,  8.07883038,\n",
              "        9.91887076, 15.14642456,  7.94445768, 19.40361763, 11.37537865,\n",
              "       14.13961996, 11.60103901, 21.06888213,  9.93502552, 19.82447279,\n",
              "        9.65955458, 18.61054232, 18.78973423,  8.30875577, 10.22337712,\n",
              "        9.89243685, 14.83139689, 22.79724745, 12.4075978 ,  9.99418393,\n",
              "       18.51712381, 10.21714436, 16.47792356, 17.75425632, 15.0248147 ,\n",
              "        4.81564185, 15.50614306, 10.21115133, 10.49758233, 12.52911746,\n",
              "       14.40085752, 13.68387416, 14.48423813, 17.45188112, 11.23285672,\n",
              "       14.47350988, 10.98141419, 13.5538727 , 16.74684888, 18.07090765,\n",
              "        7.56464758, 13.90791698,  7.7731686 , 12.0957333 , 13.28568671,\n",
              "       24.91650469, 19.51076808, 12.36483163, 15.56659143, 11.91909226,\n",
              "       10.7717504 , 13.47850724,  6.09015969, 24.29048276, 18.67544095,\n",
              "       20.31945856,  9.82703917, 17.25443421, 18.82523613,  6.16589744,\n",
              "       12.63406149,  8.59309382,  4.0002779 , 18.63683397, 16.59389377,\n",
              "        5.54064456,  7.6888513 , 12.90526623, 23.9207341 , 15.35600583])"
            ]
          },
          "metadata": {},
          "execution_count": 21
        }
      ]
    },
    {
      "cell_type": "code",
      "source": [
        "modelo_regresion.predict(\n",
        "pd.DataFrame({\n",
        "'const':[1,1],\n",
        "'tv':[150,151],\n",
        "'radio':[34,50],\n",
        "'periodico':[43,34],\n",
        "'zona_occidente':[1,0],\n",
        "'zona_oriente':[0,1],\n",
        "'zona_sur':[0,0]\n",
        "})\n",
        "    )"
      ],
      "metadata": {
        "colab": {
          "base_uri": "https://localhost:8080/"
        },
        "id": "XuQlbDoENg4q",
        "outputId": "688d5048-a10b-43fc-f7dc-530e0cffea38"
      },
      "execution_count": 26,
      "outputs": [
        {
          "output_type": "execute_result",
          "data": {
            "text/plain": [
              "0    16.358019\n",
              "1    19.350805\n",
              "dtype: float64"
            ]
          },
          "metadata": {},
          "execution_count": 26
        }
      ]
    },
    {
      "cell_type": "code",
      "source": [
        "X"
      ],
      "metadata": {
        "colab": {
          "base_uri": "https://localhost:8080/",
          "height": 424
        },
        "id": "6OtnikkLOkV8",
        "outputId": "592aea05-59cc-41cf-ab4f-7e9bd4fbf499"
      },
      "execution_count": 24,
      "outputs": [
        {
          "output_type": "execute_result",
          "data": {
            "text/plain": [
              "     const     tv  radio  periodico  zona_occidente  zona_oriente  zona_sur\n",
              "0      1.0  230.1   37.8       69.2               1             0         0\n",
              "1      1.0   44.5   39.3       45.1               0             1         0\n",
              "2      1.0   17.2   45.9       69.3               1             0         0\n",
              "3      1.0  151.5   41.3       58.5               1             0         0\n",
              "4      1.0  180.8   10.8       58.4               0             1         0\n",
              "..     ...    ...    ...        ...             ...           ...       ...\n",
              "195    1.0   38.2    3.7       13.8               0             0         0\n",
              "196    1.0   94.2    4.9        8.1               0             0         1\n",
              "197    1.0  177.0    9.3        6.4               0             1         0\n",
              "198    1.0  283.6   42.0       66.2               0             1         0\n",
              "199    1.0  232.1    8.6        8.7               0             0         0\n",
              "\n",
              "[200 rows x 7 columns]"
            ],
            "text/html": [
              "\n",
              "  <div id=\"df-10a54846-8f41-48a6-aba9-17018ffd05ab\">\n",
              "    <div class=\"colab-df-container\">\n",
              "      <div>\n",
              "<style scoped>\n",
              "    .dataframe tbody tr th:only-of-type {\n",
              "        vertical-align: middle;\n",
              "    }\n",
              "\n",
              "    .dataframe tbody tr th {\n",
              "        vertical-align: top;\n",
              "    }\n",
              "\n",
              "    .dataframe thead th {\n",
              "        text-align: right;\n",
              "    }\n",
              "</style>\n",
              "<table border=\"1\" class=\"dataframe\">\n",
              "  <thead>\n",
              "    <tr style=\"text-align: right;\">\n",
              "      <th></th>\n",
              "      <th>const</th>\n",
              "      <th>tv</th>\n",
              "      <th>radio</th>\n",
              "      <th>periodico</th>\n",
              "      <th>zona_occidente</th>\n",
              "      <th>zona_oriente</th>\n",
              "      <th>zona_sur</th>\n",
              "    </tr>\n",
              "  </thead>\n",
              "  <tbody>\n",
              "    <tr>\n",
              "      <th>0</th>\n",
              "      <td>1.0</td>\n",
              "      <td>230.1</td>\n",
              "      <td>37.8</td>\n",
              "      <td>69.2</td>\n",
              "      <td>1</td>\n",
              "      <td>0</td>\n",
              "      <td>0</td>\n",
              "    </tr>\n",
              "    <tr>\n",
              "      <th>1</th>\n",
              "      <td>1.0</td>\n",
              "      <td>44.5</td>\n",
              "      <td>39.3</td>\n",
              "      <td>45.1</td>\n",
              "      <td>0</td>\n",
              "      <td>1</td>\n",
              "      <td>0</td>\n",
              "    </tr>\n",
              "    <tr>\n",
              "      <th>2</th>\n",
              "      <td>1.0</td>\n",
              "      <td>17.2</td>\n",
              "      <td>45.9</td>\n",
              "      <td>69.3</td>\n",
              "      <td>1</td>\n",
              "      <td>0</td>\n",
              "      <td>0</td>\n",
              "    </tr>\n",
              "    <tr>\n",
              "      <th>3</th>\n",
              "      <td>1.0</td>\n",
              "      <td>151.5</td>\n",
              "      <td>41.3</td>\n",
              "      <td>58.5</td>\n",
              "      <td>1</td>\n",
              "      <td>0</td>\n",
              "      <td>0</td>\n",
              "    </tr>\n",
              "    <tr>\n",
              "      <th>4</th>\n",
              "      <td>1.0</td>\n",
              "      <td>180.8</td>\n",
              "      <td>10.8</td>\n",
              "      <td>58.4</td>\n",
              "      <td>0</td>\n",
              "      <td>1</td>\n",
              "      <td>0</td>\n",
              "    </tr>\n",
              "    <tr>\n",
              "      <th>...</th>\n",
              "      <td>...</td>\n",
              "      <td>...</td>\n",
              "      <td>...</td>\n",
              "      <td>...</td>\n",
              "      <td>...</td>\n",
              "      <td>...</td>\n",
              "      <td>...</td>\n",
              "    </tr>\n",
              "    <tr>\n",
              "      <th>195</th>\n",
              "      <td>1.0</td>\n",
              "      <td>38.2</td>\n",
              "      <td>3.7</td>\n",
              "      <td>13.8</td>\n",
              "      <td>0</td>\n",
              "      <td>0</td>\n",
              "      <td>0</td>\n",
              "    </tr>\n",
              "    <tr>\n",
              "      <th>196</th>\n",
              "      <td>1.0</td>\n",
              "      <td>94.2</td>\n",
              "      <td>4.9</td>\n",
              "      <td>8.1</td>\n",
              "      <td>0</td>\n",
              "      <td>0</td>\n",
              "      <td>1</td>\n",
              "    </tr>\n",
              "    <tr>\n",
              "      <th>197</th>\n",
              "      <td>1.0</td>\n",
              "      <td>177.0</td>\n",
              "      <td>9.3</td>\n",
              "      <td>6.4</td>\n",
              "      <td>0</td>\n",
              "      <td>1</td>\n",
              "      <td>0</td>\n",
              "    </tr>\n",
              "    <tr>\n",
              "      <th>198</th>\n",
              "      <td>1.0</td>\n",
              "      <td>283.6</td>\n",
              "      <td>42.0</td>\n",
              "      <td>66.2</td>\n",
              "      <td>0</td>\n",
              "      <td>1</td>\n",
              "      <td>0</td>\n",
              "    </tr>\n",
              "    <tr>\n",
              "      <th>199</th>\n",
              "      <td>1.0</td>\n",
              "      <td>232.1</td>\n",
              "      <td>8.6</td>\n",
              "      <td>8.7</td>\n",
              "      <td>0</td>\n",
              "      <td>0</td>\n",
              "      <td>0</td>\n",
              "    </tr>\n",
              "  </tbody>\n",
              "</table>\n",
              "<p>200 rows × 7 columns</p>\n",
              "</div>\n",
              "      <button class=\"colab-df-convert\" onclick=\"convertToInteractive('df-10a54846-8f41-48a6-aba9-17018ffd05ab')\"\n",
              "              title=\"Convert this dataframe to an interactive table.\"\n",
              "              style=\"display:none;\">\n",
              "        \n",
              "  <svg xmlns=\"http://www.w3.org/2000/svg\" height=\"24px\"viewBox=\"0 0 24 24\"\n",
              "       width=\"24px\">\n",
              "    <path d=\"M0 0h24v24H0V0z\" fill=\"none\"/>\n",
              "    <path d=\"M18.56 5.44l.94 2.06.94-2.06 2.06-.94-2.06-.94-.94-2.06-.94 2.06-2.06.94zm-11 1L8.5 8.5l.94-2.06 2.06-.94-2.06-.94L8.5 2.5l-.94 2.06-2.06.94zm10 10l.94 2.06.94-2.06 2.06-.94-2.06-.94-.94-2.06-.94 2.06-2.06.94z\"/><path d=\"M17.41 7.96l-1.37-1.37c-.4-.4-.92-.59-1.43-.59-.52 0-1.04.2-1.43.59L10.3 9.45l-7.72 7.72c-.78.78-.78 2.05 0 2.83L4 21.41c.39.39.9.59 1.41.59.51 0 1.02-.2 1.41-.59l7.78-7.78 2.81-2.81c.8-.78.8-2.07 0-2.86zM5.41 20L4 18.59l7.72-7.72 1.47 1.35L5.41 20z\"/>\n",
              "  </svg>\n",
              "      </button>\n",
              "      \n",
              "  <style>\n",
              "    .colab-df-container {\n",
              "      display:flex;\n",
              "      flex-wrap:wrap;\n",
              "      gap: 12px;\n",
              "    }\n",
              "\n",
              "    .colab-df-convert {\n",
              "      background-color: #E8F0FE;\n",
              "      border: none;\n",
              "      border-radius: 50%;\n",
              "      cursor: pointer;\n",
              "      display: none;\n",
              "      fill: #1967D2;\n",
              "      height: 32px;\n",
              "      padding: 0 0 0 0;\n",
              "      width: 32px;\n",
              "    }\n",
              "\n",
              "    .colab-df-convert:hover {\n",
              "      background-color: #E2EBFA;\n",
              "      box-shadow: 0px 1px 2px rgba(60, 64, 67, 0.3), 0px 1px 3px 1px rgba(60, 64, 67, 0.15);\n",
              "      fill: #174EA6;\n",
              "    }\n",
              "\n",
              "    [theme=dark] .colab-df-convert {\n",
              "      background-color: #3B4455;\n",
              "      fill: #D2E3FC;\n",
              "    }\n",
              "\n",
              "    [theme=dark] .colab-df-convert:hover {\n",
              "      background-color: #434B5C;\n",
              "      box-shadow: 0px 1px 3px 1px rgba(0, 0, 0, 0.15);\n",
              "      filter: drop-shadow(0px 1px 2px rgba(0, 0, 0, 0.3));\n",
              "      fill: #FFFFFF;\n",
              "    }\n",
              "  </style>\n",
              "\n",
              "      <script>\n",
              "        const buttonEl =\n",
              "          document.querySelector('#df-10a54846-8f41-48a6-aba9-17018ffd05ab button.colab-df-convert');\n",
              "        buttonEl.style.display =\n",
              "          google.colab.kernel.accessAllowed ? 'block' : 'none';\n",
              "\n",
              "        async function convertToInteractive(key) {\n",
              "          const element = document.querySelector('#df-10a54846-8f41-48a6-aba9-17018ffd05ab');\n",
              "          const dataTable =\n",
              "            await google.colab.kernel.invokeFunction('convertToInteractive',\n",
              "                                                     [key], {});\n",
              "          if (!dataTable) return;\n",
              "\n",
              "          const docLinkHtml = 'Like what you see? Visit the ' +\n",
              "            '<a target=\"_blank\" href=https://colab.research.google.com/notebooks/data_table.ipynb>data table notebook</a>'\n",
              "            + ' to learn more about interactive tables.';\n",
              "          element.innerHTML = '';\n",
              "          dataTable['output_type'] = 'display_data';\n",
              "          await google.colab.output.renderOutput(dataTable, element);\n",
              "          const docLink = document.createElement('div');\n",
              "          docLink.innerHTML = docLinkHtml;\n",
              "          element.appendChild(docLink);\n",
              "        }\n",
              "      </script>\n",
              "    </div>\n",
              "  </div>\n",
              "  "
            ]
          },
          "metadata": {},
          "execution_count": 24
        }
      ]
    },
    {
      "cell_type": "code",
      "execution_count": 30,
      "metadata": {
        "colab": {
          "base_uri": "https://localhost:8080/",
          "height": 350
        },
        "id": "Cmf0vAmDAPHJ",
        "outputId": "ac06b182-9559-41ce-c39f-1e5c4f5772dd"
      },
      "outputs": [
        {
          "output_type": "display_data",
          "data": {
            "text/plain": [
              "<Figure size 576x360 with 1 Axes>"
            ],
            "image/png": "[encoded data removed]"
          },
          "metadata": {
            "needs_background": "light"
          }
        }
      ],
      "source": [
        "fig = plt.figure(figsize=(8,5))\n",
        "plt.scatter(Y, modelo_regresion.predict())\n",
        "plt.plot([np.min(Y),np.max(Y)],[np.min(Y),np.max(Y)], color='red')\n",
        "plt.title('Ventas Reales vs Ventas Estimadas')\n",
        "plt.xlabel('Ventas reales')\n",
        "plt.ylabel('Ventas estimadas')\n",
        "plt.grid()\n",
        "plt.show()"
      ]
    },
    {
      "cell_type": "code",
      "execution_count": null,
      "metadata": {
        "colab": {
          "base_uri": "https://localhost:8080/"
        },
        "id": "8kDGWPzEAzju",
        "outputId": "624e79b6-f827-4346-e9f0-bc8736aa0622"
      },
      "outputs": [
        {
          "output_type": "stream",
          "name": "stdout",
          "text": [
            "El MSE = 2.71\n",
            "El RMSE = 1.65\n",
            "El CV = 0.12\n"
          ]
        }
      ],
      "source": [
        "# Calcular MSE\n",
        "mse = np.mean((Y - modelo_regresion.predict())**2)\n",
        "\n",
        "# Calcular RMSE\n",
        "rmse = np.sqrt(mse)\n",
        "\n",
        "# Calcular coeficiente de variación\n",
        "cv = rmse/np.mean(Y)\n",
        "\n",
        "# Imprimir resultados\n",
        "print(\"El MSE = {:.2f}\".format(mse))\n",
        "print(\"El RMSE = {:.2f}\".format(rmse))\n",
        "print(\"El CV = {:.2f}\".format(cv))"
      ]
    },
    {
      "cell_type": "markdown",
      "metadata": {
        "id": "mgLojzwkKlIa"
      },
      "source": [
        "## Regresión Logística"
      ]
    },
    {
      "cell_type": "markdown",
      "source": [
        "### Caso Clasificación: Riesgo de Default\n",
        "\n",
        "**Contexto:** Este conjunto de datos contiene información de sobre incumplimientos de pagos en creditos, y entrega información de los clientes de acuerdo a factores demográficos, datos crediticios, historial de pagos y estados de cuenta de tarjetas de crédito. \n",
        "\n",
        "**Objetivo:** Entrenar un clasificador que permita estimar el riesgo de default de un cliente."
      ],
      "metadata": {
        "id": "PKZGVfM18abP"
      }
    },
    {
      "cell_type": "code",
      "execution_count": null,
      "metadata": {
        "colab": {
          "base_uri": "https://localhost:8080/"
        },
        "id": "EQew-aL8F77f",
        "outputId": "893b84ff-1e4f-442d-f9eb-de63026a8303"
      },
      "outputs": [
        {
          "output_type": "stream",
          "name": "stdout",
          "text": [
            "<class 'pandas.core.frame.DataFrame'>\n",
            "RangeIndex: 1000 entries, 0 to 999\n",
            "Data columns (total 21 columns):\n",
            " #   Column                Non-Null Count  Dtype \n",
            "---  ------                --------------  ----- \n",
            " 0   checking_balance      1000 non-null   object\n",
            " 1   months_loan_duration  1000 non-null   int64 \n",
            " 2   credit_history        1000 non-null   object\n",
            " 3   purpose               1000 non-null   object\n",
            " 4   amount                1000 non-null   int64 \n",
            " 5   savings_balance       1000 non-null   object\n",
            " 6   employment_length     1000 non-null   object\n",
            " 7   installment_rate      1000 non-null   int64 \n",
            " 8   personal_status       1000 non-null   object\n",
            " 9   other_debtors         1000 non-null   object\n",
            " 10  residence_history     1000 non-null   int64 \n",
            " 11  property              1000 non-null   object\n",
            " 12  age                   1000 non-null   int64 \n",
            " 13  installment_plan      1000 non-null   object\n",
            " 14  housing               1000 non-null   object\n",
            " 15  existing_credits      1000 non-null   int64 \n",
            " 16  job                   1000 non-null   object\n",
            " 17  dependents            1000 non-null   int64 \n",
            " 18  telephone             1000 non-null   object\n",
            " 19  foreign_worker        1000 non-null   object\n",
            " 20  default               1000 non-null   int64 \n",
            "dtypes: int64(8), object(13)\n",
            "memory usage: 164.2+ KB\n"
          ]
        }
      ],
      "source": [
        "default = pd.read_csv('https://raw.githubusercontent.com/hfelizzola/Curso-Ciencia-Datos-Ecopetrol/main/credit_card_default.csv')\n",
        "default.info()"
      ]
    },
    {
      "cell_type": "code",
      "source": [
        "default.head()"
      ],
      "metadata": {
        "colab": {
          "base_uri": "https://localhost:8080/",
          "height": 374
        },
        "id": "n1rzv1GW8Y4v",
        "outputId": "72fe2d9a-35ad-4e89-dd45-445f33f25b23"
      },
      "execution_count": null,
      "outputs": [
        {
          "output_type": "execute_result",
          "data": {
            "text/plain": [
              "  checking_balance  months_loan_duration credit_history    purpose  amount  \\\n",
              "0           < 0 DM                     6       critical   radio/tv    1169   \n",
              "1       1 - 200 DM                    48         repaid   radio/tv    5951   \n",
              "2          unknown                    12       critical  education    2096   \n",
              "3           < 0 DM                    42         repaid  furniture    7882   \n",
              "4           < 0 DM                    24        delayed  car (new)    4870   \n",
              "\n",
              "  savings_balance employment_length  installment_rate personal_status  \\\n",
              "0         unknown           > 7 yrs                 4     single male   \n",
              "1        < 100 DM         1 - 4 yrs                 2          female   \n",
              "2        < 100 DM         4 - 7 yrs                 2     single male   \n",
              "3        < 100 DM         4 - 7 yrs                 2     single male   \n",
              "4        < 100 DM         1 - 4 yrs                 3     single male   \n",
              "\n",
              "  other_debtors  residence_history                  property  age  \\\n",
              "0          none                  4               real estate   67   \n",
              "1          none                  2               real estate   22   \n",
              "2          none                  3               real estate   49   \n",
              "3     guarantor                  4  building society savings   45   \n",
              "4          none                  4              unknown/none   53   \n",
              "\n",
              "  installment_plan   housing  existing_credits                 job  \\\n",
              "0             none       own                 2    skilled employee   \n",
              "1             none       own                 1    skilled employee   \n",
              "2             none       own                 1  unskilled resident   \n",
              "3             none  for free                 1    skilled employee   \n",
              "4             none  for free                 2    skilled employee   \n",
              "\n",
              "   dependents telephone foreign_worker  default  \n",
              "0           1       yes            yes        0  \n",
              "1           1      none            yes        1  \n",
              "2           2      none            yes        0  \n",
              "3           2      none            yes        0  \n",
              "4           2      none            yes        1  "
            ],
            "text/html": [
              "\n",
              "  <div id=\"df-aee4e581-8490-4aa6-a27e-79f2e492fbc2\">\n",
              "    <div class=\"colab-df-container\">\n",
              "      <div>\n",
              "<style scoped>\n",
              "    .dataframe tbody tr th:only-of-type {\n",
              "        vertical-align: middle;\n",
              "    }\n",
              "\n",
              "    .dataframe tbody tr th {\n",
              "        vertical-align: top;\n",
              "    }\n",
              "\n",
              "    .dataframe thead th {\n",
              "        text-align: right;\n",
              "    }\n",
              "</style>\n",
              "<table border=\"1\" class=\"dataframe\">\n",
              "  <thead>\n",
              "    <tr style=\"text-align: right;\">\n",
              "      <th></th>\n",
              "      <th>checking_balance</th>\n",
              "      <th>months_loan_duration</th>\n",
              "      <th>credit_history</th>\n",
              "      <th>purpose</th>\n",
              "      <th>amount</th>\n",
              "      <th>savings_balance</th>\n",
              "      <th>employment_length</th>\n",
              "      <th>installment_rate</th>\n",
              "      <th>personal_status</th>\n",
              "      <th>other_debtors</th>\n",
              "      <th>residence_history</th>\n",
              "      <th>property</th>\n",
              "      <th>age</th>\n",
              "      <th>installment_plan</th>\n",
              "      <th>housing</th>\n",
              "      <th>existing_credits</th>\n",
              "      <th>job</th>\n",
              "      <th>dependents</th>\n",
              "      <th>telephone</th>\n",
              "      <th>foreign_worker</th>\n",
              "      <th>default</th>\n",
              "    </tr>\n",
              "  </thead>\n",
              "  <tbody>\n",
              "    <tr>\n",
              "      <th>0</th>\n",
              "      <td>&lt; 0 DM</td>\n",
              "      <td>6</td>\n",
              "      <td>critical</td>\n",
              "      <td>radio/tv</td>\n",
              "      <td>1169</td>\n",
              "      <td>unknown</td>\n",
              "      <td>&gt; 7 yrs</td>\n",
              "      <td>4</td>\n",
              "      <td>single male</td>\n",
              "      <td>none</td>\n",
              "      <td>4</td>\n",
              "      <td>real estate</td>\n",
              "      <td>67</td>\n",
              "      <td>none</td>\n",
              "      <td>own</td>\n",
              "      <td>2</td>\n",
              "      <td>skilled employee</td>\n",
              "      <td>1</td>\n",
              "      <td>yes</td>\n",
              "      <td>yes</td>\n",
              "      <td>0</td>\n",
              "    </tr>\n",
              "    <tr>\n",
              "      <th>1</th>\n",
              "      <td>1 - 200 DM</td>\n",
              "      <td>48</td>\n",
              "      <td>repaid</td>\n",
              "      <td>radio/tv</td>\n",
              "      <td>5951</td>\n",
              "      <td>&lt; 100 DM</td>\n",
              "      <td>1 - 4 yrs</td>\n",
              "      <td>2</td>\n",
              "      <td>female</td>\n",
              "      <td>none</td>\n",
              "      <td>2</td>\n",
              "      <td>real estate</td>\n",
              "      <td>22</td>\n",
              "      <td>none</td>\n",
              "      <td>own</td>\n",
              "      <td>1</td>\n",
              "      <td>skilled employee</td>\n",
              "      <td>1</td>\n",
              "      <td>none</td>\n",
              "      <td>yes</td>\n",
              "      <td>1</td>\n",
              "    </tr>\n",
              "    <tr>\n",
              "      <th>2</th>\n",
              "      <td>unknown</td>\n",
              "      <td>12</td>\n",
              "      <td>critical</td>\n",
              "      <td>education</td>\n",
              "      <td>2096</td>\n",
              "      <td>&lt; 100 DM</td>\n",
              "      <td>4 - 7 yrs</td>\n",
              "      <td>2</td>\n",
              "      <td>single male</td>\n",
              "      <td>none</td>\n",
              "      <td>3</td>\n",
              "      <td>real estate</td>\n",
              "      <td>49</td>\n",
              "      <td>none</td>\n",
              "      <td>own</td>\n",
              "      <td>1</td>\n",
              "      <td>unskilled resident</td>\n",
              "      <td>2</td>\n",
              "      <td>none</td>\n",
              "      <td>yes</td>\n",
              "      <td>0</td>\n",
              "    </tr>\n",
              "    <tr>\n",
              "      <th>3</th>\n",
              "      <td>&lt; 0 DM</td>\n",
              "      <td>42</td>\n",
              "      <td>repaid</td>\n",
              "      <td>furniture</td>\n",
              "      <td>7882</td>\n",
              "      <td>&lt; 100 DM</td>\n",
              "      <td>4 - 7 yrs</td>\n",
              "      <td>2</td>\n",
              "      <td>single male</td>\n",
              "      <td>guarantor</td>\n",
              "      <td>4</td>\n",
              "      <td>building society savings</td>\n",
              "      <td>45</td>\n",
              "      <td>none</td>\n",
              "      <td>for free</td>\n",
              "      <td>1</td>\n",
              "      <td>skilled employee</td>\n",
              "      <td>2</td>\n",
              "      <td>none</td>\n",
              "      <td>yes</td>\n",
              "      <td>0</td>\n",
              "    </tr>\n",
              "    <tr>\n",
              "      <th>4</th>\n",
              "      <td>&lt; 0 DM</td>\n",
              "      <td>24</td>\n",
              "      <td>delayed</td>\n",
              "      <td>car (new)</td>\n",
              "      <td>4870</td>\n",
              "      <td>&lt; 100 DM</td>\n",
              "      <td>1 - 4 yrs</td>\n",
              "      <td>3</td>\n",
              "      <td>single male</td>\n",
              "      <td>none</td>\n",
              "      <td>4</td>\n",
              "      <td>unknown/none</td>\n",
              "      <td>53</td>\n",
              "      <td>none</td>\n",
              "      <td>for free</td>\n",
              "      <td>2</td>\n",
              "      <td>skilled employee</td>\n",
              "      <td>2</td>\n",
              "      <td>none</td>\n",
              "      <td>yes</td>\n",
              "      <td>1</td>\n",
              "    </tr>\n",
              "  </tbody>\n",
              "</table>\n",
              "</div>\n",
              "      <button class=\"colab-df-convert\" onclick=\"convertToInteractive('df-aee4e581-8490-4aa6-a27e-79f2e492fbc2')\"\n",
              "              title=\"Convert this dataframe to an interactive table.\"\n",
              "              style=\"display:none;\">\n",
              "        \n",
              "  <svg xmlns=\"http://www.w3.org/2000/svg\" height=\"24px\"viewBox=\"0 0 24 24\"\n",
              "       width=\"24px\">\n",
              "    <path d=\"M0 0h24v24H0V0z\" fill=\"none\"/>\n",
              "    <path d=\"M18.56 5.44l.94 2.06.94-2.06 2.06-.94-2.06-.94-.94-2.06-.94 2.06-2.06.94zm-11 1L8.5 8.5l.94-2.06 2.06-.94-2.06-.94L8.5 2.5l-.94 2.06-2.06.94zm10 10l.94 2.06.94-2.06 2.06-.94-2.06-.94-.94-2.06-.94 2.06-2.06.94z\"/><path d=\"M17.41 7.96l-1.37-1.37c-.4-.4-.92-.59-1.43-.59-.52 0-1.04.2-1.43.59L10.3 9.45l-7.72 7.72c-.78.78-.78 2.05 0 2.83L4 21.41c.39.39.9.59 1.41.59.51 0 1.02-.2 1.41-.59l7.78-7.78 2.81-2.81c.8-.78.8-2.07 0-2.86zM5.41 20L4 18.59l7.72-7.72 1.47 1.35L5.41 20z\"/>\n",
              "  </svg>\n",
              "      </button>\n",
              "      \n",
              "  <style>\n",
              "    .colab-df-container {\n",
              "      display:flex;\n",
              "      flex-wrap:wrap;\n",
              "      gap: 12px;\n",
              "    }\n",
              "\n",
              "    .colab-df-convert {\n",
              "      background-color: #E8F0FE;\n",
              "      border: none;\n",
              "      border-radius: 50%;\n",
              "      cursor: pointer;\n",
              "      display: none;\n",
              "      fill: #1967D2;\n",
              "      height: 32px;\n",
              "      padding: 0 0 0 0;\n",
              "      width: 32px;\n",
              "    }\n",
              "\n",
              "    .colab-df-convert:hover {\n",
              "      background-color: #E2EBFA;\n",
              "      box-shadow: 0px 1px 2px rgba(60, 64, 67, 0.3), 0px 1px 3px 1px rgba(60, 64, 67, 0.15);\n",
              "      fill: #174EA6;\n",
              "    }\n",
              "\n",
              "    [theme=dark] .colab-df-convert {\n",
              "      background-color: #3B4455;\n",
              "      fill: #D2E3FC;\n",
              "    }\n",
              "\n",
              "    [theme=dark] .colab-df-convert:hover {\n",
              "      background-color: #434B5C;\n",
              "      box-shadow: 0px 1px 3px 1px rgba(0, 0, 0, 0.15);\n",
              "      filter: drop-shadow(0px 1px 2px rgba(0, 0, 0, 0.3));\n",
              "      fill: #FFFFFF;\n",
              "    }\n",
              "  </style>\n",
              "\n",
              "      <script>\n",
              "        const buttonEl =\n",
              "          document.querySelector('#df-aee4e581-8490-4aa6-a27e-79f2e492fbc2 button.colab-df-convert');\n",
              "        buttonEl.style.display =\n",
              "          google.colab.kernel.accessAllowed ? 'block' : 'none';\n",
              "\n",
              "        async function convertToInteractive(key) {\n",
              "          const element = document.querySelector('#df-aee4e581-8490-4aa6-a27e-79f2e492fbc2');\n",
              "          const dataTable =\n",
              "            await google.colab.kernel.invokeFunction('convertToInteractive',\n",
              "                                                     [key], {});\n",
              "          if (!dataTable) return;\n",
              "\n",
              "          const docLinkHtml = 'Like what you see? Visit the ' +\n",
              "            '<a target=\"_blank\" href=https://colab.research.google.com/notebooks/data_table.ipynb>data table notebook</a>'\n",
              "            + ' to learn more about interactive tables.';\n",
              "          element.innerHTML = '';\n",
              "          dataTable['output_type'] = 'display_data';\n",
              "          await google.colab.output.renderOutput(dataTable, element);\n",
              "          const docLink = document.createElement('div');\n",
              "          docLink.innerHTML = docLinkHtml;\n",
              "          element.appendChild(docLink);\n",
              "        }\n",
              "      </script>\n",
              "    </div>\n",
              "  </div>\n",
              "  "
            ]
          },
          "metadata": {},
          "execution_count": 104
        }
      ]
    },
    {
      "cell_type": "markdown",
      "source": [
        "Para modelos de clasifación vamos a introducir la libreria **sklearn**, la cual nos entrega una serie de modulos y funciones para entrenar, calibrar, validar y analizar modelos de machine learning."
      ],
      "metadata": {
        "id": "4Dqs7r9q9QMU"
      }
    },
    {
      "cell_type": "code",
      "execution_count": null,
      "metadata": {
        "id": "pnJ6a0yJVgrH"
      },
      "outputs": [],
      "source": [
        "# Función Crear una regresión logistica\n",
        "from sklearn.linear_model import LogisticRegression\n",
        "\n",
        "# Función para dividir los datos en conjunto de entrenamiento y prueba\n",
        "from sklearn.model_selection import train_test_split\n",
        "\n",
        "# Funciones para generar una matriz de confusión y reporte con métricas para clasificadores\n",
        "from sklearn.metrics import confusion_matrix\n",
        "from sklearn.metrics import ConfusionMatrixDisplay\n",
        "from sklearn.metrics import classification_report\n",
        "\n",
        "# Función para gráficar la importancia de variables\n",
        "from yellowbrick.model_selection import feature_importances"
      ]
    },
    {
      "cell_type": "code",
      "execution_count": null,
      "metadata": {
        "id": "ITcLEUq6Gsp9"
      },
      "outputs": [],
      "source": [
        "# Se deviden los datos en variables independientes Xs y variable dependiente y\n",
        "y = default['default']\n",
        "x = default.drop(columns=['default'])"
      ]
    },
    {
      "cell_type": "code",
      "source": [
        "# Se crean las variables dummies\n",
        "x = pd.get_dummies(x)"
      ],
      "metadata": {
        "id": "R9UUz9bQ99Mi"
      },
      "execution_count": null,
      "outputs": []
    },
    {
      "cell_type": "code",
      "execution_count": null,
      "metadata": {
        "id": "CArz8qWwPjYR"
      },
      "outputs": [],
      "source": [
        "# Dividir los datos en cojunto de entrenamiento y prueba\n",
        "x_train, x_test, y_train, y_test = train_test_split(x, y, train_size=0.7, random_state=7)"
      ]
    },
    {
      "cell_type": "code",
      "source": [
        "# Entrenar el modelo de regresión\n",
        "regresion_logistica = LogisticRegression(max_iter=1000)\n",
        "regresion_logistica.fit(x_train, y_train)"
      ],
      "metadata": {
        "colab": {
          "base_uri": "https://localhost:8080/"
        },
        "id": "4a0bVys-e55a",
        "outputId": "1ccfb83f-1797-44c1-9b0b-885f637e49b7"
      },
      "execution_count": null,
      "outputs": [
        {
          "output_type": "execute_result",
          "data": {
            "text/plain": [
              "LogisticRegression(max_iter=1000)"
            ]
          },
          "metadata": {},
          "execution_count": 109
        }
      ]
    },
    {
      "cell_type": "code",
      "source": [
        "# Imprimir los coeficientes:\n",
        "pd.DataFrame({'Variables':regresion_logistica.feature_names_in_, \n",
        "              'Coeficientes':regresion_logistica.coef_[0]})"
      ],
      "metadata": {
        "colab": {
          "base_uri": "https://localhost:8080/",
          "height": 424
        },
        "id": "DcqVChySzzxu",
        "outputId": "696e6c88-9b21-404f-ed14-3be007c3dd20"
      },
      "execution_count": null,
      "outputs": [
        {
          "output_type": "execute_result",
          "data": {
            "text/plain": [
              "                 Variables  Coeficientes\n",
              "0     months_loan_duration      0.022077\n",
              "1                   amount      0.000148\n",
              "2         installment_rate      0.283697\n",
              "3        residence_history     -0.014382\n",
              "4                      age     -0.021071\n",
              "..                     ...           ...\n",
              "56  job_unskilled resident      0.080118\n",
              "57          telephone_none     -0.196040\n",
              "58           telephone_yes     -0.294852\n",
              "59       foreign_worker_no     -0.670834\n",
              "60      foreign_worker_yes      0.179941\n",
              "\n",
              "[61 rows x 2 columns]"
            ],
            "text/html": [
              "\n",
              "  <div id=\"df-b22d4cb7-c1fb-4cdf-ac2f-1b4f58fa50e4\">\n",
              "    <div class=\"colab-df-container\">\n",
              "      <div>\n",
              "<style scoped>\n",
              "    .dataframe tbody tr th:only-of-type {\n",
              "        vertical-align: middle;\n",
              "    }\n",
              "\n",
              "    .dataframe tbody tr th {\n",
              "        vertical-align: top;\n",
              "    }\n",
              "\n",
              "    .dataframe thead th {\n",
              "        text-align: right;\n",
              "    }\n",
              "</style>\n",
              "<table border=\"1\" class=\"dataframe\">\n",
              "  <thead>\n",
              "    <tr style=\"text-align: right;\">\n",
              "      <th></th>\n",
              "      <th>Variables</th>\n",
              "      <th>Coeficientes</th>\n",
              "    </tr>\n",
              "  </thead>\n",
              "  <tbody>\n",
              "    <tr>\n",
              "      <th>0</th>\n",
              "      <td>months_loan_duration</td>\n",
              "      <td>0.022077</td>\n",
              "    </tr>\n",
              "    <tr>\n",
              "      <th>1</th>\n",
              "      <td>amount</td>\n",
              "      <td>0.000148</td>\n",
              "    </tr>\n",
              "    <tr>\n",
              "      <th>2</th>\n",
              "      <td>installment_rate</td>\n",
              "      <td>0.283697</td>\n",
              "    </tr>\n",
              "    <tr>\n",
              "      <th>3</th>\n",
              "      <td>residence_history</td>\n",
              "      <td>-0.014382</td>\n",
              "    </tr>\n",
              "    <tr>\n",
              "      <th>4</th>\n",
              "      <td>age</td>\n",
              "      <td>-0.021071</td>\n",
              "    </tr>\n",
              "    <tr>\n",
              "      <th>...</th>\n",
              "      <td>...</td>\n",
              "      <td>...</td>\n",
              "    </tr>\n",
              "    <tr>\n",
              "      <th>56</th>\n",
              "      <td>job_unskilled resident</td>\n",
              "      <td>0.080118</td>\n",
              "    </tr>\n",
              "    <tr>\n",
              "      <th>57</th>\n",
              "      <td>telephone_none</td>\n",
              "      <td>-0.196040</td>\n",
              "    </tr>\n",
              "    <tr>\n",
              "      <th>58</th>\n",
              "      <td>telephone_yes</td>\n",
              "      <td>-0.294852</td>\n",
              "    </tr>\n",
              "    <tr>\n",
              "      <th>59</th>\n",
              "      <td>foreign_worker_no</td>\n",
              "      <td>-0.670834</td>\n",
              "    </tr>\n",
              "    <tr>\n",
              "      <th>60</th>\n",
              "      <td>foreign_worker_yes</td>\n",
              "      <td>0.179941</td>\n",
              "    </tr>\n",
              "  </tbody>\n",
              "</table>\n",
              "<p>61 rows × 2 columns</p>\n",
              "</div>\n",
              "      <button class=\"colab-df-convert\" onclick=\"convertToInteractive('df-b22d4cb7-c1fb-4cdf-ac2f-1b4f58fa50e4')\"\n",
              "              title=\"Convert this dataframe to an interactive table.\"\n",
              "              style=\"display:none;\">\n",
              "        \n",
              "  <svg xmlns=\"http://www.w3.org/2000/svg\" height=\"24px\"viewBox=\"0 0 24 24\"\n",
              "       width=\"24px\">\n",
              "    <path d=\"M0 0h24v24H0V0z\" fill=\"none\"/>\n",
              "    <path d=\"M18.56 5.44l.94 2.06.94-2.06 2.06-.94-2.06-.94-.94-2.06-.94 2.06-2.06.94zm-11 1L8.5 8.5l.94-2.06 2.06-.94-2.06-.94L8.5 2.5l-.94 2.06-2.06.94zm10 10l.94 2.06.94-2.06 2.06-.94-2.06-.94-.94-2.06-.94 2.06-2.06.94z\"/><path d=\"M17.41 7.96l-1.37-1.37c-.4-.4-.92-.59-1.43-.59-.52 0-1.04.2-1.43.59L10.3 9.45l-7.72 7.72c-.78.78-.78 2.05 0 2.83L4 21.41c.39.39.9.59 1.41.59.51 0 1.02-.2 1.41-.59l7.78-7.78 2.81-2.81c.8-.78.8-2.07 0-2.86zM5.41 20L4 18.59l7.72-7.72 1.47 1.35L5.41 20z\"/>\n",
              "  </svg>\n",
              "      </button>\n",
              "      \n",
              "  <style>\n",
              "    .colab-df-container {\n",
              "      display:flex;\n",
              "      flex-wrap:wrap;\n",
              "      gap: 12px;\n",
              "    }\n",
              "\n",
              "    .colab-df-convert {\n",
              "      background-color: #E8F0FE;\n",
              "      border: none;\n",
              "      border-radius: 50%;\n",
              "      cursor: pointer;\n",
              "      display: none;\n",
              "      fill: #1967D2;\n",
              "      height: 32px;\n",
              "      padding: 0 0 0 0;\n",
              "      width: 32px;\n",
              "    }\n",
              "\n",
              "    .colab-df-convert:hover {\n",
              "      background-color: #E2EBFA;\n",
              "      box-shadow: 0px 1px 2px rgba(60, 64, 67, 0.3), 0px 1px 3px 1px rgba(60, 64, 67, 0.15);\n",
              "      fill: #174EA6;\n",
              "    }\n",
              "\n",
              "    [theme=dark] .colab-df-convert {\n",
              "      background-color: #3B4455;\n",
              "      fill: #D2E3FC;\n",
              "    }\n",
              "\n",
              "    [theme=dark] .colab-df-convert:hover {\n",
              "      background-color: #434B5C;\n",
              "      box-shadow: 0px 1px 3px 1px rgba(0, 0, 0, 0.15);\n",
              "      filter: drop-shadow(0px 1px 2px rgba(0, 0, 0, 0.3));\n",
              "      fill: #FFFFFF;\n",
              "    }\n",
              "  </style>\n",
              "\n",
              "      <script>\n",
              "        const buttonEl =\n",
              "          document.querySelector('#df-b22d4cb7-c1fb-4cdf-ac2f-1b4f58fa50e4 button.colab-df-convert');\n",
              "        buttonEl.style.display =\n",
              "          google.colab.kernel.accessAllowed ? 'block' : 'none';\n",
              "\n",
              "        async function convertToInteractive(key) {\n",
              "          const element = document.querySelector('#df-b22d4cb7-c1fb-4cdf-ac2f-1b4f58fa50e4');\n",
              "          const dataTable =\n",
              "            await google.colab.kernel.invokeFunction('convertToInteractive',\n",
              "                                                     [key], {});\n",
              "          if (!dataTable) return;\n",
              "\n",
              "          const docLinkHtml = 'Like what you see? Visit the ' +\n",
              "            '<a target=\"_blank\" href=https://colab.research.google.com/notebooks/data_table.ipynb>data table notebook</a>'\n",
              "            + ' to learn more about interactive tables.';\n",
              "          element.innerHTML = '';\n",
              "          dataTable['output_type'] = 'display_data';\n",
              "          await google.colab.output.renderOutput(dataTable, element);\n",
              "          const docLink = document.createElement('div');\n",
              "          docLink.innerHTML = docLinkHtml;\n",
              "          element.appendChild(docLink);\n",
              "        }\n",
              "      </script>\n",
              "    </div>\n",
              "  </div>\n",
              "  "
            ]
          },
          "metadata": {},
          "execution_count": 110
        }
      ]
    },
    {
      "cell_type": "code",
      "source": [
        "# Generar predicciones\n",
        "y_pred = regresion_logistica.predict(x_test)"
      ],
      "metadata": {
        "id": "n4rlvqk4hOT9"
      },
      "execution_count": null,
      "outputs": []
    },
    {
      "cell_type": "code",
      "source": [
        "# Generar matriz de confusión para conjunto de prueba\n",
        "cm = confusion_matrix(y_test, y_pred)\n",
        "cm_display = ConfusionMatrixDisplay(cm).plot()\n",
        "plt.grid(False)"
      ],
      "metadata": {
        "colab": {
          "base_uri": "https://localhost:8080/",
          "height": 361
        },
        "id": "U20uJD88gq9c",
        "outputId": "a2d78e29-2a00-421f-8635-fb0c6281b0f0"
      },
      "execution_count": null,
      "outputs": [
        {
          "output_type": "display_data",
          "data": {
            "text/plain": [
              "<Figure size 576x396 with 2 Axes>"
            ],
            "image/png": "[encoded data removed]"
          },
          "metadata": {}
        }
      ]
    },
    {
      "cell_type": "markdown",
      "source": [
        "El reporte de clasificación presenta las métricas de precesión, recall y f1-score para cada una de las clases. Esto permite analizar si el clasificador esta funcionando mejor en unas clases con respecto a otras. Tambien presenta las métricas en general para las dos clases y ponderadas de acuerdo al support (cantidad de observaciones en cada categoría)."
      ],
      "metadata": {
        "id": "8_knhs_c17LP"
      }
    },
    {
      "cell_type": "code",
      "source": [
        "# Generar un reporte con las principales métricas.\n",
        "print(classification_report(y_test, y_pred))"
      ],
      "metadata": {
        "colab": {
          "base_uri": "https://localhost:8080/"
        },
        "id": "GbbhU67Fiatm",
        "outputId": "19fbcac8-752c-4969-f0ff-3096fb356690"
      },
      "execution_count": null,
      "outputs": [
        {
          "output_type": "stream",
          "name": "stdout",
          "text": [
            "              precision    recall  f1-score   support\n",
            "\n",
            "           0       0.83      0.91      0.87       217\n",
            "           1       0.69      0.52      0.59        83\n",
            "\n",
            "    accuracy                           0.80       300\n",
            "   macro avg       0.76      0.72      0.73       300\n",
            "weighted avg       0.79      0.80      0.79       300\n",
            "\n"
          ]
        }
      ]
    },
    {
      "cell_type": "markdown",
      "source": [
        "La gráfica de importancia de variables muestra un ranking del aporte de cada variable para las predicciones. En el caso de la regresión logística se presenta con base en el valor de los coeficientes. "
      ],
      "metadata": {
        "id": "9mPmEDWu12E5"
      }
    },
    {
      "cell_type": "code",
      "source": [
        "# Gráfica de importancia de variables\n",
        "plt.figure(figsize=(10,10))\n",
        "feature_importances(LogisticRegression(max_iter=1000), x_train, y_train)"
      ],
      "metadata": {
        "colab": {
          "base_uri": "https://localhost:8080/",
          "height": 814
        },
        "id": "sJQ8kFq7NrXR",
        "outputId": "f702a3f7-6b1f-436b-cd3c-2cb7ec6d9c13"
      },
      "execution_count": null,
      "outputs": [
        {
          "output_type": "stream",
          "name": "stderr",
          "text": [
            "/usr/local/lib/python3.7/dist-packages/yellowbrick/model_selection/importances.py:199: YellowbrickWarning: detected multi-dimensional feature importances but stack=False, using mean to aggregate them.\n",
            "  YellowbrickWarning,\n"
          ]
        },
        {
          "output_type": "display_data",
          "data": {
            "text/plain": [
              "<Figure size 720x720 with 1 Axes>"
            ],
            "image/png": "[encoded data removed]"
          },
          "metadata": {}
        },
        {
          "output_type": "execute_result",
          "data": {
            "text/plain": [
              "FeatureImportances(ax=<matplotlib.axes._subplots.AxesSubplot object at 0x7f2b3f237290>,\n",
              "                   estimator=LogisticRegression(max_iter=1000))"
            ]
          },
          "metadata": {},
          "execution_count": 114
        }
      ]
    },
    {
      "cell_type": "markdown",
      "source": [
        "## Arboles de Decisión\n",
        "\n",
        "Para los arboles de decisión vamos a utilizar el caso de default de crédito."
      ],
      "metadata": {
        "id": "3R3-WGS-PV8l"
      }
    },
    {
      "cell_type": "code",
      "source": [
        "# Modulo para arboles de clasificación\n",
        "from sklearn.tree import DecisionTreeClassifier\n",
        "\n",
        "# Modulos para calibrar parametros en un arbol\n",
        "from yellowbrick.model_selection import ValidationCurve\n",
        "from yellowbrick.model_selection import LearningCurve\n",
        "from sklearn.model_selection import KFold\n",
        "\n",
        "# Modulos para visualizar los arboles\n",
        "from sklearn.tree import export_graphviz\n",
        "import graphviz "
      ],
      "metadata": {
        "id": "XhTHV0AfkOVP"
      },
      "execution_count": null,
      "outputs": []
    },
    {
      "cell_type": "code",
      "source": [
        "# Crear y entrenar el arbol de decisión\n",
        "dt_model = DecisionTreeClassifier()\n",
        "dt_model.fit(x_train, y_train)"
      ],
      "metadata": {
        "id": "WCwCdfXIkUrz",
        "colab": {
          "base_uri": "https://localhost:8080/"
        },
        "outputId": "76258f8d-2082-4f82-b294-7bfcdd5dbbce"
      },
      "execution_count": null,
      "outputs": [
        {
          "output_type": "execute_result",
          "data": {
            "text/plain": [
              "DecisionTreeClassifier()"
            ]
          },
          "metadata": {},
          "execution_count": 116
        }
      ]
    },
    {
      "cell_type": "markdown",
      "source": [
        "En la matriz de confusión y el reporte de clasificación observamos un desempeño perfecto. Pero, esto puede ser engañozo, recuerde el concepto de sobreajuste (Overfitting)."
      ],
      "metadata": {
        "id": "insT5MBe3xHf"
      }
    },
    {
      "cell_type": "code",
      "source": [
        "# Desempeño con datos de entrenamiento\n",
        "y_pred_train = dt_model.predict(x_train)\n",
        "cm = confusion_matrix(y_train, y_pred_train)\n",
        "cm_display = ConfusionMatrixDisplay(cm).plot()\n",
        "plt.grid(False)"
      ],
      "metadata": {
        "colab": {
          "base_uri": "https://localhost:8080/",
          "height": 361
        },
        "id": "JQ3gEJoZrRP_",
        "outputId": "07ff37ea-c625-46ba-c652-6f648a5d0366"
      },
      "execution_count": null,
      "outputs": [
        {
          "output_type": "display_data",
          "data": {
            "text/plain": [
              "<Figure size 576x396 with 2 Axes>"
            ],
            "image/png": "[encoded data removed]"
          },
          "metadata": {}
        }
      ]
    },
    {
      "cell_type": "code",
      "source": [
        "print(classification_report(y_train, y_pred_train))"
      ],
      "metadata": {
        "colab": {
          "base_uri": "https://localhost:8080/"
        },
        "id": "fcTIf-LSrh_N",
        "outputId": "26fae688-52c2-4bc6-a231-69d8424ae1c1"
      },
      "execution_count": null,
      "outputs": [
        {
          "output_type": "stream",
          "name": "stdout",
          "text": [
            "              precision    recall  f1-score   support\n",
            "\n",
            "           0       1.00      1.00      1.00       483\n",
            "           1       1.00      1.00      1.00       217\n",
            "\n",
            "    accuracy                           1.00       700\n",
            "   macro avg       1.00      1.00      1.00       700\n",
            "weighted avg       1.00      1.00      1.00       700\n",
            "\n"
          ]
        }
      ]
    },
    {
      "cell_type": "markdown",
      "source": [
        "Miremos si ese desempeño se conserva en el conjunto de prueba."
      ],
      "metadata": {
        "id": "HTpuH0h1rsnz"
      }
    },
    {
      "cell_type": "code",
      "source": [
        "# Desempeño con datos de prueba\n",
        "y_pred_test = dt_model.predict(x_test)\n",
        "cm = confusion_matrix(y_test, y_pred)\n",
        "cm_display = ConfusionMatrixDisplay(cm).plot()\n",
        "plt.grid(False)"
      ],
      "metadata": {
        "colab": {
          "base_uri": "https://localhost:8080/",
          "height": 361
        },
        "id": "wxSW-iL6kqIk",
        "outputId": "22e7c524-6b13-4a7a-d0b9-e70d8d3f924e"
      },
      "execution_count": null,
      "outputs": [
        {
          "output_type": "display_data",
          "data": {
            "text/plain": [
              "<Figure size 576x396 with 2 Axes>"
            ],
            "image/png": "[encoded data removed]"
          },
          "metadata": {}
        }
      ]
    },
    {
      "cell_type": "code",
      "source": [
        "print(classification_report(y_test, y_pred_test))"
      ],
      "metadata": {
        "colab": {
          "base_uri": "https://localhost:8080/"
        },
        "id": "3ALyuPVSr5Um",
        "outputId": "b7c5959c-1371-4599-96bf-1517727c5c47"
      },
      "execution_count": null,
      "outputs": [
        {
          "output_type": "stream",
          "name": "stdout",
          "text": [
            "              precision    recall  f1-score   support\n",
            "\n",
            "           0       0.82      0.82      0.82       217\n",
            "           1       0.52      0.52      0.52        83\n",
            "\n",
            "    accuracy                           0.74       300\n",
            "   macro avg       0.67      0.67      0.67       300\n",
            "weighted avg       0.74      0.74      0.74       300\n",
            "\n"
          ]
        }
      ]
    },
    {
      "cell_type": "markdown",
      "source": [
        "Con el conjunto de prueba el desempeño es mucho menor. Recuerde que este problema se denomina sobreajuste (**overfitting**). El modelo se ajusta bien a los datos de entrenamiento, pero no funciona bien al predecir nuevas observaciones.\n",
        "\n",
        "Por esta razon, es importante calibrar el parámetro de profundidad del arbol **max_depth** para evitar este problema. A continuación, un gráfica que nos ayuda al encontrar el valor para este parámetro que permite evitar el sobre ajuste.\n",
        "\n",
        "Dado que no interesa detectar con efectividad los clientes que van a entrar en default, lo mejor es utilizar la métrica de sensibilidad o **recall** `(scoring=\"recall\")`. Vamos a probar un rango de profundida que va entre 2 y 20 `(param_name=\"max_depth\",param_range=np.arange(2, 21))`. Además, vamos a utilizar el metodo de validación cruzada con 5 folds `(cv=5)`."
      ],
      "metadata": {
        "id": "glBhD_nDr86B"
      }
    },
    {
      "cell_type": "code",
      "source": [
        "curva_calibracion = ValidationCurve(\n",
        "    DecisionTreeClassifier(), \n",
        "    param_name=\"max_depth\",\n",
        "    param_range=np.arange(2, 21), \n",
        "    cv=5, \n",
        "    scoring=\"recall\")\n",
        "\n",
        "curva_calibracion.fit(x_train, y_train)\n",
        "curva_calibracion.show()"
      ],
      "metadata": {
        "colab": {
          "base_uri": "https://localhost:8080/",
          "height": 393
        },
        "id": "nwpABknZkzeX",
        "outputId": "f878ae23-8686-47c4-a9e8-9402a8b6df47"
      },
      "execution_count": null,
      "outputs": [
        {
          "output_type": "display_data",
          "data": {
            "text/plain": [
              "<Figure size 576x396 with 1 Axes>"
            ],
            "image/png": "[encoded data removed]"
          },
          "metadata": {}
        },
        {
          "output_type": "execute_result",
          "data": {
            "text/plain": [
              "<matplotlib.axes._subplots.AxesSubplot at 0x7f2b49881950>"
            ]
          },
          "metadata": {},
          "execution_count": 121
        }
      ]
    },
    {
      "cell_type": "markdown",
      "source": [
        "Observamos que despues de max_depth = 10, el desempeño del conjunto de prueba se estabiliza, por tanto este puede ser un buen valor para el max_depth. Sin embargo, la separación entre las dos curvas denota otro problema y puede que los datos son insuficientes. Esto se puede confirmar con la curva de aprendizaje. En esta gráfica se puede observar que con el tamaño de los datos a un las curvas siguen un separación considerable, lo que muestra que la diferencia en el desempeño de los conjuntos es alto. Esto es algo que se podría resolver con un conjunto mas grande, aunque no es una garantia. "
      ],
      "metadata": {
        "id": "vouiH2QNuDF2"
      }
    },
    {
      "cell_type": "code",
      "source": [
        "# Curva de aprendizaje\n",
        "curva_aprendizaje = LearningCurve(\n",
        "    DecisionTreeClassifier(max_depth=5), \n",
        "    cv=5, \n",
        "    scoring='recall', \n",
        "    train_sizes=[0.1,0.2,0.3,0.4,0.5,0.6,0.7,1], \n",
        "    n_jobs=4\n",
        ")\n",
        "curva_aprendizaje.fit(x_train, y_train)       \n",
        "curva_aprendizaje.show() "
      ],
      "metadata": {
        "colab": {
          "base_uri": "https://localhost:8080/",
          "height": 393
        },
        "id": "1a9inKtlStqn",
        "outputId": "d3d706d1-32c2-4259-d907-e35ba4b13c3d"
      },
      "execution_count": null,
      "outputs": [
        {
          "output_type": "display_data",
          "data": {
            "text/plain": [
              "<Figure size 576x396 with 1 Axes>"
            ],
            "image/png": "[encoded data removed]"
          },
          "metadata": {}
        },
        {
          "output_type": "execute_result",
          "data": {
            "text/plain": [
              "<matplotlib.axes._subplots.AxesSubplot at 0x7f2b3ed10d90>"
            ]
          },
          "metadata": {},
          "execution_count": 122
        }
      ]
    },
    {
      "cell_type": "markdown",
      "source": [
        "Habiendo calibrado el parametro max_depth en 5. Se procede a entrenar el modelo y evaluar."
      ],
      "metadata": {
        "id": "jRVOnz9cvMs9"
      }
    },
    {
      "cell_type": "code",
      "source": [
        "dt_model = DecisionTreeClassifier(max_depth=5)\n",
        "dt_model.fit(x_train, y_train)\n",
        "y_pred_train = dt_model.predict(x_train)\n",
        "print(classification_report(y_train, y_pred_train))"
      ],
      "metadata": {
        "colab": {
          "base_uri": "https://localhost:8080/"
        },
        "id": "w6QewTkFvE1h",
        "outputId": "2d3dc179-1fbd-455d-d720-6b92d6d8f53c"
      },
      "execution_count": null,
      "outputs": [
        {
          "output_type": "stream",
          "name": "stdout",
          "text": [
            "              precision    recall  f1-score   support\n",
            "\n",
            "           0       0.83      0.84      0.84       483\n",
            "           1       0.64      0.63      0.63       217\n",
            "\n",
            "    accuracy                           0.78       700\n",
            "   macro avg       0.74      0.73      0.74       700\n",
            "weighted avg       0.77      0.78      0.77       700\n",
            "\n"
          ]
        }
      ]
    },
    {
      "cell_type": "code",
      "source": [
        "y_pred_test = dt_model.predict(x_test)\n",
        "print(classification_report(y_test, y_pred_test))"
      ],
      "metadata": {
        "colab": {
          "base_uri": "https://localhost:8080/"
        },
        "id": "ac9-tXYOvtAB",
        "outputId": "e1c72b75-a8de-487d-9641-215783802b77"
      },
      "execution_count": null,
      "outputs": [
        {
          "output_type": "stream",
          "name": "stdout",
          "text": [
            "              precision    recall  f1-score   support\n",
            "\n",
            "           0       0.82      0.78      0.80       217\n",
            "           1       0.49      0.54      0.51        83\n",
            "\n",
            "    accuracy                           0.72       300\n",
            "   macro avg       0.65      0.66      0.66       300\n",
            "weighted avg       0.73      0.72      0.72       300\n",
            "\n"
          ]
        }
      ]
    },
    {
      "cell_type": "code",
      "source": [
        "# Modelo Final\n",
        "dt_final_model = dt_model = DecisionTreeClassifier(max_depth=5)\n",
        "dt_final_model.fit(x, y)"
      ],
      "metadata": {
        "colab": {
          "base_uri": "https://localhost:8080/"
        },
        "id": "TYVwTXjBv0ol",
        "outputId": "bb505a15-d681-42f2-ae57-3d26f35df8cb",
        "collapsed": true
      },
      "execution_count": null,
      "outputs": [
        {
          "output_type": "execute_result",
          "data": {
            "text/plain": [
              "DecisionTreeClassifier(max_depth=5)"
            ]
          },
          "metadata": {},
          "execution_count": 125
        }
      ]
    },
    {
      "cell_type": "code",
      "source": [
        "dt_model_data = export_graphviz(dt_final_model, \n",
        "                                out_file=None, \n",
        "                                feature_names=x.columns,  \n",
        "                                class_names=[\"0\",\"1\"],  \n",
        "                                filled=True)  \n",
        "graph = graphviz.Source(dt_model_data)  \n",
        "plt.figure(figsize=(10,10))\n",
        "graph "
      ],
      "metadata": {
        "colab": {
          "base_uri": "https://localhost:8080/",
          "height": 953
        },
        "id": "zDoEvDhtznHs",
        "outputId": "1ebc79f8-a58b-4726-f50e-1f5f7f32b72c"
      },
      "execution_count": null,
      "outputs": [
        {
          "output_type": "execute_result",
          "data": {
            "text/plain": [
              "<graphviz.files.Source at 0x7f2b3ec8b7d0>"
            ],
            "image/svg+xml": "<?xml version=\"1.0\" encoding=\"UTF-8\" standalone=\"no\"?>\n<!DOCTYPE svg PUBLIC \"-//W3C//DTD SVG 1.1//EN\"\n \"http://www.w3.org/Graphics/SVG/1.1/DTD/svg11.dtd\">\n<!-- Generated by graphviz version 2.40.1 (20161225.0304)\n -->\n<!-- Title: Tree Pages: 1 -->\n<svg width=\"3361pt\" height=\"671pt\"\n viewBox=\"0.00 0.00 3360.50 671.00\" xmlns=\"http://www.w3.org/2000/svg\" xmlns:xlink=\"http://www.w3.org/1999/xlink\">\n<g id=\"graph0\" class=\"graph\" transform=\"scale(1 1) rotate(0) translate(4 667)\">\n<title>Tree</title>\n<polygon fill=\"#ffffff\" stroke=\"transparent\" points=\"-4,4 -4,-667 3356.5,-667 3356.5,4 -4,4\"/>\n<!-- 0 -->\n<g id=\"node1\" class=\"node\">\n<title>0</title>\n<polygon fill=\"#f0b78e\" stroke=\"#000000\" points=\"2014.5,-663 1767.5,-663 1767.5,-580 2014.5,-580 2014.5,-663\"/>\n<text text-anchor=\"middle\" x=\"1891\" y=\"-647.8\" font-family=\"Helvetica,sans-Serif\" font-size=\"14.00\" fill=\"#000000\">checking_balance_unknown &lt;= 0.5</text>\n<text text-anchor=\"middle\" x=\"1891\" y=\"-632.8\" font-family=\"Helvetica,sans-Serif\" font-size=\"14.00\" fill=\"#000000\">gini = 0.42</text>\n<text text-anchor=\"middle\" x=\"1891\" y=\"-617.8\" font-family=\"Helvetica,sans-Serif\" font-size=\"14.00\" fill=\"#000000\">samples = 1000</text>\n<text text-anchor=\"middle\" x=\"1891\" y=\"-602.8\" font-family=\"Helvetica,sans-Serif\" font-size=\"14.00\" fill=\"#000000\">value = [700, 300]</text>\n<text text-anchor=\"middle\" x=\"1891\" y=\"-587.8\" font-family=\"Helvetica,sans-Serif\" font-size=\"14.00\" fill=\"#000000\">class = 0</text>\n</g>\n<!-- 1 -->\n<g id=\"node2\" class=\"node\">\n<title>1</title>\n<polygon fill=\"#f8dcc8\" stroke=\"#000000\" points=\"1614,-544 1400,-544 1400,-461 1614,-461 1614,-544\"/>\n<text text-anchor=\"middle\" x=\"1507\" y=\"-528.8\" font-family=\"Helvetica,sans-Serif\" font-size=\"14.00\" fill=\"#000000\">months_loan_duration &lt;= 22.5</text>\n<text text-anchor=\"middle\" x=\"1507\" y=\"-513.8\" font-family=\"Helvetica,sans-Serif\" font-size=\"14.00\" fill=\"#000000\">gini = 0.487</text>\n<text text-anchor=\"middle\" x=\"1507\" y=\"-498.8\" font-family=\"Helvetica,sans-Serif\" font-size=\"14.00\" fill=\"#000000\">samples = 606</text>\n<text text-anchor=\"middle\" x=\"1507\" y=\"-483.8\" font-family=\"Helvetica,sans-Serif\" font-size=\"14.00\" fill=\"#000000\">value = [352, 254]</text>\n<text text-anchor=\"middle\" x=\"1507\" y=\"-468.8\" font-family=\"Helvetica,sans-Serif\" font-size=\"14.00\" fill=\"#000000\">class = 0</text>\n</g>\n<!-- 0&#45;&gt;1 -->\n<g id=\"edge1\" class=\"edge\">\n<title>0&#45;&gt;1</title>\n<path fill=\"none\" stroke=\"#000000\" d=\"M1767.3863,-583.1926C1721.3312,-568.9203 1669.2374,-552.7767 1623.8121,-538.6996\"/>\n<polygon fill=\"#000000\" stroke=\"#000000\" points=\"1624.8125,-535.3455 1614.2246,-535.7285 1622.7404,-542.0318 1624.8125,-535.3455\"/>\n<text text-anchor=\"middle\" x=\"1625.8773\" y=\"-554.1466\" font-family=\"Helvetica,sans-Serif\" font-size=\"14.00\" fill=\"#000000\">True</text>\n</g>\n<!-- 32 -->\n<g id=\"node33\" class=\"node\">\n<title>32</title>\n<polygon fill=\"#e89253\" stroke=\"#000000\" points=\"2402.5,-544 2195.5,-544 2195.5,-461 2402.5,-461 2402.5,-544\"/>\n<text text-anchor=\"middle\" x=\"2299\" y=\"-528.8\" font-family=\"Helvetica,sans-Serif\" font-size=\"14.00\" fill=\"#000000\">installment_plan_none &lt;= 0.5</text>\n<text text-anchor=\"middle\" x=\"2299\" y=\"-513.8\" font-family=\"Helvetica,sans-Serif\" font-size=\"14.00\" fill=\"#000000\">gini = 0.206</text>\n<text text-anchor=\"middle\" x=\"2299\" y=\"-498.8\" font-family=\"Helvetica,sans-Serif\" font-size=\"14.00\" fill=\"#000000\">samples = 394</text>\n<text text-anchor=\"middle\" x=\"2299\" y=\"-483.8\" font-family=\"Helvetica,sans-Serif\" font-size=\"14.00\" fill=\"#000000\">value = [348, 46]</text>\n<text text-anchor=\"middle\" x=\"2299\" y=\"-468.8\" font-family=\"Helvetica,sans-Serif\" font-size=\"14.00\" fill=\"#000000\">class = 0</text>\n</g>\n<!-- 0&#45;&gt;32 -->\n<g id=\"edge32\" class=\"edge\">\n<title>0&#45;&gt;32</title>\n<path fill=\"none\" stroke=\"#000000\" d=\"M2014.5207,-585.4731C2068.9474,-569.5987 2132.4764,-551.0694 2185.6761,-535.5528\"/>\n<polygon fill=\"#000000\" stroke=\"#000000\" points=\"2186.865,-538.852 2195.485,-532.6919 2184.9049,-532.132 2186.865,-538.852\"/>\n<text text-anchor=\"middle\" x=\"2183.4642\" y=\"-550.9122\" font-family=\"Helvetica,sans-Serif\" font-size=\"14.00\" fill=\"#000000\">False</text>\n</g>\n<!-- 2 -->\n<g id=\"node3\" class=\"node\">\n<title>2</title>\n<polygon fill=\"#f2c09c\" stroke=\"#000000\" points=\"882.5,-425 595.5,-425 595.5,-342 882.5,-342 882.5,-425\"/>\n<text text-anchor=\"middle\" x=\"739\" y=\"-409.8\" font-family=\"Helvetica,sans-Serif\" font-size=\"14.00\" fill=\"#000000\">credit_history_fully repaid this bank &lt;= 0.5</text>\n<text text-anchor=\"middle\" x=\"739\" y=\"-394.8\" font-family=\"Helvetica,sans-Serif\" font-size=\"14.00\" fill=\"#000000\">gini = 0.444</text>\n<text text-anchor=\"middle\" x=\"739\" y=\"-379.8\" font-family=\"Helvetica,sans-Serif\" font-size=\"14.00\" fill=\"#000000\">samples = 349</text>\n<text text-anchor=\"middle\" x=\"739\" y=\"-364.8\" font-family=\"Helvetica,sans-Serif\" font-size=\"14.00\" fill=\"#000000\">value = [233, 116]</text>\n<text text-anchor=\"middle\" x=\"739\" y=\"-349.8\" font-family=\"Helvetica,sans-Serif\" font-size=\"14.00\" fill=\"#000000\">class = 0</text>\n</g>\n<!-- 1&#45;&gt;2 -->\n<g id=\"edge2\" class=\"edge\">\n<title>1&#45;&gt;2</title>\n<path fill=\"none\" stroke=\"#000000\" d=\"M1399.8089,-485.891C1267.9539,-465.4603 1043.1675,-430.6301 892.8837,-407.344\"/>\n<polygon fill=\"#000000\" stroke=\"#000000\" points=\"893.0626,-403.83 882.6445,-405.7574 891.9907,-410.7474 893.0626,-403.83\"/>\n</g>\n<!-- 17 -->\n<g id=\"node18\" class=\"node\">\n<title>17</title>\n<polygon fill=\"#e4f2fb\" stroke=\"#000000\" points=\"1628,-425 1386,-425 1386,-342 1628,-342 1628,-425\"/>\n<text text-anchor=\"middle\" x=\"1507\" y=\"-409.8\" font-family=\"Helvetica,sans-Serif\" font-size=\"14.00\" fill=\"#000000\">savings_balance_&lt; 100 DM &lt;= 0.5</text>\n<text text-anchor=\"middle\" x=\"1507\" y=\"-394.8\" font-family=\"Helvetica,sans-Serif\" font-size=\"14.00\" fill=\"#000000\">gini = 0.497</text>\n<text text-anchor=\"middle\" x=\"1507\" y=\"-379.8\" font-family=\"Helvetica,sans-Serif\" font-size=\"14.00\" fill=\"#000000\">samples = 257</text>\n<text text-anchor=\"middle\" x=\"1507\" y=\"-364.8\" font-family=\"Helvetica,sans-Serif\" font-size=\"14.00\" fill=\"#000000\">value = [119, 138]</text>\n<text text-anchor=\"middle\" x=\"1507\" y=\"-349.8\" font-family=\"Helvetica,sans-Serif\" font-size=\"14.00\" fill=\"#000000\">class = 1</text>\n</g>\n<!-- 1&#45;&gt;17 -->\n<g id=\"edge17\" class=\"edge\">\n<title>1&#45;&gt;17</title>\n<path fill=\"none\" stroke=\"#000000\" d=\"M1507,-460.8796C1507,-452.6838 1507,-443.9891 1507,-435.5013\"/>\n<polygon fill=\"#000000\" stroke=\"#000000\" points=\"1510.5001,-435.298 1507,-425.2981 1503.5001,-435.2981 1510.5001,-435.298\"/>\n</g>\n<!-- 3 -->\n<g id=\"node4\" class=\"node\">\n<title>3</title>\n<polygon fill=\"#f1b992\" stroke=\"#000000\" points=\"537,-306 323,-306 323,-223 537,-223 537,-306\"/>\n<text text-anchor=\"middle\" x=\"430\" y=\"-290.8\" font-family=\"Helvetica,sans-Serif\" font-size=\"14.00\" fill=\"#000000\">months_loan_duration &lt;= 11.5</text>\n<text text-anchor=\"middle\" x=\"430\" y=\"-275.8\" font-family=\"Helvetica,sans-Serif\" font-size=\"14.00\" fill=\"#000000\">gini = 0.427</text>\n<text text-anchor=\"middle\" x=\"430\" y=\"-260.8\" font-family=\"Helvetica,sans-Serif\" font-size=\"14.00\" fill=\"#000000\">samples = 330</text>\n<text text-anchor=\"middle\" x=\"430\" y=\"-245.8\" font-family=\"Helvetica,sans-Serif\" font-size=\"14.00\" fill=\"#000000\">value = [228, 102]</text>\n<text text-anchor=\"middle\" x=\"430\" y=\"-230.8\" font-family=\"Helvetica,sans-Serif\" font-size=\"14.00\" fill=\"#000000\">class = 0</text>\n</g>\n<!-- 2&#45;&gt;3 -->\n<g id=\"edge3\" class=\"edge\">\n<title>2&#45;&gt;3</title>\n<path fill=\"none\" stroke=\"#000000\" d=\"M630.9268,-341.8796C603.7605,-331.4175 574.4829,-320.1423 546.9066,-309.5223\"/>\n<polygon fill=\"#000000\" stroke=\"#000000\" points=\"547.8195,-306.1233 537.2297,-305.7956 545.3037,-312.6556 547.8195,-306.1233\"/>\n</g>\n<!-- 10 -->\n<g id=\"node11\" class=\"node\">\n<title>10</title>\n<polygon fill=\"#80c0ee\" stroke=\"#000000\" points=\"824,-306 654,-306 654,-223 824,-223 824,-306\"/>\n<text text-anchor=\"middle\" x=\"739\" y=\"-290.8\" font-family=\"Helvetica,sans-Serif\" font-size=\"14.00\" fill=\"#000000\">purpose_radio/tv &lt;= 0.5</text>\n<text text-anchor=\"middle\" x=\"739\" y=\"-275.8\" font-family=\"Helvetica,sans-Serif\" font-size=\"14.00\" fill=\"#000000\">gini = 0.388</text>\n<text text-anchor=\"middle\" x=\"739\" y=\"-260.8\" font-family=\"Helvetica,sans-Serif\" font-size=\"14.00\" fill=\"#000000\">samples = 19</text>\n<text text-anchor=\"middle\" x=\"739\" y=\"-245.8\" font-family=\"Helvetica,sans-Serif\" font-size=\"14.00\" fill=\"#000000\">value = [5, 14]</text>\n<text text-anchor=\"middle\" x=\"739\" y=\"-230.8\" font-family=\"Helvetica,sans-Serif\" font-size=\"14.00\" fill=\"#000000\">class = 1</text>\n</g>\n<!-- 2&#45;&gt;10 -->\n<g id=\"edge10\" class=\"edge\">\n<title>2&#45;&gt;10</title>\n<path fill=\"none\" stroke=\"#000000\" d=\"M739,-341.8796C739,-333.6838 739,-324.9891 739,-316.5013\"/>\n<polygon fill=\"#000000\" stroke=\"#000000\" points=\"742.5001,-316.298 739,-306.2981 735.5001,-316.2981 742.5001,-316.298\"/>\n</g>\n<!-- 4 -->\n<g id=\"node5\" class=\"node\">\n<title>4</title>\n<polygon fill=\"#eb9c63\" stroke=\"#000000\" points=\"255.5,-187 112.5,-187 112.5,-104 255.5,-104 255.5,-187\"/>\n<text text-anchor=\"middle\" x=\"184\" y=\"-171.8\" font-family=\"Helvetica,sans-Serif\" font-size=\"14.00\" fill=\"#000000\">amount &lt;= 10931.5</text>\n<text text-anchor=\"middle\" x=\"184\" y=\"-156.8\" font-family=\"Helvetica,sans-Serif\" font-size=\"14.00\" fill=\"#000000\">gini = 0.289</text>\n<text text-anchor=\"middle\" x=\"184\" y=\"-141.8\" font-family=\"Helvetica,sans-Serif\" font-size=\"14.00\" fill=\"#000000\">samples = 97</text>\n<text text-anchor=\"middle\" x=\"184\" y=\"-126.8\" font-family=\"Helvetica,sans-Serif\" font-size=\"14.00\" fill=\"#000000\">value = [80, 17]</text>\n<text text-anchor=\"middle\" x=\"184\" y=\"-111.8\" font-family=\"Helvetica,sans-Serif\" font-size=\"14.00\" fill=\"#000000\">class = 0</text>\n</g>\n<!-- 3&#45;&gt;4 -->\n<g id=\"edge4\" class=\"edge\">\n<title>3&#45;&gt;4</title>\n<path fill=\"none\" stroke=\"#000000\" d=\"M343.9611,-222.8796C318.2941,-210.4634 290.2599,-196.9022 264.9316,-184.6498\"/>\n<polygon fill=\"#000000\" stroke=\"#000000\" points=\"266.2581,-181.4036 255.7319,-180.1996 263.2099,-187.705 266.2581,-181.4036\"/>\n</g>\n<!-- 7 -->\n<g id=\"node8\" class=\"node\">\n<title>7</title>\n<polygon fill=\"#f4c9ab\" stroke=\"#000000\" points=\"497,-187 363,-187 363,-104 497,-104 497,-187\"/>\n<text text-anchor=\"middle\" x=\"430\" y=\"-171.8\" font-family=\"Helvetica,sans-Serif\" font-size=\"14.00\" fill=\"#000000\">amount &lt;= 1285.5</text>\n<text text-anchor=\"middle\" x=\"430\" y=\"-156.8\" font-family=\"Helvetica,sans-Serif\" font-size=\"14.00\" fill=\"#000000\">gini = 0.463</text>\n<text text-anchor=\"middle\" x=\"430\" y=\"-141.8\" font-family=\"Helvetica,sans-Serif\" font-size=\"14.00\" fill=\"#000000\">samples = 233</text>\n<text text-anchor=\"middle\" x=\"430\" y=\"-126.8\" font-family=\"Helvetica,sans-Serif\" font-size=\"14.00\" fill=\"#000000\">value = [148, 85]</text>\n<text text-anchor=\"middle\" x=\"430\" y=\"-111.8\" font-family=\"Helvetica,sans-Serif\" font-size=\"14.00\" fill=\"#000000\">class = 0</text>\n</g>\n<!-- 3&#45;&gt;7 -->\n<g id=\"edge7\" class=\"edge\">\n<title>3&#45;&gt;7</title>\n<path fill=\"none\" stroke=\"#000000\" d=\"M430,-222.8796C430,-214.6838 430,-205.9891 430,-197.5013\"/>\n<polygon fill=\"#000000\" stroke=\"#000000\" points=\"433.5001,-197.298 430,-187.2981 426.5001,-197.2981 433.5001,-197.298\"/>\n</g>\n<!-- 5 -->\n<g id=\"node6\" class=\"node\">\n<title>5</title>\n<polygon fill=\"#ea995e\" stroke=\"#000000\" points=\"116,-68 0,-68 0,0 116,0 116,-68\"/>\n<text text-anchor=\"middle\" x=\"58\" y=\"-52.8\" font-family=\"Helvetica,sans-Serif\" font-size=\"14.00\" fill=\"#000000\">gini = 0.266</text>\n<text text-anchor=\"middle\" x=\"58\" y=\"-37.8\" font-family=\"Helvetica,sans-Serif\" font-size=\"14.00\" fill=\"#000000\">samples = 95</text>\n<text text-anchor=\"middle\" x=\"58\" y=\"-22.8\" font-family=\"Helvetica,sans-Serif\" font-size=\"14.00\" fill=\"#000000\">value = [80, 15]</text>\n<text text-anchor=\"middle\" x=\"58\" y=\"-7.8\" font-family=\"Helvetica,sans-Serif\" font-size=\"14.00\" fill=\"#000000\">class = 0</text>\n</g>\n<!-- 4&#45;&gt;5 -->\n<g id=\"edge5\" class=\"edge\">\n<title>4&#45;&gt;5</title>\n<path fill=\"none\" stroke=\"#000000\" d=\"M137.0823,-103.9815C126.3848,-94.5151 115.0244,-84.462 104.3508,-75.0168\"/>\n<polygon fill=\"#000000\" stroke=\"#000000\" points=\"106.5278,-72.2696 96.7195,-68.2637 101.8889,-77.5118 106.5278,-72.2696\"/>\n</g>\n<!-- 6 -->\n<g id=\"node7\" class=\"node\">\n<title>6</title>\n<polygon fill=\"#399de5\" stroke=\"#000000\" points=\"233.5,-68 134.5,-68 134.5,0 233.5,0 233.5,-68\"/>\n<text text-anchor=\"middle\" x=\"184\" y=\"-52.8\" font-family=\"Helvetica,sans-Serif\" font-size=\"14.00\" fill=\"#000000\">gini = 0.0</text>\n<text text-anchor=\"middle\" x=\"184\" y=\"-37.8\" font-family=\"Helvetica,sans-Serif\" font-size=\"14.00\" fill=\"#000000\">samples = 2</text>\n<text text-anchor=\"middle\" x=\"184\" y=\"-22.8\" font-family=\"Helvetica,sans-Serif\" font-size=\"14.00\" fill=\"#000000\">value = [0, 2]</text>\n<text text-anchor=\"middle\" x=\"184\" y=\"-7.8\" font-family=\"Helvetica,sans-Serif\" font-size=\"14.00\" fill=\"#000000\">class = 1</text>\n</g>\n<!-- 4&#45;&gt;6 -->\n<g id=\"edge6\" class=\"edge\">\n<title>4&#45;&gt;6</title>\n<path fill=\"none\" stroke=\"#000000\" d=\"M184,-103.9815C184,-95.618 184,-86.7965 184,-78.3409\"/>\n<polygon fill=\"#000000\" stroke=\"#000000\" points=\"187.5001,-78.2636 184,-68.2637 180.5001,-78.2637 187.5001,-78.2636\"/>\n</g>\n<!-- 8 -->\n<g id=\"node9\" class=\"node\">\n<title>8</title>\n<polygon fill=\"#dbedfa\" stroke=\"#000000\" points=\"368,-68 252,-68 252,0 368,0 368,-68\"/>\n<text text-anchor=\"middle\" x=\"310\" y=\"-52.8\" font-family=\"Helvetica,sans-Serif\" font-size=\"14.00\" fill=\"#000000\">gini = 0.495</text>\n<text text-anchor=\"middle\" x=\"310\" y=\"-37.8\" font-family=\"Helvetica,sans-Serif\" font-size=\"14.00\" fill=\"#000000\">samples = 69</text>\n<text text-anchor=\"middle\" x=\"310\" y=\"-22.8\" font-family=\"Helvetica,sans-Serif\" font-size=\"14.00\" fill=\"#000000\">value = [31, 38]</text>\n<text text-anchor=\"middle\" x=\"310\" y=\"-7.8\" font-family=\"Helvetica,sans-Serif\" font-size=\"14.00\" fill=\"#000000\">class = 1</text>\n</g>\n<!-- 7&#45;&gt;8 -->\n<g id=\"edge8\" class=\"edge\">\n<title>7&#45;&gt;8</title>\n<path fill=\"none\" stroke=\"#000000\" d=\"M385.3164,-103.9815C375.2273,-94.607 364.519,-84.6572 354.4399,-75.2921\"/>\n<polygon fill=\"#000000\" stroke=\"#000000\" points=\"356.5839,-72.5065 346.8757,-68.2637 351.8191,-77.6346 356.5839,-72.5065\"/>\n</g>\n<!-- 9 -->\n<g id=\"node10\" class=\"node\">\n<title>9</title>\n<polygon fill=\"#efb489\" stroke=\"#000000\" points=\"510,-68 386,-68 386,0 510,0 510,-68\"/>\n<text text-anchor=\"middle\" x=\"448\" y=\"-52.8\" font-family=\"Helvetica,sans-Serif\" font-size=\"14.00\" fill=\"#000000\">gini = 0.409</text>\n<text text-anchor=\"middle\" x=\"448\" y=\"-37.8\" font-family=\"Helvetica,sans-Serif\" font-size=\"14.00\" fill=\"#000000\">samples = 164</text>\n<text text-anchor=\"middle\" x=\"448\" y=\"-22.8\" font-family=\"Helvetica,sans-Serif\" font-size=\"14.00\" fill=\"#000000\">value = [117, 47]</text>\n<text text-anchor=\"middle\" x=\"448\" y=\"-7.8\" font-family=\"Helvetica,sans-Serif\" font-size=\"14.00\" fill=\"#000000\">class = 0</text>\n</g>\n<!-- 7&#45;&gt;9 -->\n<g id=\"edge9\" class=\"edge\">\n<title>7&#45;&gt;9</title>\n<path fill=\"none\" stroke=\"#000000\" d=\"M436.7025,-103.9815C438.0527,-95.618 439.4768,-86.7965 440.8418,-78.3409\"/>\n<polygon fill=\"#000000\" stroke=\"#000000\" points=\"444.3301,-78.6937 442.4686,-68.2637 437.4196,-77.578 444.3301,-78.6937\"/>\n</g>\n<!-- 11 -->\n<g id=\"node12\" class=\"node\">\n<title>11</title>\n<polygon fill=\"#49a5e7\" stroke=\"#000000\" points=\"745,-187 563,-187 563,-104 745,-104 745,-187\"/>\n<text text-anchor=\"middle\" x=\"654\" y=\"-171.8\" font-family=\"Helvetica,sans-Serif\" font-size=\"14.00\" fill=\"#000000\">purpose_retraining &lt;= 0.5</text>\n<text text-anchor=\"middle\" x=\"654\" y=\"-156.8\" font-family=\"Helvetica,sans-Serif\" font-size=\"14.00\" fill=\"#000000\">gini = 0.142</text>\n<text text-anchor=\"middle\" x=\"654\" y=\"-141.8\" font-family=\"Helvetica,sans-Serif\" font-size=\"14.00\" fill=\"#000000\">samples = 13</text>\n<text text-anchor=\"middle\" x=\"654\" y=\"-126.8\" font-family=\"Helvetica,sans-Serif\" font-size=\"14.00\" fill=\"#000000\">value = [1, 12]</text>\n<text text-anchor=\"middle\" x=\"654\" y=\"-111.8\" font-family=\"Helvetica,sans-Serif\" font-size=\"14.00\" fill=\"#000000\">class = 1</text>\n</g>\n<!-- 10&#45;&gt;11 -->\n<g id=\"edge11\" class=\"edge\">\n<title>10&#45;&gt;11</title>\n<path fill=\"none\" stroke=\"#000000\" d=\"M709.2711,-222.8796C702.9667,-214.0534 696.249,-204.6485 689.7476,-195.5466\"/>\n<polygon fill=\"#000000\" stroke=\"#000000\" points=\"692.5163,-193.4011 683.8558,-187.2981 686.8201,-197.4698 692.5163,-193.4011\"/>\n</g>\n<!-- 14 -->\n<g id=\"node15\" class=\"node\">\n<title>14</title>\n<polygon fill=\"#f2c09c\" stroke=\"#000000\" points=\"1009,-187 763,-187 763,-104 1009,-104 1009,-187\"/>\n<text text-anchor=\"middle\" x=\"886\" y=\"-171.8\" font-family=\"Helvetica,sans-Serif\" font-size=\"14.00\" fill=\"#000000\">personal_status_single male &lt;= 0.5</text>\n<text text-anchor=\"middle\" x=\"886\" y=\"-156.8\" font-family=\"Helvetica,sans-Serif\" font-size=\"14.00\" fill=\"#000000\">gini = 0.444</text>\n<text text-anchor=\"middle\" x=\"886\" y=\"-141.8\" font-family=\"Helvetica,sans-Serif\" font-size=\"14.00\" fill=\"#000000\">samples = 6</text>\n<text text-anchor=\"middle\" x=\"886\" y=\"-126.8\" font-family=\"Helvetica,sans-Serif\" font-size=\"14.00\" fill=\"#000000\">value = [4, 2]</text>\n<text text-anchor=\"middle\" x=\"886\" y=\"-111.8\" font-family=\"Helvetica,sans-Serif\" font-size=\"14.00\" fill=\"#000000\">class = 0</text>\n</g>\n<!-- 10&#45;&gt;14 -->\n<g id=\"edge14\" class=\"edge\">\n<title>10&#45;&gt;14</title>\n<path fill=\"none\" stroke=\"#000000\" d=\"M790.4135,-222.8796C802.0952,-213.4229 814.5975,-203.302 826.581,-193.6011\"/>\n<polygon fill=\"#000000\" stroke=\"#000000\" points=\"828.7968,-196.3105 834.3671,-187.2981 824.3924,-190.8697 828.7968,-196.3105\"/>\n</g>\n<!-- 12 -->\n<g id=\"node13\" class=\"node\">\n<title>12</title>\n<polygon fill=\"#399de5\" stroke=\"#000000\" points=\"635.5,-68 528.5,-68 528.5,0 635.5,0 635.5,-68\"/>\n<text text-anchor=\"middle\" x=\"582\" y=\"-52.8\" font-family=\"Helvetica,sans-Serif\" font-size=\"14.00\" fill=\"#000000\">gini = 0.0</text>\n<text text-anchor=\"middle\" x=\"582\" y=\"-37.8\" font-family=\"Helvetica,sans-Serif\" font-size=\"14.00\" fill=\"#000000\">samples = 12</text>\n<text text-anchor=\"middle\" x=\"582\" y=\"-22.8\" font-family=\"Helvetica,sans-Serif\" font-size=\"14.00\" fill=\"#000000\">value = [0, 12]</text>\n<text text-anchor=\"middle\" x=\"582\" y=\"-7.8\" font-family=\"Helvetica,sans-Serif\" font-size=\"14.00\" fill=\"#000000\">class = 1</text>\n</g>\n<!-- 11&#45;&gt;12 -->\n<g id=\"edge12\" class=\"edge\">\n<title>11&#45;&gt;12</title>\n<path fill=\"none\" stroke=\"#000000\" d=\"M627.1899,-103.9815C621.4331,-95.0666 615.3404,-85.6313 609.5559,-76.6734\"/>\n<polygon fill=\"#000000\" stroke=\"#000000\" points=\"612.4904,-74.7658 604.1254,-68.2637 606.6099,-78.5631 612.4904,-74.7658\"/>\n</g>\n<!-- 13 -->\n<g id=\"node14\" class=\"node\">\n<title>13</title>\n<polygon fill=\"#e58139\" stroke=\"#000000\" points=\"752.5,-68 653.5,-68 653.5,0 752.5,0 752.5,-68\"/>\n<text text-anchor=\"middle\" x=\"703\" y=\"-52.8\" font-family=\"Helvetica,sans-Serif\" font-size=\"14.00\" fill=\"#000000\">gini = 0.0</text>\n<text text-anchor=\"middle\" x=\"703\" y=\"-37.8\" font-family=\"Helvetica,sans-Serif\" font-size=\"14.00\" fill=\"#000000\">samples = 1</text>\n<text text-anchor=\"middle\" x=\"703\" y=\"-22.8\" font-family=\"Helvetica,sans-Serif\" font-size=\"14.00\" fill=\"#000000\">value = [1, 0]</text>\n<text text-anchor=\"middle\" x=\"703\" y=\"-7.8\" font-family=\"Helvetica,sans-Serif\" font-size=\"14.00\" fill=\"#000000\">class = 0</text>\n</g>\n<!-- 11&#45;&gt;13 -->\n<g id=\"edge13\" class=\"edge\">\n<title>11&#45;&gt;13</title>\n<path fill=\"none\" stroke=\"#000000\" d=\"M672.2458,-103.9815C676.0424,-95.3423 680.0538,-86.2144 683.8808,-77.5059\"/>\n<polygon fill=\"#000000\" stroke=\"#000000\" points=\"687.1233,-78.8268 687.9424,-68.2637 680.7149,-76.0105 687.1233,-78.8268\"/>\n</g>\n<!-- 15 -->\n<g id=\"node16\" class=\"node\">\n<title>15</title>\n<polygon fill=\"#9ccef2\" stroke=\"#000000\" points=\"869.5,-68 770.5,-68 770.5,0 869.5,0 869.5,-68\"/>\n<text text-anchor=\"middle\" x=\"820\" y=\"-52.8\" font-family=\"Helvetica,sans-Serif\" font-size=\"14.00\" fill=\"#000000\">gini = 0.444</text>\n<text text-anchor=\"middle\" x=\"820\" y=\"-37.8\" font-family=\"Helvetica,sans-Serif\" font-size=\"14.00\" fill=\"#000000\">samples = 3</text>\n<text text-anchor=\"middle\" x=\"820\" y=\"-22.8\" font-family=\"Helvetica,sans-Serif\" font-size=\"14.00\" fill=\"#000000\">value = [1, 2]</text>\n<text text-anchor=\"middle\" x=\"820\" y=\"-7.8\" font-family=\"Helvetica,sans-Serif\" font-size=\"14.00\" fill=\"#000000\">class = 1</text>\n</g>\n<!-- 14&#45;&gt;15 -->\n<g id=\"edge15\" class=\"edge\">\n<title>14&#45;&gt;15</title>\n<path fill=\"none\" stroke=\"#000000\" d=\"M861.424,-103.9815C856.2014,-95.1585 850.6771,-85.8258 845.4237,-76.9506\"/>\n<polygon fill=\"#000000\" stroke=\"#000000\" points=\"848.3874,-75.0863 840.2816,-68.2637 842.3636,-78.652 848.3874,-75.0863\"/>\n</g>\n<!-- 16 -->\n<g id=\"node17\" class=\"node\">\n<title>16</title>\n<polygon fill=\"#e58139\" stroke=\"#000000\" points=\"986.5,-68 887.5,-68 887.5,0 986.5,0 986.5,-68\"/>\n<text text-anchor=\"middle\" x=\"937\" y=\"-52.8\" font-family=\"Helvetica,sans-Serif\" font-size=\"14.00\" fill=\"#000000\">gini = 0.0</text>\n<text text-anchor=\"middle\" x=\"937\" y=\"-37.8\" font-family=\"Helvetica,sans-Serif\" font-size=\"14.00\" fill=\"#000000\">samples = 3</text>\n<text text-anchor=\"middle\" x=\"937\" y=\"-22.8\" font-family=\"Helvetica,sans-Serif\" font-size=\"14.00\" fill=\"#000000\">value = [3, 0]</text>\n<text text-anchor=\"middle\" x=\"937\" y=\"-7.8\" font-family=\"Helvetica,sans-Serif\" font-size=\"14.00\" fill=\"#000000\">class = 0</text>\n</g>\n<!-- 14&#45;&gt;16 -->\n<g id=\"edge16\" class=\"edge\">\n<title>14&#45;&gt;16</title>\n<path fill=\"none\" stroke=\"#000000\" d=\"M904.9905,-103.9815C908.9421,-95.3423 913.1172,-86.2144 917.1005,-77.5059\"/>\n<polygon fill=\"#000000\" stroke=\"#000000\" points=\"920.3511,-78.8134 921.3278,-68.2637 913.9854,-75.9017 920.3511,-78.8134\"/>\n</g>\n<!-- 18 -->\n<g id=\"node19\" class=\"node\">\n<title>18</title>\n<polygon fill=\"#f5cfb3\" stroke=\"#000000\" points=\"1475,-306 1279,-306 1279,-223 1475,-223 1475,-306\"/>\n<text text-anchor=\"middle\" x=\"1377\" y=\"-290.8\" font-family=\"Helvetica,sans-Serif\" font-size=\"14.00\" fill=\"#000000\">credit_history_repaid &lt;= 0.5</text>\n<text text-anchor=\"middle\" x=\"1377\" y=\"-275.8\" font-family=\"Helvetica,sans-Serif\" font-size=\"14.00\" fill=\"#000000\">gini = 0.472</text>\n<text text-anchor=\"middle\" x=\"1377\" y=\"-260.8\" font-family=\"Helvetica,sans-Serif\" font-size=\"14.00\" fill=\"#000000\">samples = 89</text>\n<text text-anchor=\"middle\" x=\"1377\" y=\"-245.8\" font-family=\"Helvetica,sans-Serif\" font-size=\"14.00\" fill=\"#000000\">value = [55, 34]</text>\n<text text-anchor=\"middle\" x=\"1377\" y=\"-230.8\" font-family=\"Helvetica,sans-Serif\" font-size=\"14.00\" fill=\"#000000\">class = 0</text>\n</g>\n<!-- 17&#45;&gt;18 -->\n<g id=\"edge18\" class=\"edge\">\n<title>17&#45;&gt;18</title>\n<path fill=\"none\" stroke=\"#000000\" d=\"M1461.5323,-341.8796C1451.3983,-332.6031 1440.566,-322.6874 1430.1535,-313.1559\"/>\n<polygon fill=\"#000000\" stroke=\"#000000\" points=\"1432.4013,-310.4685 1422.6618,-306.2981 1427.6748,-315.6319 1432.4013,-310.4685\"/>\n</g>\n<!-- 25 -->\n<g id=\"node26\" class=\"node\">\n<title>25</title>\n<polygon fill=\"#b3d9f5\" stroke=\"#000000\" points=\"1725,-306 1511,-306 1511,-223 1725,-223 1725,-306\"/>\n<text text-anchor=\"middle\" x=\"1618\" y=\"-290.8\" font-family=\"Helvetica,sans-Serif\" font-size=\"14.00\" fill=\"#000000\">months_loan_duration &lt;= 43.5</text>\n<text text-anchor=\"middle\" x=\"1618\" y=\"-275.8\" font-family=\"Helvetica,sans-Serif\" font-size=\"14.00\" fill=\"#000000\">gini = 0.472</text>\n<text text-anchor=\"middle\" x=\"1618\" y=\"-260.8\" font-family=\"Helvetica,sans-Serif\" font-size=\"14.00\" fill=\"#000000\">samples = 168</text>\n<text text-anchor=\"middle\" x=\"1618\" y=\"-245.8\" font-family=\"Helvetica,sans-Serif\" font-size=\"14.00\" fill=\"#000000\">value = [64, 104]</text>\n<text text-anchor=\"middle\" x=\"1618\" y=\"-230.8\" font-family=\"Helvetica,sans-Serif\" font-size=\"14.00\" fill=\"#000000\">class = 1</text>\n</g>\n<!-- 17&#45;&gt;25 -->\n<g id=\"edge25\" class=\"edge\">\n<title>17&#45;&gt;25</title>\n<path fill=\"none\" stroke=\"#000000\" d=\"M1545.8224,-341.8796C1554.3073,-332.7832 1563.3654,-323.0722 1572.0968,-313.7116\"/>\n<polygon fill=\"#000000\" stroke=\"#000000\" points=\"1574.7503,-315.9981 1579.0119,-306.2981 1569.6314,-311.2233 1574.7503,-315.9981\"/>\n</g>\n<!-- 19 -->\n<g id=\"node20\" class=\"node\">\n<title>19</title>\n<polygon fill=\"#eda876\" stroke=\"#000000\" points=\"1281.5,-187 1084.5,-187 1084.5,-104 1281.5,-104 1281.5,-187\"/>\n<text text-anchor=\"middle\" x=\"1183\" y=\"-171.8\" font-family=\"Helvetica,sans-Serif\" font-size=\"14.00\" fill=\"#000000\">job_skilled employee &lt;= 0.5</text>\n<text text-anchor=\"middle\" x=\"1183\" y=\"-156.8\" font-family=\"Helvetica,sans-Serif\" font-size=\"14.00\" fill=\"#000000\">gini = 0.359</text>\n<text text-anchor=\"middle\" x=\"1183\" y=\"-141.8\" font-family=\"Helvetica,sans-Serif\" font-size=\"14.00\" fill=\"#000000\">samples = 47</text>\n<text text-anchor=\"middle\" x=\"1183\" y=\"-126.8\" font-family=\"Helvetica,sans-Serif\" font-size=\"14.00\" fill=\"#000000\">value = [36, 11]</text>\n<text text-anchor=\"middle\" x=\"1183\" y=\"-111.8\" font-family=\"Helvetica,sans-Serif\" font-size=\"14.00\" fill=\"#000000\">class = 0</text>\n</g>\n<!-- 18&#45;&gt;19 -->\n<g id=\"edge19\" class=\"edge\">\n<title>18&#45;&gt;19</title>\n<path fill=\"none\" stroke=\"#000000\" d=\"M1309.1482,-222.8796C1293.1989,-213.0962 1276.0904,-202.6019 1259.7802,-192.5971\"/>\n<polygon fill=\"#000000\" stroke=\"#000000\" points=\"1261.1677,-189.3422 1250.8135,-187.0969 1257.5075,-195.3091 1261.1677,-189.3422\"/>\n</g>\n<!-- 22 -->\n<g id=\"node23\" class=\"node\">\n<title>22</title>\n<polygon fill=\"#ddeefa\" stroke=\"#000000\" points=\"1444,-187 1310,-187 1310,-104 1444,-104 1444,-187\"/>\n<text text-anchor=\"middle\" x=\"1377\" y=\"-171.8\" font-family=\"Helvetica,sans-Serif\" font-size=\"14.00\" fill=\"#000000\">amount &lt;= 5488.0</text>\n<text text-anchor=\"middle\" x=\"1377\" y=\"-156.8\" font-family=\"Helvetica,sans-Serif\" font-size=\"14.00\" fill=\"#000000\">gini = 0.495</text>\n<text text-anchor=\"middle\" x=\"1377\" y=\"-141.8\" font-family=\"Helvetica,sans-Serif\" font-size=\"14.00\" fill=\"#000000\">samples = 42</text>\n<text text-anchor=\"middle\" x=\"1377\" y=\"-126.8\" font-family=\"Helvetica,sans-Serif\" font-size=\"14.00\" fill=\"#000000\">value = [19, 23]</text>\n<text text-anchor=\"middle\" x=\"1377\" y=\"-111.8\" font-family=\"Helvetica,sans-Serif\" font-size=\"14.00\" fill=\"#000000\">class = 1</text>\n</g>\n<!-- 18&#45;&gt;22 -->\n<g id=\"edge22\" class=\"edge\">\n<title>18&#45;&gt;22</title>\n<path fill=\"none\" stroke=\"#000000\" d=\"M1377,-222.8796C1377,-214.6838 1377,-205.9891 1377,-197.5013\"/>\n<polygon fill=\"#000000\" stroke=\"#000000\" points=\"1380.5001,-197.298 1377,-187.2981 1373.5001,-197.2981 1380.5001,-197.298\"/>\n</g>\n<!-- 20 -->\n<g id=\"node21\" class=\"node\">\n<title>20</title>\n<polygon fill=\"#f5cfb3\" stroke=\"#000000\" points=\"1111.5,-68 1004.5,-68 1004.5,0 1111.5,0 1111.5,-68\"/>\n<text text-anchor=\"middle\" x=\"1058\" y=\"-52.8\" font-family=\"Helvetica,sans-Serif\" font-size=\"14.00\" fill=\"#000000\">gini = 0.472</text>\n<text text-anchor=\"middle\" x=\"1058\" y=\"-37.8\" font-family=\"Helvetica,sans-Serif\" font-size=\"14.00\" fill=\"#000000\">samples = 21</text>\n<text text-anchor=\"middle\" x=\"1058\" y=\"-22.8\" font-family=\"Helvetica,sans-Serif\" font-size=\"14.00\" fill=\"#000000\">value = [13, 8]</text>\n<text text-anchor=\"middle\" x=\"1058\" y=\"-7.8\" font-family=\"Helvetica,sans-Serif\" font-size=\"14.00\" fill=\"#000000\">class = 0</text>\n</g>\n<!-- 19&#45;&gt;20 -->\n<g id=\"edge20\" class=\"edge\">\n<title>19&#45;&gt;20</title>\n<path fill=\"none\" stroke=\"#000000\" d=\"M1136.4546,-103.9815C1125.8421,-94.5151 1114.5718,-84.462 1103.9829,-75.0168\"/>\n<polygon fill=\"#000000\" stroke=\"#000000\" points=\"1106.2046,-72.3084 1096.4122,-68.2637 1101.5449,-77.5322 1106.2046,-72.3084\"/>\n</g>\n<!-- 21 -->\n<g id=\"node22\" class=\"node\">\n<title>21</title>\n<polygon fill=\"#e89153\" stroke=\"#000000\" points=\"1236.5,-68 1129.5,-68 1129.5,0 1236.5,0 1236.5,-68\"/>\n<text text-anchor=\"middle\" x=\"1183\" y=\"-52.8\" font-family=\"Helvetica,sans-Serif\" font-size=\"14.00\" fill=\"#000000\">gini = 0.204</text>\n<text text-anchor=\"middle\" x=\"1183\" y=\"-37.8\" font-family=\"Helvetica,sans-Serif\" font-size=\"14.00\" fill=\"#000000\">samples = 26</text>\n<text text-anchor=\"middle\" x=\"1183\" y=\"-22.8\" font-family=\"Helvetica,sans-Serif\" font-size=\"14.00\" fill=\"#000000\">value = [23, 3]</text>\n<text text-anchor=\"middle\" x=\"1183\" y=\"-7.8\" font-family=\"Helvetica,sans-Serif\" font-size=\"14.00\" fill=\"#000000\">class = 0</text>\n</g>\n<!-- 19&#45;&gt;21 -->\n<g id=\"edge21\" class=\"edge\">\n<title>19&#45;&gt;21</title>\n<path fill=\"none\" stroke=\"#000000\" d=\"M1183,-103.9815C1183,-95.618 1183,-86.7965 1183,-78.3409\"/>\n<polygon fill=\"#000000\" stroke=\"#000000\" points=\"1186.5001,-78.2636 1183,-68.2637 1179.5001,-78.2637 1186.5001,-78.2636\"/>\n</g>\n<!-- 23 -->\n<g id=\"node24\" class=\"node\">\n<title>23</title>\n<polygon fill=\"#f9e1d0\" stroke=\"#000000\" points=\"1371,-68 1255,-68 1255,0 1371,0 1371,-68\"/>\n<text text-anchor=\"middle\" x=\"1313\" y=\"-52.8\" font-family=\"Helvetica,sans-Serif\" font-size=\"14.00\" fill=\"#000000\">gini = 0.491</text>\n<text text-anchor=\"middle\" x=\"1313\" y=\"-37.8\" font-family=\"Helvetica,sans-Serif\" font-size=\"14.00\" fill=\"#000000\">samples = 30</text>\n<text text-anchor=\"middle\" x=\"1313\" y=\"-22.8\" font-family=\"Helvetica,sans-Serif\" font-size=\"14.00\" fill=\"#000000\">value = [17, 13]</text>\n<text text-anchor=\"middle\" x=\"1313\" y=\"-7.8\" font-family=\"Helvetica,sans-Serif\" font-size=\"14.00\" fill=\"#000000\">class = 0</text>\n</g>\n<!-- 22&#45;&gt;23 -->\n<g id=\"edge23\" class=\"edge\">\n<title>22&#45;&gt;23</title>\n<path fill=\"none\" stroke=\"#000000\" d=\"M1353.1688,-103.9815C1348.1044,-95.1585 1342.7475,-85.8258 1337.6532,-76.9506\"/>\n<polygon fill=\"#000000\" stroke=\"#000000\" points=\"1340.6807,-75.1942 1332.667,-68.2637 1334.6097,-78.6789 1340.6807,-75.1942\"/>\n</g>\n<!-- 24 -->\n<g id=\"node25\" class=\"node\">\n<title>24</title>\n<polygon fill=\"#61b1ea\" stroke=\"#000000\" points=\"1496.5,-68 1389.5,-68 1389.5,0 1496.5,0 1496.5,-68\"/>\n<text text-anchor=\"middle\" x=\"1443\" y=\"-52.8\" font-family=\"Helvetica,sans-Serif\" font-size=\"14.00\" fill=\"#000000\">gini = 0.278</text>\n<text text-anchor=\"middle\" x=\"1443\" y=\"-37.8\" font-family=\"Helvetica,sans-Serif\" font-size=\"14.00\" fill=\"#000000\">samples = 12</text>\n<text text-anchor=\"middle\" x=\"1443\" y=\"-22.8\" font-family=\"Helvetica,sans-Serif\" font-size=\"14.00\" fill=\"#000000\">value = [2, 10]</text>\n<text text-anchor=\"middle\" x=\"1443\" y=\"-7.8\" font-family=\"Helvetica,sans-Serif\" font-size=\"14.00\" fill=\"#000000\">class = 1</text>\n</g>\n<!-- 22&#45;&gt;24 -->\n<g id=\"edge24\" class=\"edge\">\n<title>22&#45;&gt;24</title>\n<path fill=\"none\" stroke=\"#000000\" d=\"M1401.576,-103.9815C1406.7986,-95.1585 1412.3229,-85.8258 1417.5763,-76.9506\"/>\n<polygon fill=\"#000000\" stroke=\"#000000\" points=\"1420.6364,-78.652 1422.7184,-68.2637 1414.6126,-75.0863 1420.6364,-78.652\"/>\n</g>\n<!-- 26 -->\n<g id=\"node27\" class=\"node\">\n<title>26</title>\n<polygon fill=\"#daedfa\" stroke=\"#000000\" points=\"1709,-187 1527,-187 1527,-104 1709,-104 1709,-187\"/>\n<text text-anchor=\"middle\" x=\"1618\" y=\"-171.8\" font-family=\"Helvetica,sans-Serif\" font-size=\"14.00\" fill=\"#000000\">purpose_car (new) &lt;= 0.5</text>\n<text text-anchor=\"middle\" x=\"1618\" y=\"-156.8\" font-family=\"Helvetica,sans-Serif\" font-size=\"14.00\" fill=\"#000000\">gini = 0.495</text>\n<text text-anchor=\"middle\" x=\"1618\" y=\"-141.8\" font-family=\"Helvetica,sans-Serif\" font-size=\"14.00\" fill=\"#000000\">samples = 136</text>\n<text text-anchor=\"middle\" x=\"1618\" y=\"-126.8\" font-family=\"Helvetica,sans-Serif\" font-size=\"14.00\" fill=\"#000000\">value = [61, 75]</text>\n<text text-anchor=\"middle\" x=\"1618\" y=\"-111.8\" font-family=\"Helvetica,sans-Serif\" font-size=\"14.00\" fill=\"#000000\">class = 1</text>\n</g>\n<!-- 25&#45;&gt;26 -->\n<g id=\"edge26\" class=\"edge\">\n<title>25&#45;&gt;26</title>\n<path fill=\"none\" stroke=\"#000000\" d=\"M1618,-222.8796C1618,-214.6838 1618,-205.9891 1618,-197.5013\"/>\n<polygon fill=\"#000000\" stroke=\"#000000\" points=\"1621.5001,-197.298 1618,-187.2981 1614.5001,-197.2981 1621.5001,-197.298\"/>\n</g>\n<!-- 29 -->\n<g id=\"node30\" class=\"node\">\n<title>29</title>\n<polygon fill=\"#4da7e8\" stroke=\"#000000\" points=\"1912,-187 1736,-187 1736,-104 1912,-104 1912,-187\"/>\n<text text-anchor=\"middle\" x=\"1824\" y=\"-171.8\" font-family=\"Helvetica,sans-Serif\" font-size=\"14.00\" fill=\"#000000\">residence_history &lt;= 1.5</text>\n<text text-anchor=\"middle\" x=\"1824\" y=\"-156.8\" font-family=\"Helvetica,sans-Serif\" font-size=\"14.00\" fill=\"#000000\">gini = 0.17</text>\n<text text-anchor=\"middle\" x=\"1824\" y=\"-141.8\" font-family=\"Helvetica,sans-Serif\" font-size=\"14.00\" fill=\"#000000\">samples = 32</text>\n<text text-anchor=\"middle\" x=\"1824\" y=\"-126.8\" font-family=\"Helvetica,sans-Serif\" font-size=\"14.00\" fill=\"#000000\">value = [3, 29]</text>\n<text text-anchor=\"middle\" x=\"1824\" y=\"-111.8\" font-family=\"Helvetica,sans-Serif\" font-size=\"14.00\" fill=\"#000000\">class = 1</text>\n</g>\n<!-- 25&#45;&gt;29 -->\n<g id=\"edge29\" class=\"edge\">\n<title>25&#45;&gt;29</title>\n<path fill=\"none\" stroke=\"#000000\" d=\"M1690.0488,-222.8796C1707.1415,-213.0056 1725.4879,-202.4075 1742.9514,-192.3193\"/>\n<polygon fill=\"#000000\" stroke=\"#000000\" points=\"1745.0836,-195.1297 1751.9919,-187.0969 1741.5821,-189.0684 1745.0836,-195.1297\"/>\n</g>\n<!-- 27 -->\n<g id=\"node28\" class=\"node\">\n<title>27</title>\n<polygon fill=\"#fdf4ee\" stroke=\"#000000\" points=\"1631,-68 1515,-68 1515,0 1631,0 1631,-68\"/>\n<text text-anchor=\"middle\" x=\"1573\" y=\"-52.8\" font-family=\"Helvetica,sans-Serif\" font-size=\"14.00\" fill=\"#000000\">gini = 0.499</text>\n<text text-anchor=\"middle\" x=\"1573\" y=\"-37.8\" font-family=\"Helvetica,sans-Serif\" font-size=\"14.00\" fill=\"#000000\">samples = 111</text>\n<text text-anchor=\"middle\" x=\"1573\" y=\"-22.8\" font-family=\"Helvetica,sans-Serif\" font-size=\"14.00\" fill=\"#000000\">value = [58, 53]</text>\n<text text-anchor=\"middle\" x=\"1573\" y=\"-7.8\" font-family=\"Helvetica,sans-Serif\" font-size=\"14.00\" fill=\"#000000\">class = 0</text>\n</g>\n<!-- 26&#45;&gt;27 -->\n<g id=\"edge27\" class=\"edge\">\n<title>26&#45;&gt;27</title>\n<path fill=\"none\" stroke=\"#000000\" d=\"M1601.2437,-103.9815C1597.7941,-95.4342 1594.1514,-86.4086 1590.6706,-77.7839\"/>\n<polygon fill=\"#000000\" stroke=\"#000000\" points=\"1593.8167,-76.227 1586.8284,-68.2637 1587.3254,-78.8469 1593.8167,-76.227\"/>\n</g>\n<!-- 28 -->\n<g id=\"node29\" class=\"node\">\n<title>28</title>\n<polygon fill=\"#54aae9\" stroke=\"#000000\" points=\"1756.5,-68 1649.5,-68 1649.5,0 1756.5,0 1756.5,-68\"/>\n<text text-anchor=\"middle\" x=\"1703\" y=\"-52.8\" font-family=\"Helvetica,sans-Serif\" font-size=\"14.00\" fill=\"#000000\">gini = 0.211</text>\n<text text-anchor=\"middle\" x=\"1703\" y=\"-37.8\" font-family=\"Helvetica,sans-Serif\" font-size=\"14.00\" fill=\"#000000\">samples = 25</text>\n<text text-anchor=\"middle\" x=\"1703\" y=\"-22.8\" font-family=\"Helvetica,sans-Serif\" font-size=\"14.00\" fill=\"#000000\">value = [3, 22]</text>\n<text text-anchor=\"middle\" x=\"1703\" y=\"-7.8\" font-family=\"Helvetica,sans-Serif\" font-size=\"14.00\" fill=\"#000000\">class = 1</text>\n</g>\n<!-- 26&#45;&gt;28 -->\n<g id=\"edge28\" class=\"edge\">\n<title>26&#45;&gt;28</title>\n<path fill=\"none\" stroke=\"#000000\" d=\"M1649.6509,-103.9815C1656.5171,-94.9747 1663.7882,-85.4367 1670.6798,-76.3965\"/>\n<polygon fill=\"#000000\" stroke=\"#000000\" points=\"1673.6005,-78.3383 1676.8797,-68.2637 1668.0336,-74.0945 1673.6005,-78.3383\"/>\n</g>\n<!-- 30 -->\n<g id=\"node31\" class=\"node\">\n<title>30</title>\n<polygon fill=\"#f2c09c\" stroke=\"#000000\" points=\"1873.5,-68 1774.5,-68 1774.5,0 1873.5,0 1873.5,-68\"/>\n<text text-anchor=\"middle\" x=\"1824\" y=\"-52.8\" font-family=\"Helvetica,sans-Serif\" font-size=\"14.00\" fill=\"#000000\">gini = 0.444</text>\n<text text-anchor=\"middle\" x=\"1824\" y=\"-37.8\" font-family=\"Helvetica,sans-Serif\" font-size=\"14.00\" fill=\"#000000\">samples = 3</text>\n<text text-anchor=\"middle\" x=\"1824\" y=\"-22.8\" font-family=\"Helvetica,sans-Serif\" font-size=\"14.00\" fill=\"#000000\">value = [2, 1]</text>\n<text text-anchor=\"middle\" x=\"1824\" y=\"-7.8\" font-family=\"Helvetica,sans-Serif\" font-size=\"14.00\" fill=\"#000000\">class = 0</text>\n</g>\n<!-- 29&#45;&gt;30 -->\n<g id=\"edge30\" class=\"edge\">\n<title>29&#45;&gt;30</title>\n<path fill=\"none\" stroke=\"#000000\" d=\"M1824,-103.9815C1824,-95.618 1824,-86.7965 1824,-78.3409\"/>\n<polygon fill=\"#000000\" stroke=\"#000000\" points=\"1827.5001,-78.2636 1824,-68.2637 1820.5001,-78.2637 1827.5001,-78.2636\"/>\n</g>\n<!-- 31 -->\n<g id=\"node32\" class=\"node\">\n<title>31</title>\n<polygon fill=\"#40a0e6\" stroke=\"#000000\" points=\"1998.5,-68 1891.5,-68 1891.5,0 1998.5,0 1998.5,-68\"/>\n<text text-anchor=\"middle\" x=\"1945\" y=\"-52.8\" font-family=\"Helvetica,sans-Serif\" font-size=\"14.00\" fill=\"#000000\">gini = 0.067</text>\n<text text-anchor=\"middle\" x=\"1945\" y=\"-37.8\" font-family=\"Helvetica,sans-Serif\" font-size=\"14.00\" fill=\"#000000\">samples = 29</text>\n<text text-anchor=\"middle\" x=\"1945\" y=\"-22.8\" font-family=\"Helvetica,sans-Serif\" font-size=\"14.00\" fill=\"#000000\">value = [1, 28]</text>\n<text text-anchor=\"middle\" x=\"1945\" y=\"-7.8\" font-family=\"Helvetica,sans-Serif\" font-size=\"14.00\" fill=\"#000000\">class = 1</text>\n</g>\n<!-- 29&#45;&gt;31 -->\n<g id=\"edge31\" class=\"edge\">\n<title>29&#45;&gt;31</title>\n<path fill=\"none\" stroke=\"#000000\" d=\"M1869.0559,-103.9815C1879.2291,-94.607 1890.0267,-84.6572 1900.1898,-75.2921\"/>\n<polygon fill=\"#000000\" stroke=\"#000000\" points=\"1902.8349,-77.6141 1907.817,-68.2637 1898.0913,-72.4663 1902.8349,-77.6141\"/>\n</g>\n<!-- 33 -->\n<g id=\"node34\" class=\"node\">\n<title>33</title>\n<polygon fill=\"#f0b68d\" stroke=\"#000000\" points=\"2437.5,-425 2160.5,-425 2160.5,-342 2437.5,-342 2437.5,-425\"/>\n<text text-anchor=\"middle\" x=\"2299\" y=\"-409.8\" font-family=\"Helvetica,sans-Serif\" font-size=\"14.00\" fill=\"#000000\">employment_length_unemployed &lt;= 0.5</text>\n<text text-anchor=\"middle\" x=\"2299\" y=\"-394.8\" font-family=\"Helvetica,sans-Serif\" font-size=\"14.00\" fill=\"#000000\">gini = 0.417</text>\n<text text-anchor=\"middle\" x=\"2299\" y=\"-379.8\" font-family=\"Helvetica,sans-Serif\" font-size=\"14.00\" fill=\"#000000\">samples = 64</text>\n<text text-anchor=\"middle\" x=\"2299\" y=\"-364.8\" font-family=\"Helvetica,sans-Serif\" font-size=\"14.00\" fill=\"#000000\">value = [45, 19]</text>\n<text text-anchor=\"middle\" x=\"2299\" y=\"-349.8\" font-family=\"Helvetica,sans-Serif\" font-size=\"14.00\" fill=\"#000000\">class = 0</text>\n</g>\n<!-- 32&#45;&gt;33 -->\n<g id=\"edge33\" class=\"edge\">\n<title>32&#45;&gt;33</title>\n<path fill=\"none\" stroke=\"#000000\" d=\"M2299,-460.8796C2299,-452.6838 2299,-443.9891 2299,-435.5013\"/>\n<polygon fill=\"#000000\" stroke=\"#000000\" points=\"2302.5001,-435.298 2299,-425.2981 2295.5001,-435.2981 2302.5001,-435.298\"/>\n</g>\n<!-- 42 -->\n<g id=\"node43\" class=\"node\">\n<title>42</title>\n<polygon fill=\"#e78c4b\" stroke=\"#000000\" points=\"2856,-425 2732,-425 2732,-342 2856,-342 2856,-425\"/>\n<text text-anchor=\"middle\" x=\"2794\" y=\"-409.8\" font-family=\"Helvetica,sans-Serif\" font-size=\"14.00\" fill=\"#000000\">age &lt;= 30.5</text>\n<text text-anchor=\"middle\" x=\"2794\" y=\"-394.8\" font-family=\"Helvetica,sans-Serif\" font-size=\"14.00\" fill=\"#000000\">gini = 0.15</text>\n<text text-anchor=\"middle\" x=\"2794\" y=\"-379.8\" font-family=\"Helvetica,sans-Serif\" font-size=\"14.00\" fill=\"#000000\">samples = 330</text>\n<text text-anchor=\"middle\" x=\"2794\" y=\"-364.8\" font-family=\"Helvetica,sans-Serif\" font-size=\"14.00\" fill=\"#000000\">value = [303, 27]</text>\n<text text-anchor=\"middle\" x=\"2794\" y=\"-349.8\" font-family=\"Helvetica,sans-Serif\" font-size=\"14.00\" fill=\"#000000\">class = 0</text>\n</g>\n<!-- 32&#45;&gt;42 -->\n<g id=\"edge42\" class=\"edge\">\n<title>32&#45;&gt;42</title>\n<path fill=\"none\" stroke=\"#000000\" d=\"M2402.7682,-477.5537C2498.3883,-454.5663 2637.8103,-421.0486 2721.8269,-400.8507\"/>\n<polygon fill=\"#000000\" stroke=\"#000000\" points=\"2722.8867,-404.1957 2731.7915,-398.4552 2721.2504,-397.3896 2722.8867,-404.1957\"/>\n</g>\n<!-- 34 -->\n<g id=\"node35\" class=\"node\">\n<title>34</title>\n<polygon fill=\"#eeaf81\" stroke=\"#000000\" points=\"2278,-306 2162,-306 2162,-223 2278,-223 2278,-306\"/>\n<text text-anchor=\"middle\" x=\"2220\" y=\"-290.8\" font-family=\"Helvetica,sans-Serif\" font-size=\"14.00\" fill=\"#000000\">age &lt;= 44.5</text>\n<text text-anchor=\"middle\" x=\"2220\" y=\"-275.8\" font-family=\"Helvetica,sans-Serif\" font-size=\"14.00\" fill=\"#000000\">gini = 0.391</text>\n<text text-anchor=\"middle\" x=\"2220\" y=\"-260.8\" font-family=\"Helvetica,sans-Serif\" font-size=\"14.00\" fill=\"#000000\">samples = 60</text>\n<text text-anchor=\"middle\" x=\"2220\" y=\"-245.8\" font-family=\"Helvetica,sans-Serif\" font-size=\"14.00\" fill=\"#000000\">value = [44, 16]</text>\n<text text-anchor=\"middle\" x=\"2220\" y=\"-230.8\" font-family=\"Helvetica,sans-Serif\" font-size=\"14.00\" fill=\"#000000\">class = 0</text>\n</g>\n<!-- 33&#45;&gt;34 -->\n<g id=\"edge34\" class=\"edge\">\n<title>33&#45;&gt;34</title>\n<path fill=\"none\" stroke=\"#000000\" d=\"M2271.3696,-341.8796C2265.57,-333.1434 2259.3941,-323.8404 2253.4092,-314.8253\"/>\n<polygon fill=\"#000000\" stroke=\"#000000\" points=\"2256.1951,-312.6935 2247.7483,-306.2981 2250.3632,-316.5652 2256.1951,-312.6935\"/>\n</g>\n<!-- 39 -->\n<g id=\"node40\" class=\"node\">\n<title>39</title>\n<polygon fill=\"#7bbeee\" stroke=\"#000000\" points=\"2459.5,-306 2296.5,-306 2296.5,-223 2459.5,-223 2459.5,-306\"/>\n<text text-anchor=\"middle\" x=\"2378\" y=\"-290.8\" font-family=\"Helvetica,sans-Serif\" font-size=\"14.00\" fill=\"#000000\">purpose_others &lt;= 0.5</text>\n<text text-anchor=\"middle\" x=\"2378\" y=\"-275.8\" font-family=\"Helvetica,sans-Serif\" font-size=\"14.00\" fill=\"#000000\">gini = 0.375</text>\n<text text-anchor=\"middle\" x=\"2378\" y=\"-260.8\" font-family=\"Helvetica,sans-Serif\" font-size=\"14.00\" fill=\"#000000\">samples = 4</text>\n<text text-anchor=\"middle\" x=\"2378\" y=\"-245.8\" font-family=\"Helvetica,sans-Serif\" font-size=\"14.00\" fill=\"#000000\">value = [1, 3]</text>\n<text text-anchor=\"middle\" x=\"2378\" y=\"-230.8\" font-family=\"Helvetica,sans-Serif\" font-size=\"14.00\" fill=\"#000000\">class = 1</text>\n</g>\n<!-- 33&#45;&gt;39 -->\n<g id=\"edge39\" class=\"edge\">\n<title>33&#45;&gt;39</title>\n<path fill=\"none\" stroke=\"#000000\" d=\"M2326.6304,-341.8796C2332.43,-333.1434 2338.6059,-323.8404 2344.5908,-314.8253\"/>\n<polygon fill=\"#000000\" stroke=\"#000000\" points=\"2347.6368,-316.5652 2350.2517,-306.2981 2341.8049,-312.6935 2347.6368,-316.5652\"/>\n</g>\n<!-- 35 -->\n<g id=\"node36\" class=\"node\">\n<title>35</title>\n<polygon fill=\"#f2c09c\" stroke=\"#000000\" points=\"2166,-187 1984,-187 1984,-104 2166,-104 2166,-187\"/>\n<text text-anchor=\"middle\" x=\"2075\" y=\"-171.8\" font-family=\"Helvetica,sans-Serif\" font-size=\"14.00\" fill=\"#000000\">purpose_car (new) &lt;= 0.5</text>\n<text text-anchor=\"middle\" x=\"2075\" y=\"-156.8\" font-family=\"Helvetica,sans-Serif\" font-size=\"14.00\" fill=\"#000000\">gini = 0.444</text>\n<text text-anchor=\"middle\" x=\"2075\" y=\"-141.8\" font-family=\"Helvetica,sans-Serif\" font-size=\"14.00\" fill=\"#000000\">samples = 48</text>\n<text text-anchor=\"middle\" x=\"2075\" y=\"-126.8\" font-family=\"Helvetica,sans-Serif\" font-size=\"14.00\" fill=\"#000000\">value = [32, 16]</text>\n<text text-anchor=\"middle\" x=\"2075\" y=\"-111.8\" font-family=\"Helvetica,sans-Serif\" font-size=\"14.00\" fill=\"#000000\">class = 0</text>\n</g>\n<!-- 34&#45;&gt;35 -->\n<g id=\"edge35\" class=\"edge\">\n<title>34&#45;&gt;35</title>\n<path fill=\"none\" stroke=\"#000000\" d=\"M2169.286,-222.8796C2157.873,-213.513 2145.6659,-203.4948 2133.9485,-193.8784\"/>\n<polygon fill=\"#000000\" stroke=\"#000000\" points=\"2135.8809,-190.9366 2125.9304,-187.2981 2131.4401,-196.3476 2135.8809,-190.9366\"/>\n</g>\n<!-- 38 -->\n<g id=\"node39\" class=\"node\">\n<title>38</title>\n<polygon fill=\"#e58139\" stroke=\"#000000\" points=\"2291.5,-179.5 2184.5,-179.5 2184.5,-111.5 2291.5,-111.5 2291.5,-179.5\"/>\n<text text-anchor=\"middle\" x=\"2238\" y=\"-164.3\" font-family=\"Helvetica,sans-Serif\" font-size=\"14.00\" fill=\"#000000\">gini = 0.0</text>\n<text text-anchor=\"middle\" x=\"2238\" y=\"-149.3\" font-family=\"Helvetica,sans-Serif\" font-size=\"14.00\" fill=\"#000000\">samples = 12</text>\n<text text-anchor=\"middle\" x=\"2238\" y=\"-134.3\" font-family=\"Helvetica,sans-Serif\" font-size=\"14.00\" fill=\"#000000\">value = [12, 0]</text>\n<text text-anchor=\"middle\" x=\"2238\" y=\"-119.3\" font-family=\"Helvetica,sans-Serif\" font-size=\"14.00\" fill=\"#000000\">class = 0</text>\n</g>\n<!-- 34&#45;&gt;38 -->\n<g id=\"edge38\" class=\"edge\">\n<title>34&#45;&gt;38</title>\n<path fill=\"none\" stroke=\"#000000\" d=\"M2226.2955,-222.8796C2227.9089,-212.2134 2229.6501,-200.7021 2231.2838,-189.9015\"/>\n<polygon fill=\"#000000\" stroke=\"#000000\" points=\"2234.7745,-190.226 2232.8095,-179.8149 2227.8532,-189.179 2234.7745,-190.226\"/>\n</g>\n<!-- 36 -->\n<g id=\"node37\" class=\"node\">\n<title>36</title>\n<polygon fill=\"#eeae80\" stroke=\"#000000\" points=\"2133,-68 2017,-68 2017,0 2133,0 2133,-68\"/>\n<text text-anchor=\"middle\" x=\"2075\" y=\"-52.8\" font-family=\"Helvetica,sans-Serif\" font-size=\"14.00\" fill=\"#000000\">gini = 0.388</text>\n<text text-anchor=\"middle\" x=\"2075\" y=\"-37.8\" font-family=\"Helvetica,sans-Serif\" font-size=\"14.00\" fill=\"#000000\">samples = 38</text>\n<text text-anchor=\"middle\" x=\"2075\" y=\"-22.8\" font-family=\"Helvetica,sans-Serif\" font-size=\"14.00\" fill=\"#000000\">value = [28, 10]</text>\n<text text-anchor=\"middle\" x=\"2075\" y=\"-7.8\" font-family=\"Helvetica,sans-Serif\" font-size=\"14.00\" fill=\"#000000\">class = 0</text>\n</g>\n<!-- 35&#45;&gt;36 -->\n<g id=\"edge36\" class=\"edge\">\n<title>35&#45;&gt;36</title>\n<path fill=\"none\" stroke=\"#000000\" d=\"M2075,-103.9815C2075,-95.618 2075,-86.7965 2075,-78.3409\"/>\n<polygon fill=\"#000000\" stroke=\"#000000\" points=\"2078.5001,-78.2636 2075,-68.2637 2071.5001,-78.2637 2078.5001,-78.2636\"/>\n</g>\n<!-- 37 -->\n<g id=\"node38\" class=\"node\">\n<title>37</title>\n<polygon fill=\"#bddef6\" stroke=\"#000000\" points=\"2255,-68 2151,-68 2151,0 2255,0 2255,-68\"/>\n<text text-anchor=\"middle\" x=\"2203\" y=\"-52.8\" font-family=\"Helvetica,sans-Serif\" font-size=\"14.00\" fill=\"#000000\">gini = 0.48</text>\n<text text-anchor=\"middle\" x=\"2203\" y=\"-37.8\" font-family=\"Helvetica,sans-Serif\" font-size=\"14.00\" fill=\"#000000\">samples = 10</text>\n<text text-anchor=\"middle\" x=\"2203\" y=\"-22.8\" font-family=\"Helvetica,sans-Serif\" font-size=\"14.00\" fill=\"#000000\">value = [4, 6]</text>\n<text text-anchor=\"middle\" x=\"2203\" y=\"-7.8\" font-family=\"Helvetica,sans-Serif\" font-size=\"14.00\" fill=\"#000000\">class = 1</text>\n</g>\n<!-- 35&#45;&gt;37 -->\n<g id=\"edge37\" class=\"edge\">\n<title>35&#45;&gt;37</title>\n<path fill=\"none\" stroke=\"#000000\" d=\"M2122.6625,-103.9815C2133.5297,-94.5151 2145.0705,-84.462 2155.9135,-75.0168\"/>\n<polygon fill=\"#000000\" stroke=\"#000000\" points=\"2158.4245,-77.4712 2163.6659,-68.2637 2153.8266,-72.1929 2158.4245,-77.4712\"/>\n</g>\n<!-- 40 -->\n<g id=\"node41\" class=\"node\">\n<title>40</title>\n<polygon fill=\"#399de5\" stroke=\"#000000\" points=\"2408.5,-179.5 2309.5,-179.5 2309.5,-111.5 2408.5,-111.5 2408.5,-179.5\"/>\n<text text-anchor=\"middle\" x=\"2359\" y=\"-164.3\" font-family=\"Helvetica,sans-Serif\" font-size=\"14.00\" fill=\"#000000\">gini = 0.0</text>\n<text text-anchor=\"middle\" x=\"2359\" y=\"-149.3\" font-family=\"Helvetica,sans-Serif\" font-size=\"14.00\" fill=\"#000000\">samples = 3</text>\n<text text-anchor=\"middle\" x=\"2359\" y=\"-134.3\" font-family=\"Helvetica,sans-Serif\" font-size=\"14.00\" fill=\"#000000\">value = [0, 3]</text>\n<text text-anchor=\"middle\" x=\"2359\" y=\"-119.3\" font-family=\"Helvetica,sans-Serif\" font-size=\"14.00\" fill=\"#000000\">class = 1</text>\n</g>\n<!-- 39&#45;&gt;40 -->\n<g id=\"edge40\" class=\"edge\">\n<title>39&#45;&gt;40</title>\n<path fill=\"none\" stroke=\"#000000\" d=\"M2371.3547,-222.8796C2369.6517,-212.2134 2367.8138,-200.7021 2366.0893,-189.9015\"/>\n<polygon fill=\"#000000\" stroke=\"#000000\" points=\"2369.5118,-189.138 2364.4789,-179.8149 2362.5994,-190.2417 2369.5118,-189.138\"/>\n</g>\n<!-- 41 -->\n<g id=\"node42\" class=\"node\">\n<title>41</title>\n<polygon fill=\"#e58139\" stroke=\"#000000\" points=\"2525.5,-179.5 2426.5,-179.5 2426.5,-111.5 2525.5,-111.5 2525.5,-179.5\"/>\n<text text-anchor=\"middle\" x=\"2476\" y=\"-164.3\" font-family=\"Helvetica,sans-Serif\" font-size=\"14.00\" fill=\"#000000\">gini = 0.0</text>\n<text text-anchor=\"middle\" x=\"2476\" y=\"-149.3\" font-family=\"Helvetica,sans-Serif\" font-size=\"14.00\" fill=\"#000000\">samples = 1</text>\n<text text-anchor=\"middle\" x=\"2476\" y=\"-134.3\" font-family=\"Helvetica,sans-Serif\" font-size=\"14.00\" fill=\"#000000\">value = [1, 0]</text>\n<text text-anchor=\"middle\" x=\"2476\" y=\"-119.3\" font-family=\"Helvetica,sans-Serif\" font-size=\"14.00\" fill=\"#000000\">class = 0</text>\n</g>\n<!-- 39&#45;&gt;41 -->\n<g id=\"edge41\" class=\"edge\">\n<title>39&#45;&gt;41</title>\n<path fill=\"none\" stroke=\"#000000\" d=\"M2412.2756,-222.8796C2421.6935,-211.4436 2431.9113,-199.0363 2441.35,-187.575\"/>\n<polygon fill=\"#000000\" stroke=\"#000000\" points=\"2444.0853,-189.7592 2447.7406,-179.8149 2438.6818,-185.3093 2444.0853,-189.7592\"/>\n</g>\n<!-- 43 -->\n<g id=\"node44\" class=\"node\">\n<title>43</title>\n<polygon fill=\"#ea985d\" stroke=\"#000000\" points=\"2861,-306 2727,-306 2727,-223 2861,-223 2861,-306\"/>\n<text text-anchor=\"middle\" x=\"2794\" y=\"-290.8\" font-family=\"Helvetica,sans-Serif\" font-size=\"14.00\" fill=\"#000000\">amount &lt;= 6465.5</text>\n<text text-anchor=\"middle\" x=\"2794\" y=\"-275.8\" font-family=\"Helvetica,sans-Serif\" font-size=\"14.00\" fill=\"#000000\">gini = 0.262</text>\n<text text-anchor=\"middle\" x=\"2794\" y=\"-260.8\" font-family=\"Helvetica,sans-Serif\" font-size=\"14.00\" fill=\"#000000\">samples = 116</text>\n<text text-anchor=\"middle\" x=\"2794\" y=\"-245.8\" font-family=\"Helvetica,sans-Serif\" font-size=\"14.00\" fill=\"#000000\">value = [98, 18]</text>\n<text text-anchor=\"middle\" x=\"2794\" y=\"-230.8\" font-family=\"Helvetica,sans-Serif\" font-size=\"14.00\" fill=\"#000000\">class = 0</text>\n</g>\n<!-- 42&#45;&gt;43 -->\n<g id=\"edge43\" class=\"edge\">\n<title>42&#45;&gt;43</title>\n<path fill=\"none\" stroke=\"#000000\" d=\"M2794,-341.8796C2794,-333.6838 2794,-324.9891 2794,-316.5013\"/>\n<polygon fill=\"#000000\" stroke=\"#000000\" points=\"2797.5001,-316.298 2794,-306.2981 2790.5001,-316.2981 2797.5001,-316.298\"/>\n</g>\n<!-- 50 -->\n<g id=\"node51\" class=\"node\">\n<title>50</title>\n<polygon fill=\"#e68742\" stroke=\"#000000\" points=\"3245,-306 3049,-306 3049,-223 3245,-223 3245,-306\"/>\n<text text-anchor=\"middle\" x=\"3147\" y=\"-290.8\" font-family=\"Helvetica,sans-Serif\" font-size=\"14.00\" fill=\"#000000\">credit_history_critical &lt;= 0.5</text>\n<text text-anchor=\"middle\" x=\"3147\" y=\"-275.8\" font-family=\"Helvetica,sans-Serif\" font-size=\"14.00\" fill=\"#000000\">gini = 0.081</text>\n<text text-anchor=\"middle\" x=\"3147\" y=\"-260.8\" font-family=\"Helvetica,sans-Serif\" font-size=\"14.00\" fill=\"#000000\">samples = 214</text>\n<text text-anchor=\"middle\" x=\"3147\" y=\"-245.8\" font-family=\"Helvetica,sans-Serif\" font-size=\"14.00\" fill=\"#000000\">value = [205, 9]</text>\n<text text-anchor=\"middle\" x=\"3147\" y=\"-230.8\" font-family=\"Helvetica,sans-Serif\" font-size=\"14.00\" fill=\"#000000\">class = 0</text>\n</g>\n<!-- 42&#45;&gt;50 -->\n<g id=\"edge50\" class=\"edge\">\n<title>42&#45;&gt;50</title>\n<path fill=\"none\" stroke=\"#000000\" d=\"M2856.2967,-362.4991C2906.8357,-345.4619 2979.2675,-321.0444 3039.1861,-300.8452\"/>\n<polygon fill=\"#000000\" stroke=\"#000000\" points=\"3040.332,-304.1525 3048.69,-297.6413 3038.0958,-297.5193 3040.332,-304.1525\"/>\n</g>\n<!-- 44 -->\n<g id=\"node45\" class=\"node\">\n<title>44</title>\n<polygon fill=\"#e99355\" stroke=\"#000000\" points=\"2782,-187 2544,-187 2544,-104 2782,-104 2782,-187\"/>\n<text text-anchor=\"middle\" x=\"2663\" y=\"-171.8\" font-family=\"Helvetica,sans-Serif\" font-size=\"14.00\" fill=\"#000000\">other_debtors_co&#45;applicant &lt;= 0.5</text>\n<text text-anchor=\"middle\" x=\"2663\" y=\"-156.8\" font-family=\"Helvetica,sans-Serif\" font-size=\"14.00\" fill=\"#000000\">gini = 0.215</text>\n<text text-anchor=\"middle\" x=\"2663\" y=\"-141.8\" font-family=\"Helvetica,sans-Serif\" font-size=\"14.00\" fill=\"#000000\">samples = 106</text>\n<text text-anchor=\"middle\" x=\"2663\" y=\"-126.8\" font-family=\"Helvetica,sans-Serif\" font-size=\"14.00\" fill=\"#000000\">value = [93, 13]</text>\n<text text-anchor=\"middle\" x=\"2663\" y=\"-111.8\" font-family=\"Helvetica,sans-Serif\" font-size=\"14.00\" fill=\"#000000\">class = 0</text>\n</g>\n<!-- 43&#45;&gt;44 -->\n<g id=\"edge44\" class=\"edge\">\n<title>43&#45;&gt;44</title>\n<path fill=\"none\" stroke=\"#000000\" d=\"M2748.1826,-222.8796C2737.9706,-213.6031 2727.055,-203.6874 2716.5624,-194.1559\"/>\n<polygon fill=\"#000000\" stroke=\"#000000\" points=\"2718.7684,-191.4313 2709.013,-187.2981 2714.0616,-196.6127 2718.7684,-191.4313\"/>\n</g>\n<!-- 47 -->\n<g id=\"node48\" class=\"node\">\n<title>47</title>\n<polygon fill=\"#ffffff\" stroke=\"#000000\" points=\"3048,-187 2800,-187 2800,-104 3048,-104 3048,-187\"/>\n<text text-anchor=\"middle\" x=\"2924\" y=\"-171.8\" font-family=\"Helvetica,sans-Serif\" font-size=\"14.00\" fill=\"#000000\">employment_length_0 &#45; 1 yrs &lt;= 0.5</text>\n<text text-anchor=\"middle\" x=\"2924\" y=\"-156.8\" font-family=\"Helvetica,sans-Serif\" font-size=\"14.00\" fill=\"#000000\">gini = 0.5</text>\n<text text-anchor=\"middle\" x=\"2924\" y=\"-141.8\" font-family=\"Helvetica,sans-Serif\" font-size=\"14.00\" fill=\"#000000\">samples = 10</text>\n<text text-anchor=\"middle\" x=\"2924\" y=\"-126.8\" font-family=\"Helvetica,sans-Serif\" font-size=\"14.00\" fill=\"#000000\">value = [5, 5]</text>\n<text text-anchor=\"middle\" x=\"2924\" y=\"-111.8\" font-family=\"Helvetica,sans-Serif\" font-size=\"14.00\" fill=\"#000000\">class = 0</text>\n</g>\n<!-- 43&#45;&gt;47 -->\n<g id=\"edge47\" class=\"edge\">\n<title>43&#45;&gt;47</title>\n<path fill=\"none\" stroke=\"#000000\" d=\"M2839.4677,-222.8796C2849.6017,-213.6031 2860.434,-203.6874 2870.8465,-194.1559\"/>\n<polygon fill=\"#000000\" stroke=\"#000000\" points=\"2873.3252,-196.6319 2878.3382,-187.2981 2868.5987,-191.4685 2873.3252,-196.6319\"/>\n</g>\n<!-- 45 -->\n<g id=\"node46\" class=\"node\">\n<title>45</title>\n<polygon fill=\"#e89051\" stroke=\"#000000\" points=\"2634,-68 2518,-68 2518,0 2634,0 2634,-68\"/>\n<text text-anchor=\"middle\" x=\"2576\" y=\"-52.8\" font-family=\"Helvetica,sans-Serif\" font-size=\"14.00\" fill=\"#000000\">gini = 0.191</text>\n<text text-anchor=\"middle\" x=\"2576\" y=\"-37.8\" font-family=\"Helvetica,sans-Serif\" font-size=\"14.00\" fill=\"#000000\">samples = 103</text>\n<text text-anchor=\"middle\" x=\"2576\" y=\"-22.8\" font-family=\"Helvetica,sans-Serif\" font-size=\"14.00\" fill=\"#000000\">value = [92, 11]</text>\n<text text-anchor=\"middle\" x=\"2576\" y=\"-7.8\" font-family=\"Helvetica,sans-Serif\" font-size=\"14.00\" fill=\"#000000\">class = 0</text>\n</g>\n<!-- 44&#45;&gt;45 -->\n<g id=\"edge45\" class=\"edge\">\n<title>44&#45;&gt;45</title>\n<path fill=\"none\" stroke=\"#000000\" d=\"M2630.6044,-103.9815C2623.5766,-94.9747 2616.1345,-85.4367 2609.0807,-76.3965\"/>\n<polygon fill=\"#000000\" stroke=\"#000000\" points=\"2611.646,-73.9946 2602.7349,-68.2637 2606.1272,-78.3008 2611.646,-73.9946\"/>\n</g>\n<!-- 46 -->\n<g id=\"node47\" class=\"node\">\n<title>46</title>\n<polygon fill=\"#9ccef2\" stroke=\"#000000\" points=\"2751.5,-68 2652.5,-68 2652.5,0 2751.5,0 2751.5,-68\"/>\n<text text-anchor=\"middle\" x=\"2702\" y=\"-52.8\" font-family=\"Helvetica,sans-Serif\" font-size=\"14.00\" fill=\"#000000\">gini = 0.444</text>\n<text text-anchor=\"middle\" x=\"2702\" y=\"-37.8\" font-family=\"Helvetica,sans-Serif\" font-size=\"14.00\" fill=\"#000000\">samples = 3</text>\n<text text-anchor=\"middle\" x=\"2702\" y=\"-22.8\" font-family=\"Helvetica,sans-Serif\" font-size=\"14.00\" fill=\"#000000\">value = [1, 2]</text>\n<text text-anchor=\"middle\" x=\"2702\" y=\"-7.8\" font-family=\"Helvetica,sans-Serif\" font-size=\"14.00\" fill=\"#000000\">class = 1</text>\n</g>\n<!-- 44&#45;&gt;46 -->\n<g id=\"edge46\" class=\"edge\">\n<title>44&#45;&gt;46</title>\n<path fill=\"none\" stroke=\"#000000\" d=\"M2677.5222,-103.9815C2680.5118,-95.4342 2683.6688,-86.4086 2686.6854,-77.7839\"/>\n<polygon fill=\"#000000\" stroke=\"#000000\" points=\"2690.0174,-78.8585 2690.0154,-68.2637 2683.41,-76.5473 2690.0174,-78.8585\"/>\n</g>\n<!-- 48 -->\n<g id=\"node49\" class=\"node\">\n<title>48</title>\n<polygon fill=\"#efb388\" stroke=\"#000000\" points=\"2888.5,-68 2789.5,-68 2789.5,0 2888.5,0 2888.5,-68\"/>\n<text text-anchor=\"middle\" x=\"2839\" y=\"-52.8\" font-family=\"Helvetica,sans-Serif\" font-size=\"14.00\" fill=\"#000000\">gini = 0.408</text>\n<text text-anchor=\"middle\" x=\"2839\" y=\"-37.8\" font-family=\"Helvetica,sans-Serif\" font-size=\"14.00\" fill=\"#000000\">samples = 7</text>\n<text text-anchor=\"middle\" x=\"2839\" y=\"-22.8\" font-family=\"Helvetica,sans-Serif\" font-size=\"14.00\" fill=\"#000000\">value = [5, 2]</text>\n<text text-anchor=\"middle\" x=\"2839\" y=\"-7.8\" font-family=\"Helvetica,sans-Serif\" font-size=\"14.00\" fill=\"#000000\">class = 0</text>\n</g>\n<!-- 47&#45;&gt;48 -->\n<g id=\"edge48\" class=\"edge\">\n<title>47&#45;&gt;48</title>\n<path fill=\"none\" stroke=\"#000000\" d=\"M2892.3491,-103.9815C2885.4829,-94.9747 2878.2118,-85.4367 2871.3202,-76.3965\"/>\n<polygon fill=\"#000000\" stroke=\"#000000\" points=\"2873.9664,-74.0945 2865.1203,-68.2637 2868.3995,-78.3383 2873.9664,-74.0945\"/>\n</g>\n<!-- 49 -->\n<g id=\"node50\" class=\"node\">\n<title>49</title>\n<polygon fill=\"#399de5\" stroke=\"#000000\" points=\"3005.5,-68 2906.5,-68 2906.5,0 3005.5,0 3005.5,-68\"/>\n<text text-anchor=\"middle\" x=\"2956\" y=\"-52.8\" font-family=\"Helvetica,sans-Serif\" font-size=\"14.00\" fill=\"#000000\">gini = 0.0</text>\n<text text-anchor=\"middle\" x=\"2956\" y=\"-37.8\" font-family=\"Helvetica,sans-Serif\" font-size=\"14.00\" fill=\"#000000\">samples = 3</text>\n<text text-anchor=\"middle\" x=\"2956\" y=\"-22.8\" font-family=\"Helvetica,sans-Serif\" font-size=\"14.00\" fill=\"#000000\">value = [0, 3]</text>\n<text text-anchor=\"middle\" x=\"2956\" y=\"-7.8\" font-family=\"Helvetica,sans-Serif\" font-size=\"14.00\" fill=\"#000000\">class = 1</text>\n</g>\n<!-- 47&#45;&gt;49 -->\n<g id=\"edge49\" class=\"edge\">\n<title>47&#45;&gt;49</title>\n<path fill=\"none\" stroke=\"#000000\" d=\"M2935.9156,-103.9815C2938.3423,-95.5261 2940.9033,-86.6026 2943.3543,-78.0623\"/>\n<polygon fill=\"#000000\" stroke=\"#000000\" points=\"2946.772,-78.8412 2946.1665,-68.2637 2940.0436,-76.9101 2946.772,-78.8412\"/>\n</g>\n<!-- 51 -->\n<g id=\"node52\" class=\"node\">\n<title>51</title>\n<polygon fill=\"#e78c4a\" stroke=\"#000000\" points=\"3227.5,-187 3066.5,-187 3066.5,-104 3227.5,-104 3227.5,-187\"/>\n<text text-anchor=\"middle\" x=\"3147\" y=\"-171.8\" font-family=\"Helvetica,sans-Serif\" font-size=\"14.00\" fill=\"#000000\">existing_credits &lt;= 1.5</text>\n<text text-anchor=\"middle\" x=\"3147\" y=\"-156.8\" font-family=\"Helvetica,sans-Serif\" font-size=\"14.00\" fill=\"#000000\">gini = 0.144</text>\n<text text-anchor=\"middle\" x=\"3147\" y=\"-141.8\" font-family=\"Helvetica,sans-Serif\" font-size=\"14.00\" fill=\"#000000\">samples = 115</text>\n<text text-anchor=\"middle\" x=\"3147\" y=\"-126.8\" font-family=\"Helvetica,sans-Serif\" font-size=\"14.00\" fill=\"#000000\">value = [106, 9]</text>\n<text text-anchor=\"middle\" x=\"3147\" y=\"-111.8\" font-family=\"Helvetica,sans-Serif\" font-size=\"14.00\" fill=\"#000000\">class = 0</text>\n</g>\n<!-- 50&#45;&gt;51 -->\n<g id=\"edge51\" class=\"edge\">\n<title>50&#45;&gt;51</title>\n<path fill=\"none\" stroke=\"#000000\" d=\"M3147,-222.8796C3147,-214.6838 3147,-205.9891 3147,-197.5013\"/>\n<polygon fill=\"#000000\" stroke=\"#000000\" points=\"3150.5001,-197.298 3147,-187.2981 3143.5001,-197.2981 3150.5001,-197.298\"/>\n</g>\n<!-- 54 -->\n<g id=\"node55\" class=\"node\">\n<title>54</title>\n<polygon fill=\"#e58139\" stroke=\"#000000\" points=\"3352.5,-179.5 3245.5,-179.5 3245.5,-111.5 3352.5,-111.5 3352.5,-179.5\"/>\n<text text-anchor=\"middle\" x=\"3299\" y=\"-164.3\" font-family=\"Helvetica,sans-Serif\" font-size=\"14.00\" fill=\"#000000\">gini = 0.0</text>\n<text text-anchor=\"middle\" x=\"3299\" y=\"-149.3\" font-family=\"Helvetica,sans-Serif\" font-size=\"14.00\" fill=\"#000000\">samples = 99</text>\n<text text-anchor=\"middle\" x=\"3299\" y=\"-134.3\" font-family=\"Helvetica,sans-Serif\" font-size=\"14.00\" fill=\"#000000\">value = [99, 0]</text>\n<text text-anchor=\"middle\" x=\"3299\" y=\"-119.3\" font-family=\"Helvetica,sans-Serif\" font-size=\"14.00\" fill=\"#000000\">class = 0</text>\n</g>\n<!-- 50&#45;&gt;54 -->\n<g id=\"edge54\" class=\"edge\">\n<title>50&#45;&gt;54</title>\n<path fill=\"none\" stroke=\"#000000\" d=\"M3200.1622,-222.8796C3215.3313,-211.0038 3231.8384,-198.0804 3246.9409,-186.2568\"/>\n<polygon fill=\"#000000\" stroke=\"#000000\" points=\"3249.4528,-188.7353 3255.1692,-179.8149 3245.1376,-183.2236 3249.4528,-188.7353\"/>\n</g>\n<!-- 52 -->\n<g id=\"node53\" class=\"node\">\n<title>52</title>\n<polygon fill=\"#e68540\" stroke=\"#000000\" points=\"3181.5,-68 3074.5,-68 3074.5,0 3181.5,0 3181.5,-68\"/>\n<text text-anchor=\"middle\" x=\"3128\" y=\"-52.8\" font-family=\"Helvetica,sans-Serif\" font-size=\"14.00\" fill=\"#000000\">gini = 0.065</text>\n<text text-anchor=\"middle\" x=\"3128\" y=\"-37.8\" font-family=\"Helvetica,sans-Serif\" font-size=\"14.00\" fill=\"#000000\">samples = 89</text>\n<text text-anchor=\"middle\" x=\"3128\" y=\"-22.8\" font-family=\"Helvetica,sans-Serif\" font-size=\"14.00\" fill=\"#000000\">value = [86, 3]</text>\n<text text-anchor=\"middle\" x=\"3128\" y=\"-7.8\" font-family=\"Helvetica,sans-Serif\" font-size=\"14.00\" fill=\"#000000\">class = 0</text>\n</g>\n<!-- 51&#45;&gt;52 -->\n<g id=\"edge52\" class=\"edge\">\n<title>51&#45;&gt;52</title>\n<path fill=\"none\" stroke=\"#000000\" d=\"M3139.9251,-103.9815C3138.4999,-95.618 3136.9967,-86.7965 3135.5558,-78.3409\"/>\n<polygon fill=\"#000000\" stroke=\"#000000\" points=\"3138.9688,-77.5336 3133.8387,-68.2637 3132.0683,-78.7095 3138.9688,-77.5336\"/>\n</g>\n<!-- 53 -->\n<g id=\"node54\" class=\"node\">\n<title>53</title>\n<polygon fill=\"#eda774\" stroke=\"#000000\" points=\"3306.5,-68 3199.5,-68 3199.5,0 3306.5,0 3306.5,-68\"/>\n<text text-anchor=\"middle\" x=\"3253\" y=\"-52.8\" font-family=\"Helvetica,sans-Serif\" font-size=\"14.00\" fill=\"#000000\">gini = 0.355</text>\n<text text-anchor=\"middle\" x=\"3253\" y=\"-37.8\" font-family=\"Helvetica,sans-Serif\" font-size=\"14.00\" fill=\"#000000\">samples = 26</text>\n<text text-anchor=\"middle\" x=\"3253\" y=\"-22.8\" font-family=\"Helvetica,sans-Serif\" font-size=\"14.00\" fill=\"#000000\">value = [20, 6]</text>\n<text text-anchor=\"middle\" x=\"3253\" y=\"-7.8\" font-family=\"Helvetica,sans-Serif\" font-size=\"14.00\" fill=\"#000000\">class = 0</text>\n</g>\n<!-- 51&#45;&gt;53 -->\n<g id=\"edge53\" class=\"edge\">\n<title>51&#45;&gt;53</title>\n<path fill=\"none\" stroke=\"#000000\" d=\"M3186.4705,-103.9815C3195.2952,-94.6989 3204.6562,-84.8522 3213.4827,-75.5677\"/>\n<polygon fill=\"#000000\" stroke=\"#000000\" points=\"3216.073,-77.9228 3220.4265,-68.2637 3210.9997,-73.0997 3216.073,-77.9228\"/>\n</g>\n</g>\n</svg>\n"
          },
          "metadata": {},
          "execution_count": 126
        },
        {
          "output_type": "display_data",
          "data": {
            "text/plain": [
              "<Figure size 720x720 with 0 Axes>"
            ]
          },
          "metadata": {}
        }
      ]
    },
    {
      "cell_type": "code",
      "source": [
        "# Gráfico de Importancia de Variables\n",
        "plt.figure(figsize=(10,10))\n",
        "feature_importances(DecisionTreeClassifier(max_depth=10), x, y)"
      ],
      "metadata": {
        "colab": {
          "base_uri": "https://localhost:8080/",
          "height": 760
        },
        "id": "pilKyHr90oTA",
        "outputId": "e2da89b5-d8df-4c49-efca-4fbc434bd5a9"
      },
      "execution_count": null,
      "outputs": [
        {
          "output_type": "display_data",
          "data": {
            "text/plain": [
              "<Figure size 720x720 with 1 Axes>"
            ],
            "image/png": "[encoded data removed]"
          },
          "metadata": {}
        },
        {
          "output_type": "execute_result",
          "data": {
            "text/plain": [
              "FeatureImportances(ax=<matplotlib.axes._subplots.AxesSubplot object at 0x7f2b3ecb0290>,\n",
              "                   estimator=DecisionTreeClassifier(max_depth=10))"
            ]
          },
          "metadata": {},
          "execution_count": 127
        }
      ]
    },
    {
      "cell_type": "markdown",
      "source": [
        "### Random Forest"
      ],
      "metadata": {
        "id": "CDZGroWbGUW5"
      }
    },
    {
      "cell_type": "code",
      "source": [
        "from sklearn.ensemble import RandomForestClassifier\n",
        "from sklearn.model_selection import GridSearchCV"
      ],
      "metadata": {
        "id": "68T8bUsqGWvv"
      },
      "execution_count": null,
      "outputs": []
    },
    {
      "cell_type": "markdown",
      "source": [
        "Calibración de Parámetros"
      ],
      "metadata": {
        "id": "ci9AYc-IGd-P"
      }
    },
    {
      "cell_type": "code",
      "source": [
        "# Calibración de Multiples Parámetros\n",
        "rf_model = RandomForestClassifier()\n",
        "param_rf = {'n_estimators':[50,100,150,200,250,300], 'max_depth':[2,4,6,8,10]}\n",
        "grid_rf = GridSearchCV(estimator=rf_model, param_grid=param_rf, cv=5, scoring='f1')\n",
        "grid_rf.fit(x_train, y_train)"
      ],
      "metadata": {
        "id": "A1w8gGKUGqHL",
        "colab": {
          "base_uri": "https://localhost:8080/"
        },
        "outputId": "54f41cf6-d013-4cdb-fe76-2ea6fe0c6005"
      },
      "execution_count": null,
      "outputs": [
        {
          "output_type": "execute_result",
          "data": {
            "text/plain": [
              "GridSearchCV(cv=5, estimator=RandomForestClassifier(),\n",
              "             param_grid={'max_depth': [2, 4, 6, 8, 10],\n",
              "                         'n_estimators': [50, 100, 150, 200, 250, 300]},\n",
              "             scoring='f1')"
            ]
          },
          "metadata": {},
          "execution_count": 129
        }
      ]
    },
    {
      "cell_type": "code",
      "source": [
        "# Identificar el mejor parámetro\n",
        "grid_rf.best_params_"
      ],
      "metadata": {
        "colab": {
          "base_uri": "https://localhost:8080/"
        },
        "id": "WW1cQM-jdtK0",
        "outputId": "28587444-23dc-4068-fee4-a3099aba06cc"
      },
      "execution_count": null,
      "outputs": [
        {
          "output_type": "execute_result",
          "data": {
            "text/plain": [
              "{'max_depth': 10, 'n_estimators': 50}"
            ]
          },
          "metadata": {},
          "execution_count": 130
        }
      ]
    },
    {
      "cell_type": "code",
      "source": [
        "# El mejor score \n",
        "grid_rf.best_score_"
      ],
      "metadata": {
        "colab": {
          "base_uri": "https://localhost:8080/"
        },
        "id": "D0q32n3Md2kr",
        "outputId": "6d9c3c79-24cf-4c80-c4a7-7a7c5c5fc3b8"
      },
      "execution_count": null,
      "outputs": [
        {
          "output_type": "execute_result",
          "data": {
            "text/plain": [
              "0.43935761131927065"
            ]
          },
          "metadata": {},
          "execution_count": 131
        }
      ]
    },
    {
      "cell_type": "markdown",
      "source": [
        "Modelo de Random Forest con la mejor combinación de parámetros."
      ],
      "metadata": {
        "id": "Pk7m4ST3GmVU"
      }
    },
    {
      "cell_type": "code",
      "source": [
        "# Construya el modelo de random forest con los mejores parámetros\n",
        "\n"
      ],
      "metadata": {
        "id": "VHehFbQAGcyQ"
      },
      "execution_count": null,
      "outputs": []
    },
    {
      "cell_type": "code",
      "source": [
        "# Generar predicciones para el conjunto del test\n"
      ],
      "metadata": {
        "id": "C33Iz4WfgLZ8"
      },
      "execution_count": null,
      "outputs": []
    },
    {
      "cell_type": "code",
      "source": [
        "# Generar la matriz de confusión con el conjunto del test\n"
      ],
      "metadata": {
        "id": "hM3R2RqYgZSy"
      },
      "execution_count": null,
      "outputs": []
    },
    {
      "cell_type": "code",
      "source": [
        "# Generar un reporte de clasificación con el conjunto del test\n"
      ],
      "metadata": {
        "id": "ODu-9BXIgclN"
      },
      "execution_count": null,
      "outputs": []
    },
    {
      "cell_type": "code",
      "source": [
        "# Genere el gráfico de importancia de variables\n"
      ],
      "metadata": {
        "id": "e-KSon-ighQk"
      },
      "execution_count": null,
      "outputs": []
    },
    {
      "cell_type": "markdown",
      "source": [
        "Importancia de variables"
      ],
      "metadata": {
        "id": "NIQhWzygGrfq"
      }
    },
    {
      "cell_type": "markdown",
      "source": [
        "### K-Vecinos"
      ],
      "metadata": {
        "id": "6tC889z4Gt9V"
      }
    },
    {
      "cell_type": "code",
      "source": [
        "from sklearn.neighbors import KNeighborsClassifier"
      ],
      "metadata": {
        "id": "omdgzLy9GwIM"
      },
      "execution_count": null,
      "outputs": []
    },
    {
      "cell_type": "markdown",
      "source": [
        "Calibración de Parámetros"
      ],
      "metadata": {
        "id": "Lpu4chd4HAUG"
      }
    },
    {
      "cell_type": "code",
      "source": [
        "# El parámetro de calibración es n_neighbors\n",
        "# Prueba con un serie de valores que va de 2 a 10\n",
        "# Utilice cv = 5\n"
      ],
      "metadata": {
        "id": "7oCAbM8DHAUH"
      },
      "execution_count": null,
      "outputs": []
    },
    {
      "cell_type": "markdown",
      "source": [
        "Entre un modelo con el mejor parámetro"
      ],
      "metadata": {
        "id": "XgsreArOHAUI"
      }
    },
    {
      "cell_type": "code",
      "source": [],
      "metadata": {
        "id": "-Jh5QSheHAUI"
      },
      "execution_count": null,
      "outputs": []
    },
    {
      "cell_type": "code",
      "source": [
        "# Evaluar el modelo de k-vecinos"
      ],
      "metadata": {
        "id": "4ut73CdyiHZs"
      },
      "execution_count": null,
      "outputs": []
    },
    {
      "cell_type": "markdown",
      "source": [
        "### Comparación de clasificadores"
      ],
      "metadata": {
        "id": "XepKYXAyHEjv"
      }
    },
    {
      "cell_type": "code",
      "source": [],
      "metadata": {
        "id": "aRd9dz0-HHez"
      },
      "execution_count": null,
      "outputs": []
    },
    {
      "cell_type": "markdown",
      "source": [
        "## Reducción de Dimensiones y Análisis de Cluster"
      ],
      "metadata": {
        "id": "Zyxjdei9IqAY"
      }
    },
    {
      "cell_type": "markdown",
      "source": [
        "### Caso Aprendizaje no Supervisado: Clientes mayoristas\n",
        "\n",
        "**Contexto**: El conjunto de datos se refiere a clientes de un distribuidor mayorista. Incluye el gasto anual en unidades monetarias (u.m.) en diversas categorías de productos:\n",
        "\n",
        "1. Fresh: gasto anual en productos frescos\n",
        "2. Milk: gasto anual en productos lácteos\n",
        "3. Grocery: gasto anual en productos de abarrotes\n",
        "4. Frozen: gasto anual en productos congelados\n",
        "5. Detergents_Paper: gasto anual en detergentes y productos de papel\n",
        "6. Delicatessen: gasto anual en productos y charcutería\n",
        "\n",
        "Además, se tiene información sobre:\n",
        "- Channel: Canal de clientes - (1) Horeca (Hotel/Restaurante/Cafetería) o (2) Canal Retail\n",
        "- Region: Región del cliente \n",
        "\n",
        "**Objetivo**: segmentar los clientes a partir de los patrones compras."
      ],
      "metadata": {
        "id": "cAPTq56aTO4v"
      }
    },
    {
      "cell_type": "code",
      "source": [
        "# Cargar datos\n",
        "compras = pd.read_csv('https://raw.githubusercontent.com/hfelizzola/Curso-Ciencia-Datos-Ecopetrol/main/wholesale_customers_data.csv')\n",
        "compras"
      ],
      "metadata": {
        "colab": {
          "base_uri": "https://localhost:8080/",
          "height": 424
        },
        "id": "ydsy7mPQIsSV",
        "outputId": "0f0872e5-d43b-48e7-f5df-a4fb03e5a488"
      },
      "execution_count": null,
      "outputs": [
        {
          "output_type": "execute_result",
          "data": {
            "text/plain": [
              "     Channel  Region  Fresh   Milk  Grocery  Frozen  Detergents_Paper  \\\n",
              "0          2       3  12669   9656     7561     214              2674   \n",
              "1          2       3   7057   9810     9568    1762              3293   \n",
              "2          2       3   6353   8808     7684    2405              3516   \n",
              "3          1       3  13265   1196     4221    6404               507   \n",
              "4          2       3  22615   5410     7198    3915              1777   \n",
              "..       ...     ...    ...    ...      ...     ...               ...   \n",
              "435        1       3  29703  12051    16027   13135               182   \n",
              "436        1       3  39228   1431      764    4510                93   \n",
              "437        2       3  14531  15488    30243     437             14841   \n",
              "438        1       3  10290   1981     2232    1038               168   \n",
              "439        1       3   2787   1698     2510      65               477   \n",
              "\n",
              "     Delicassen  \n",
              "0          1338  \n",
              "1          1776  \n",
              "2          7844  \n",
              "3          1788  \n",
              "4          5185  \n",
              "..          ...  \n",
              "435        2204  \n",
              "436        2346  \n",
              "437        1867  \n",
              "438        2125  \n",
              "439          52  \n",
              "\n",
              "[440 rows x 8 columns]"
            ],
            "text/html": [
              "\n",
              "  <div id=\"df-8c6401f8-32b7-4270-ae88-671f656c16ca\">\n",
              "    <div class=\"colab-df-container\">\n",
              "      <div>\n",
              "<style scoped>\n",
              "    .dataframe tbody tr th:only-of-type {\n",
              "        vertical-align: middle;\n",
              "    }\n",
              "\n",
              "    .dataframe tbody tr th {\n",
              "        vertical-align: top;\n",
              "    }\n",
              "\n",
              "    .dataframe thead th {\n",
              "        text-align: right;\n",
              "    }\n",
              "</style>\n",
              "<table border=\"1\" class=\"dataframe\">\n",
              "  <thead>\n",
              "    <tr style=\"text-align: right;\">\n",
              "      <th></th>\n",
              "      <th>Channel</th>\n",
              "      <th>Region</th>\n",
              "      <th>Fresh</th>\n",
              "      <th>Milk</th>\n",
              "      <th>Grocery</th>\n",
              "      <th>Frozen</th>\n",
              "      <th>Detergents_Paper</th>\n",
              "      <th>Delicassen</th>\n",
              "    </tr>\n",
              "  </thead>\n",
              "  <tbody>\n",
              "    <tr>\n",
              "      <th>0</th>\n",
              "      <td>2</td>\n",
              "      <td>3</td>\n",
              "      <td>12669</td>\n",
              "      <td>9656</td>\n",
              "      <td>7561</td>\n",
              "      <td>214</td>\n",
              "      <td>2674</td>\n",
              "      <td>1338</td>\n",
              "    </tr>\n",
              "    <tr>\n",
              "      <th>1</th>\n",
              "      <td>2</td>\n",
              "      <td>3</td>\n",
              "      <td>7057</td>\n",
              "      <td>9810</td>\n",
              "      <td>9568</td>\n",
              "      <td>1762</td>\n",
              "      <td>3293</td>\n",
              "      <td>1776</td>\n",
              "    </tr>\n",
              "    <tr>\n",
              "      <th>2</th>\n",
              "      <td>2</td>\n",
              "      <td>3</td>\n",
              "      <td>6353</td>\n",
              "      <td>8808</td>\n",
              "      <td>7684</td>\n",
              "      <td>2405</td>\n",
              "      <td>3516</td>\n",
              "      <td>7844</td>\n",
              "    </tr>\n",
              "    <tr>\n",
              "      <th>3</th>\n",
              "      <td>1</td>\n",
              "      <td>3</td>\n",
              "      <td>13265</td>\n",
              "      <td>1196</td>\n",
              "      <td>4221</td>\n",
              "      <td>6404</td>\n",
              "      <td>507</td>\n",
              "      <td>1788</td>\n",
              "    </tr>\n",
              "    <tr>\n",
              "      <th>4</th>\n",
              "      <td>2</td>\n",
              "      <td>3</td>\n",
              "      <td>22615</td>\n",
              "      <td>5410</td>\n",
              "      <td>7198</td>\n",
              "      <td>3915</td>\n",
              "      <td>1777</td>\n",
              "      <td>5185</td>\n",
              "    </tr>\n",
              "    <tr>\n",
              "      <th>...</th>\n",
              "      <td>...</td>\n",
              "      <td>...</td>\n",
              "      <td>...</td>\n",
              "      <td>...</td>\n",
              "      <td>...</td>\n",
              "      <td>...</td>\n",
              "      <td>...</td>\n",
              "      <td>...</td>\n",
              "    </tr>\n",
              "    <tr>\n",
              "      <th>435</th>\n",
              "      <td>1</td>\n",
              "      <td>3</td>\n",
              "      <td>29703</td>\n",
              "      <td>12051</td>\n",
              "      <td>16027</td>\n",
              "      <td>13135</td>\n",
              "      <td>182</td>\n",
              "      <td>2204</td>\n",
              "    </tr>\n",
              "    <tr>\n",
              "      <th>436</th>\n",
              "      <td>1</td>\n",
              "      <td>3</td>\n",
              "      <td>39228</td>\n",
              "      <td>1431</td>\n",
              "      <td>764</td>\n",
              "      <td>4510</td>\n",
              "      <td>93</td>\n",
              "      <td>2346</td>\n",
              "    </tr>\n",
              "    <tr>\n",
              "      <th>437</th>\n",
              "      <td>2</td>\n",
              "      <td>3</td>\n",
              "      <td>14531</td>\n",
              "      <td>15488</td>\n",
              "      <td>30243</td>\n",
              "      <td>437</td>\n",
              "      <td>14841</td>\n",
              "      <td>1867</td>\n",
              "    </tr>\n",
              "    <tr>\n",
              "      <th>438</th>\n",
              "      <td>1</td>\n",
              "      <td>3</td>\n",
              "      <td>10290</td>\n",
              "      <td>1981</td>\n",
              "      <td>2232</td>\n",
              "      <td>1038</td>\n",
              "      <td>168</td>\n",
              "      <td>2125</td>\n",
              "    </tr>\n",
              "    <tr>\n",
              "      <th>439</th>\n",
              "      <td>1</td>\n",
              "      <td>3</td>\n",
              "      <td>2787</td>\n",
              "      <td>1698</td>\n",
              "      <td>2510</td>\n",
              "      <td>65</td>\n",
              "      <td>477</td>\n",
              "      <td>52</td>\n",
              "    </tr>\n",
              "  </tbody>\n",
              "</table>\n",
              "<p>440 rows × 8 columns</p>\n",
              "</div>\n",
              "      <button class=\"colab-df-convert\" onclick=\"convertToInteractive('df-8c6401f8-32b7-4270-ae88-671f656c16ca')\"\n",
              "              title=\"Convert this dataframe to an interactive table.\"\n",
              "              style=\"display:none;\">\n",
              "        \n",
              "  <svg xmlns=\"http://www.w3.org/2000/svg\" height=\"24px\"viewBox=\"0 0 24 24\"\n",
              "       width=\"24px\">\n",
              "    <path d=\"M0 0h24v24H0V0z\" fill=\"none\"/>\n",
              "    <path d=\"M18.56 5.44l.94 2.06.94-2.06 2.06-.94-2.06-.94-.94-2.06-.94 2.06-2.06.94zm-11 1L8.5 8.5l.94-2.06 2.06-.94-2.06-.94L8.5 2.5l-.94 2.06-2.06.94zm10 10l.94 2.06.94-2.06 2.06-.94-2.06-.94-.94-2.06-.94 2.06-2.06.94z\"/><path d=\"M17.41 7.96l-1.37-1.37c-.4-.4-.92-.59-1.43-.59-.52 0-1.04.2-1.43.59L10.3 9.45l-7.72 7.72c-.78.78-.78 2.05 0 2.83L4 21.41c.39.39.9.59 1.41.59.51 0 1.02-.2 1.41-.59l7.78-7.78 2.81-2.81c.8-.78.8-2.07 0-2.86zM5.41 20L4 18.59l7.72-7.72 1.47 1.35L5.41 20z\"/>\n",
              "  </svg>\n",
              "      </button>\n",
              "      \n",
              "  <style>\n",
              "    .colab-df-container {\n",
              "      display:flex;\n",
              "      flex-wrap:wrap;\n",
              "      gap: 12px;\n",
              "    }\n",
              "\n",
              "    .colab-df-convert {\n",
              "      background-color: #E8F0FE;\n",
              "      border: none;\n",
              "      border-radius: 50%;\n",
              "      cursor: pointer;\n",
              "      display: none;\n",
              "      fill: #1967D2;\n",
              "      height: 32px;\n",
              "      padding: 0 0 0 0;\n",
              "      width: 32px;\n",
              "    }\n",
              "\n",
              "    .colab-df-convert:hover {\n",
              "      background-color: #E2EBFA;\n",
              "      box-shadow: 0px 1px 2px rgba(60, 64, 67, 0.3), 0px 1px 3px 1px rgba(60, 64, 67, 0.15);\n",
              "      fill: #174EA6;\n",
              "    }\n",
              "\n",
              "    [theme=dark] .colab-df-convert {\n",
              "      background-color: #3B4455;\n",
              "      fill: #D2E3FC;\n",
              "    }\n",
              "\n",
              "    [theme=dark] .colab-df-convert:hover {\n",
              "      background-color: #434B5C;\n",
              "      box-shadow: 0px 1px 3px 1px rgba(0, 0, 0, 0.15);\n",
              "      filter: drop-shadow(0px 1px 2px rgba(0, 0, 0, 0.3));\n",
              "      fill: #FFFFFF;\n",
              "    }\n",
              "  </style>\n",
              "\n",
              "      <script>\n",
              "        const buttonEl =\n",
              "          document.querySelector('#df-8c6401f8-32b7-4270-ae88-671f656c16ca button.colab-df-convert');\n",
              "        buttonEl.style.display =\n",
              "          google.colab.kernel.accessAllowed ? 'block' : 'none';\n",
              "\n",
              "        async function convertToInteractive(key) {\n",
              "          const element = document.querySelector('#df-8c6401f8-32b7-4270-ae88-671f656c16ca');\n",
              "          const dataTable =\n",
              "            await google.colab.kernel.invokeFunction('convertToInteractive',\n",
              "                                                     [key], {});\n",
              "          if (!dataTable) return;\n",
              "\n",
              "          const docLinkHtml = 'Like what you see? Visit the ' +\n",
              "            '<a target=\"_blank\" href=https://colab.research.google.com/notebooks/data_table.ipynb>data table notebook</a>'\n",
              "            + ' to learn more about interactive tables.';\n",
              "          element.innerHTML = '';\n",
              "          dataTable['output_type'] = 'display_data';\n",
              "          await google.colab.output.renderOutput(dataTable, element);\n",
              "          const docLink = document.createElement('div');\n",
              "          docLink.innerHTML = docLinkHtml;\n",
              "          element.appendChild(docLink);\n",
              "        }\n",
              "      </script>\n",
              "    </div>\n",
              "  </div>\n",
              "  "
            ]
          },
          "metadata": {},
          "execution_count": 140
        }
      ]
    },
    {
      "cell_type": "code",
      "source": [
        "# Cargar librerias\n",
        "from sklearn.cluster import KMeans\n",
        "from yellowbrick.features import PCA\n",
        "from sklearn.preprocessing import LabelEncoder\n",
        "from yellowbrick.cluster import KElbowVisualizer\n",
        "from yellowbrick.cluster import SilhouetteVisualizer"
      ],
      "metadata": {
        "id": "7LQsxrqeJd9J"
      },
      "execution_count": null,
      "outputs": []
    },
    {
      "cell_type": "code",
      "source": [
        "# Dividir los datos\n",
        "ys = compras[['Channel']]\n",
        "xs = compras.drop(columns=['Channel'])"
      ],
      "metadata": {
        "id": "uomyaBPaMeuh"
      },
      "execution_count": null,
      "outputs": []
    },
    {
      "cell_type": "markdown",
      "source": [
        "### Análisis de Cluster"
      ],
      "metadata": {
        "id": "5gVNLk4OU0TZ"
      }
    },
    {
      "cell_type": "markdown",
      "source": [
        "El KElbowVisualizer implementa el método \"codo\" para ayudar a seleccionar la cantidad óptima de clústeres ajustando el modelo con un rango de valores para el número de cluster. Si el gráfico de líneas se parece a un brazo, entonces el \"codo\" (el punto de inflexión en la curva) es una buena indicación de que el modelo subyacente se ajusta mejor a ese punto. En el visualizador, el \"codo\" se anotará con una línea discontinua.\n",
        "\n",
        "La métrica de distorsión que se utiliza por defecto es la suma de cuadrados de las observaciones asignadas al cluster y el centroide del cluster, entre menor sera la suma de cuadrados mayor sera la concentración de los puntos."
      ],
      "metadata": {
        "id": "VL2-jq3_BuHY"
      }
    },
    {
      "cell_type": "code",
      "source": [
        "model = KMeans()\n",
        "n_cluster_vis = KElbowVisualizer(model, k=(2,10))\n",
        "n_cluster_vis .fit(xs)\n",
        "n_cluster_vis .show() "
      ],
      "metadata": {
        "colab": {
          "base_uri": "https://localhost:8080/",
          "height": 393
        },
        "id": "9NulDToNRnGt",
        "outputId": "cdef6f85-3da8-4f03-d404-72e77385c629"
      },
      "execution_count": null,
      "outputs": [
        {
          "output_type": "display_data",
          "data": {
            "text/plain": [
              "<Figure size 576x396 with 2 Axes>"
            ],
            "image/png": "[encoded data removed]"
          },
          "metadata": {}
        },
        {
          "output_type": "execute_result",
          "data": {
            "text/plain": [
              "<matplotlib.axes._subplots.AxesSubplot at 0x7f2b3ec845d0>"
            ]
          },
          "metadata": {},
          "execution_count": 143
        }
      ]
    },
    {
      "cell_type": "markdown",
      "source": [
        "El coeficiente de silueta se utiliza cuando se desconoce la verdad sobre el terreno del conjunto de datos y calcula la densidad de los clústeres. El puntaje se calcula promediando el coeficiente de silueta para cada muestra, calculado como la diferencia entre la distancia promedio dentro del grupo y la distancia media del grupo más cercano para cada muestra, normalizada por el valor máximo. Esto produce una puntuación entre 1 y -1, donde 1 son clústeres muy densos y -1 es un agrupamiento completamente incorrecto.\n",
        "\n",
        "El visualizador de silueta muestra el coeficiente de silueta para cada muestra por grupo, visualizando qué grupos son densos y cuáles no. Esto es particularmente útil para determinar el desequilibrio del grupo o para seleccionar un valor comparando varios visualizadores."
      ],
      "metadata": {
        "id": "dLls8eckDxbR"
      }
    },
    {
      "cell_type": "code",
      "source": [
        "model = KMeans(5, random_state=42)\n",
        "silueta_vis = SilhouetteVisualizer(model, colors='yellowbrick')\n",
        "silueta_vis.fit(xs)\n",
        "silueta_vis.show()   "
      ],
      "metadata": {
        "colab": {
          "base_uri": "https://localhost:8080/",
          "height": 393
        },
        "id": "TsW73RlISIyJ",
        "outputId": "2ed55ebf-206f-4a90-e894-5055f6c42ce9"
      },
      "execution_count": null,
      "outputs": [
        {
          "output_type": "display_data",
          "data": {
            "text/plain": [
              "<Figure size 576x396 with 1 Axes>"
            ],
            "image/png": "[encoded data removed]"
          },
          "metadata": {}
        },
        {
          "output_type": "execute_result",
          "data": {
            "text/plain": [
              "<matplotlib.axes._subplots.AxesSubplot at 0x7f2b3e9b0210>"
            ]
          },
          "metadata": {},
          "execution_count": 144
        }
      ]
    },
    {
      "cell_type": "markdown",
      "source": [
        "### Reducción de dimensiones con PCA"
      ],
      "metadata": {
        "id": "vBYUzVUEUqDn"
      }
    },
    {
      "cell_type": "code",
      "source": [
        "channel_encoder = LabelEncoder().fit(ys['Channel'])\n",
        "y = channel_encoder.transform(ys['Channel'])\n",
        "pca_biplot_channel = PCA(scale=True, proj_features=True)\n",
        "pca_biplot_channel.fit_transform(xs,y)\n",
        "pca_biplot_channel.show()"
      ],
      "metadata": {
        "colab": {
          "base_uri": "https://localhost:8080/",
          "height": 418
        },
        "id": "8Z3F7nsUKdty",
        "outputId": "87432e7f-e7bd-4222-952e-ee7e9cf39bff"
      },
      "execution_count": null,
      "outputs": [
        {
          "output_type": "display_data",
          "data": {
            "text/plain": [
              "<Figure size 576x396 with 1 Axes>"
            ],
            "image/png": "[encoded data removed]"
          },
          "metadata": {}
        },
        {
          "output_type": "execute_result",
          "data": {
            "text/plain": [
              "<matplotlib.axes._subplots.AxesSubplot at 0x7f2b3e981050>"
            ]
          },
          "metadata": {},
          "execution_count": 145
        }
      ]
    },
    {
      "cell_type": "markdown",
      "source": [
        "### Análisis de Cluster + PCA"
      ],
      "metadata": {
        "id": "CrJsD_nzpzoi"
      }
    },
    {
      "cell_type": "code",
      "source": [
        "cluster_encoder = LabelEncoder().fit(model.labels_)\n",
        "y_cluster = cluster_encoder.transform(model.labels_)\n",
        "pca_biplot_cluster = PCA(scale=True, proj_features=True)\n",
        "pca_biplot_cluster.fit_transform(xs,y_cluster)\n",
        "pca_biplot_cluster.show()"
      ],
      "metadata": {
        "colab": {
          "base_uri": "https://localhost:8080/",
          "height": 418
        },
        "id": "HFzWg8tcaqkQ",
        "outputId": "ff9f592d-a3a1-49e4-8e25-5cbd716385bb"
      },
      "execution_count": null,
      "outputs": [
        {
          "output_type": "display_data",
          "data": {
            "text/plain": [
              "<Figure size 576x396 with 1 Axes>"
            ],
            "image/png": "[encoded data removed]"
          },
          "metadata": {}
        },
        {
          "output_type": "execute_result",
          "data": {
            "text/plain": [
              "<matplotlib.axes._subplots.AxesSubplot at 0x7f2b3e87f210>"
            ]
          },
          "metadata": {},
          "execution_count": 146
        }
      ]
    },
    {
      "cell_type": "markdown",
      "source": [
        "## Reglas de Asociación"
      ],
      "metadata": {
        "id": "ePoc52G7I0qo"
      }
    },
    {
      "cell_type": "code",
      "source": [
        "# Librerias para generar reglas de asociación\n",
        "from mlxtend.frequent_patterns import apriori, association_rules\n",
        "from mlxtend.preprocessing import TransactionEncoder"
      ],
      "metadata": {
        "id": "KE16GRlqZjW_"
      },
      "execution_count": null,
      "outputs": []
    },
    {
      "cell_type": "code",
      "source": [
        "canasta = pd.read_csv('https://raw.githubusercontent.com/hfelizzola/Curso-Ciencia-Datos-Ecopetrol/main/GroceryStoreDataSet.csv',\n",
        "                      names = ['products'], \n",
        "                      sep = ',')\n",
        "canasta\n"
      ],
      "metadata": {
        "colab": {
          "base_uri": "https://localhost:8080/",
          "height": 677
        },
        "id": "tao8ZnX5I3PH",
        "outputId": "382c05e9-c55d-4cfd-c794-cb7698811eae"
      },
      "execution_count": null,
      "outputs": [
        {
          "output_type": "execute_result",
          "data": {
            "text/plain": [
              "                          products\n",
              "0               MILK,BREAD,BISCUIT\n",
              "1    BREAD,MILK,BISCUIT,CORNFLAKES\n",
              "2              BREAD,TEA,BOURNVITA\n",
              "3             JAM,MAGGI,BREAD,MILK\n",
              "4                MAGGI,TEA,BISCUIT\n",
              "5              BREAD,TEA,BOURNVITA\n",
              "6             MAGGI,TEA,CORNFLAKES\n",
              "7          MAGGI,BREAD,TEA,BISCUIT\n",
              "8              JAM,MAGGI,BREAD,TEA\n",
              "9                       BREAD,MILK\n",
              "10  COFFEE,COCK,BISCUIT,CORNFLAKES\n",
              "11  COFFEE,COCK,BISCUIT,CORNFLAKES\n",
              "12          COFFEE,SUGER,BOURNVITA\n",
              "13               BREAD,COFFEE,COCK\n",
              "14             BREAD,SUGER,BISCUIT\n",
              "15         COFFEE,SUGER,CORNFLAKES\n",
              "16           BREAD,SUGER,BOURNVITA\n",
              "17              BREAD,COFFEE,SUGER\n",
              "18              BREAD,COFFEE,SUGER\n",
              "19      TEA,MILK,COFFEE,CORNFLAKES"
            ],
            "text/html": [
              "\n",
              "  <div id=\"df-5da2a6f7-2d12-4df5-81af-14ea795793ef\">\n",
              "    <div class=\"colab-df-container\">\n",
              "      <div>\n",
              "<style scoped>\n",
              "    .dataframe tbody tr th:only-of-type {\n",
              "        vertical-align: middle;\n",
              "    }\n",
              "\n",
              "    .dataframe tbody tr th {\n",
              "        vertical-align: top;\n",
              "    }\n",
              "\n",
              "    .dataframe thead th {\n",
              "        text-align: right;\n",
              "    }\n",
              "</style>\n",
              "<table border=\"1\" class=\"dataframe\">\n",
              "  <thead>\n",
              "    <tr style=\"text-align: right;\">\n",
              "      <th></th>\n",
              "      <th>products</th>\n",
              "    </tr>\n",
              "  </thead>\n",
              "  <tbody>\n",
              "    <tr>\n",
              "      <th>0</th>\n",
              "      <td>MILK,BREAD,BISCUIT</td>\n",
              "    </tr>\n",
              "    <tr>\n",
              "      <th>1</th>\n",
              "      <td>BREAD,MILK,BISCUIT,CORNFLAKES</td>\n",
              "    </tr>\n",
              "    <tr>\n",
              "      <th>2</th>\n",
              "      <td>BREAD,TEA,BOURNVITA</td>\n",
              "    </tr>\n",
              "    <tr>\n",
              "      <th>3</th>\n",
              "      <td>JAM,MAGGI,BREAD,MILK</td>\n",
              "    </tr>\n",
              "    <tr>\n",
              "      <th>4</th>\n",
              "      <td>MAGGI,TEA,BISCUIT</td>\n",
              "    </tr>\n",
              "    <tr>\n",
              "      <th>5</th>\n",
              "      <td>BREAD,TEA,BOURNVITA</td>\n",
              "    </tr>\n",
              "    <tr>\n",
              "      <th>6</th>\n",
              "      <td>MAGGI,TEA,CORNFLAKES</td>\n",
              "    </tr>\n",
              "    <tr>\n",
              "      <th>7</th>\n",
              "      <td>MAGGI,BREAD,TEA,BISCUIT</td>\n",
              "    </tr>\n",
              "    <tr>\n",
              "      <th>8</th>\n",
              "      <td>JAM,MAGGI,BREAD,TEA</td>\n",
              "    </tr>\n",
              "    <tr>\n",
              "      <th>9</th>\n",
              "      <td>BREAD,MILK</td>\n",
              "    </tr>\n",
              "    <tr>\n",
              "      <th>10</th>\n",
              "      <td>COFFEE,COCK,BISCUIT,CORNFLAKES</td>\n",
              "    </tr>\n",
              "    <tr>\n",
              "      <th>11</th>\n",
              "      <td>COFFEE,COCK,BISCUIT,CORNFLAKES</td>\n",
              "    </tr>\n",
              "    <tr>\n",
              "      <th>12</th>\n",
              "      <td>COFFEE,SUGER,BOURNVITA</td>\n",
              "    </tr>\n",
              "    <tr>\n",
              "      <th>13</th>\n",
              "      <td>BREAD,COFFEE,COCK</td>\n",
              "    </tr>\n",
              "    <tr>\n",
              "      <th>14</th>\n",
              "      <td>BREAD,SUGER,BISCUIT</td>\n",
              "    </tr>\n",
              "    <tr>\n",
              "      <th>15</th>\n",
              "      <td>COFFEE,SUGER,CORNFLAKES</td>\n",
              "    </tr>\n",
              "    <tr>\n",
              "      <th>16</th>\n",
              "      <td>BREAD,SUGER,BOURNVITA</td>\n",
              "    </tr>\n",
              "    <tr>\n",
              "      <th>17</th>\n",
              "      <td>BREAD,COFFEE,SUGER</td>\n",
              "    </tr>\n",
              "    <tr>\n",
              "      <th>18</th>\n",
              "      <td>BREAD,COFFEE,SUGER</td>\n",
              "    </tr>\n",
              "    <tr>\n",
              "      <th>19</th>\n",
              "      <td>TEA,MILK,COFFEE,CORNFLAKES</td>\n",
              "    </tr>\n",
              "  </tbody>\n",
              "</table>\n",
              "</div>\n",
              "      <button class=\"colab-df-convert\" onclick=\"convertToInteractive('df-5da2a6f7-2d12-4df5-81af-14ea795793ef')\"\n",
              "              title=\"Convert this dataframe to an interactive table.\"\n",
              "              style=\"display:none;\">\n",
              "        \n",
              "  <svg xmlns=\"http://www.w3.org/2000/svg\" height=\"24px\"viewBox=\"0 0 24 24\"\n",
              "       width=\"24px\">\n",
              "    <path d=\"M0 0h24v24H0V0z\" fill=\"none\"/>\n",
              "    <path d=\"M18.56 5.44l.94 2.06.94-2.06 2.06-.94-2.06-.94-.94-2.06-.94 2.06-2.06.94zm-11 1L8.5 8.5l.94-2.06 2.06-.94-2.06-.94L8.5 2.5l-.94 2.06-2.06.94zm10 10l.94 2.06.94-2.06 2.06-.94-2.06-.94-.94-2.06-.94 2.06-2.06.94z\"/><path d=\"M17.41 7.96l-1.37-1.37c-.4-.4-.92-.59-1.43-.59-.52 0-1.04.2-1.43.59L10.3 9.45l-7.72 7.72c-.78.78-.78 2.05 0 2.83L4 21.41c.39.39.9.59 1.41.59.51 0 1.02-.2 1.41-.59l7.78-7.78 2.81-2.81c.8-.78.8-2.07 0-2.86zM5.41 20L4 18.59l7.72-7.72 1.47 1.35L5.41 20z\"/>\n",
              "  </svg>\n",
              "      </button>\n",
              "      \n",
              "  <style>\n",
              "    .colab-df-container {\n",
              "      display:flex;\n",
              "      flex-wrap:wrap;\n",
              "      gap: 12px;\n",
              "    }\n",
              "\n",
              "    .colab-df-convert {\n",
              "      background-color: #E8F0FE;\n",
              "      border: none;\n",
              "      border-radius: 50%;\n",
              "      cursor: pointer;\n",
              "      display: none;\n",
              "      fill: #1967D2;\n",
              "      height: 32px;\n",
              "      padding: 0 0 0 0;\n",
              "      width: 32px;\n",
              "    }\n",
              "\n",
              "    .colab-df-convert:hover {\n",
              "      background-color: #E2EBFA;\n",
              "      box-shadow: 0px 1px 2px rgba(60, 64, 67, 0.3), 0px 1px 3px 1px rgba(60, 64, 67, 0.15);\n",
              "      fill: #174EA6;\n",
              "    }\n",
              "\n",
              "    [theme=dark] .colab-df-convert {\n",
              "      background-color: #3B4455;\n",
              "      fill: #D2E3FC;\n",
              "    }\n",
              "\n",
              "    [theme=dark] .colab-df-convert:hover {\n",
              "      background-color: #434B5C;\n",
              "      box-shadow: 0px 1px 3px 1px rgba(0, 0, 0, 0.15);\n",
              "      filter: drop-shadow(0px 1px 2px rgba(0, 0, 0, 0.3));\n",
              "      fill: #FFFFFF;\n",
              "    }\n",
              "  </style>\n",
              "\n",
              "      <script>\n",
              "        const buttonEl =\n",
              "          document.querySelector('#df-5da2a6f7-2d12-4df5-81af-14ea795793ef button.colab-df-convert');\n",
              "        buttonEl.style.display =\n",
              "          google.colab.kernel.accessAllowed ? 'block' : 'none';\n",
              "\n",
              "        async function convertToInteractive(key) {\n",
              "          const element = document.querySelector('#df-5da2a6f7-2d12-4df5-81af-14ea795793ef');\n",
              "          const dataTable =\n",
              "            await google.colab.kernel.invokeFunction('convertToInteractive',\n",
              "                                                     [key], {});\n",
              "          if (!dataTable) return;\n",
              "\n",
              "          const docLinkHtml = 'Like what you see? Visit the ' +\n",
              "            '<a target=\"_blank\" href=https://colab.research.google.com/notebooks/data_table.ipynb>data table notebook</a>'\n",
              "            + ' to learn more about interactive tables.';\n",
              "          element.innerHTML = '';\n",
              "          dataTable['output_type'] = 'display_data';\n",
              "          await google.colab.output.renderOutput(dataTable, element);\n",
              "          const docLink = document.createElement('div');\n",
              "          docLink.innerHTML = docLinkHtml;\n",
              "          element.appendChild(docLink);\n",
              "        }\n",
              "      </script>\n",
              "    </div>\n",
              "  </div>\n",
              "  "
            ]
          },
          "metadata": {},
          "execution_count": 148
        }
      ]
    },
    {
      "cell_type": "markdown",
      "source": [
        "A continuación, se presentan una serie de códigos para procesar los datos."
      ],
      "metadata": {
        "id": "-_1SfOcRizZ-"
      }
    },
    {
      "cell_type": "code",
      "source": [
        "# Convertir para cada fila en una lista de ítems\n",
        "canasta = list(canasta[\"products\"].apply(lambda x:x.split(\",\") ))\n",
        "canasta"
      ],
      "metadata": {
        "colab": {
          "base_uri": "https://localhost:8080/"
        },
        "id": "pHw13Qdnag-A",
        "outputId": "62afedf9-2bbc-4a40-d2d9-dfc5117a1061"
      },
      "execution_count": null,
      "outputs": [
        {
          "output_type": "execute_result",
          "data": {
            "text/plain": [
              "[['MILK', 'BREAD', 'BISCUIT'],\n",
              " ['BREAD', 'MILK', 'BISCUIT', 'CORNFLAKES'],\n",
              " ['BREAD', 'TEA', 'BOURNVITA'],\n",
              " ['JAM', 'MAGGI', 'BREAD', 'MILK'],\n",
              " ['MAGGI', 'TEA', 'BISCUIT'],\n",
              " ['BREAD', 'TEA', 'BOURNVITA'],\n",
              " ['MAGGI', 'TEA', 'CORNFLAKES'],\n",
              " ['MAGGI', 'BREAD', 'TEA', 'BISCUIT'],\n",
              " ['JAM', 'MAGGI', 'BREAD', 'TEA'],\n",
              " ['BREAD', 'MILK'],\n",
              " ['COFFEE', 'COCK', 'BISCUIT', 'CORNFLAKES'],\n",
              " ['COFFEE', 'COCK', 'BISCUIT', 'CORNFLAKES'],\n",
              " ['COFFEE', 'SUGER', 'BOURNVITA'],\n",
              " ['BREAD', 'COFFEE', 'COCK'],\n",
              " ['BREAD', 'SUGER', 'BISCUIT'],\n",
              " ['COFFEE', 'SUGER', 'CORNFLAKES'],\n",
              " ['BREAD', 'SUGER', 'BOURNVITA'],\n",
              " ['BREAD', 'COFFEE', 'SUGER'],\n",
              " ['BREAD', 'COFFEE', 'SUGER'],\n",
              " ['TEA', 'MILK', 'COFFEE', 'CORNFLAKES']]"
            ]
          },
          "metadata": {},
          "execution_count": 149
        }
      ]
    },
    {
      "cell_type": "code",
      "source": [
        "# Convertir la lista en un data frame con variables dummies\n",
        "a = TransactionEncoder()\n",
        "a_data = a.fit(canasta).transform(canasta)\n",
        "df = pd.DataFrame(a_data,columns=a.columns_)\n",
        "df = df.replace({False:0,True:1})\n",
        "df"
      ],
      "metadata": {
        "colab": {
          "base_uri": "https://localhost:8080/",
          "height": 677
        },
        "id": "C_D61VxHaqZo",
        "outputId": "adabb720-aa88-4747-d7c7-2d005fd4294a"
      },
      "execution_count": null,
      "outputs": [
        {
          "output_type": "execute_result",
          "data": {
            "text/plain": [
              "    BISCUIT  BOURNVITA  BREAD  COCK  COFFEE  CORNFLAKES  JAM  MAGGI  MILK  \\\n",
              "0         1          0      1     0       0           0    0      0     1   \n",
              "1         1          0      1     0       0           1    0      0     1   \n",
              "2         0          1      1     0       0           0    0      0     0   \n",
              "3         0          0      1     0       0           0    1      1     1   \n",
              "4         1          0      0     0       0           0    0      1     0   \n",
              "5         0          1      1     0       0           0    0      0     0   \n",
              "6         0          0      0     0       0           1    0      1     0   \n",
              "7         1          0      1     0       0           0    0      1     0   \n",
              "8         0          0      1     0       0           0    1      1     0   \n",
              "9         0          0      1     0       0           0    0      0     1   \n",
              "10        1          0      0     1       1           1    0      0     0   \n",
              "11        1          0      0     1       1           1    0      0     0   \n",
              "12        0          1      0     0       1           0    0      0     0   \n",
              "13        0          0      1     1       1           0    0      0     0   \n",
              "14        1          0      1     0       0           0    0      0     0   \n",
              "15        0          0      0     0       1           1    0      0     0   \n",
              "16        0          1      1     0       0           0    0      0     0   \n",
              "17        0          0      1     0       1           0    0      0     0   \n",
              "18        0          0      1     0       1           0    0      0     0   \n",
              "19        0          0      0     0       1           1    0      0     1   \n",
              "\n",
              "    SUGER  TEA  \n",
              "0       0    0  \n",
              "1       0    0  \n",
              "2       0    1  \n",
              "3       0    0  \n",
              "4       0    1  \n",
              "5       0    1  \n",
              "6       0    1  \n",
              "7       0    1  \n",
              "8       0    1  \n",
              "9       0    0  \n",
              "10      0    0  \n",
              "11      0    0  \n",
              "12      1    0  \n",
              "13      0    0  \n",
              "14      1    0  \n",
              "15      1    0  \n",
              "16      1    0  \n",
              "17      1    0  \n",
              "18      1    0  \n",
              "19      0    1  "
            ],
            "text/html": [
              "\n",
              "  <div id=\"df-3d5bdbc2-1039-4170-9be1-2f719e245d39\">\n",
              "    <div class=\"colab-df-container\">\n",
              "      <div>\n",
              "<style scoped>\n",
              "    .dataframe tbody tr th:only-of-type {\n",
              "        vertical-align: middle;\n",
              "    }\n",
              "\n",
              "    .dataframe tbody tr th {\n",
              "        vertical-align: top;\n",
              "    }\n",
              "\n",
              "    .dataframe thead th {\n",
              "        text-align: right;\n",
              "    }\n",
              "</style>\n",
              "<table border=\"1\" class=\"dataframe\">\n",
              "  <thead>\n",
              "    <tr style=\"text-align: right;\">\n",
              "      <th></th>\n",
              "      <th>BISCUIT</th>\n",
              "      <th>BOURNVITA</th>\n",
              "      <th>BREAD</th>\n",
              "      <th>COCK</th>\n",
              "      <th>COFFEE</th>\n",
              "      <th>CORNFLAKES</th>\n",
              "      <th>JAM</th>\n",
              "      <th>MAGGI</th>\n",
              "      <th>MILK</th>\n",
              "      <th>SUGER</th>\n",
              "      <th>TEA</th>\n",
              "    </tr>\n",
              "  </thead>\n",
              "  <tbody>\n",
              "    <tr>\n",
              "      <th>0</th>\n",
              "      <td>1</td>\n",
              "      <td>0</td>\n",
              "      <td>1</td>\n",
              "      <td>0</td>\n",
              "      <td>0</td>\n",
              "      <td>0</td>\n",
              "      <td>0</td>\n",
              "      <td>0</td>\n",
              "      <td>1</td>\n",
              "      <td>0</td>\n",
              "      <td>0</td>\n",
              "    </tr>\n",
              "    <tr>\n",
              "      <th>1</th>\n",
              "      <td>1</td>\n",
              "      <td>0</td>\n",
              "      <td>1</td>\n",
              "      <td>0</td>\n",
              "      <td>0</td>\n",
              "      <td>1</td>\n",
              "      <td>0</td>\n",
              "      <td>0</td>\n",
              "      <td>1</td>\n",
              "      <td>0</td>\n",
              "      <td>0</td>\n",
              "    </tr>\n",
              "    <tr>\n",
              "      <th>2</th>\n",
              "      <td>0</td>\n",
              "      <td>1</td>\n",
              "      <td>1</td>\n",
              "      <td>0</td>\n",
              "      <td>0</td>\n",
              "      <td>0</td>\n",
              "      <td>0</td>\n",
              "      <td>0</td>\n",
              "      <td>0</td>\n",
              "      <td>0</td>\n",
              "      <td>1</td>\n",
              "    </tr>\n",
              "    <tr>\n",
              "      <th>3</th>\n",
              "      <td>0</td>\n",
              "      <td>0</td>\n",
              "      <td>1</td>\n",
              "      <td>0</td>\n",
              "      <td>0</td>\n",
              "      <td>0</td>\n",
              "      <td>1</td>\n",
              "      <td>1</td>\n",
              "      <td>1</td>\n",
              "      <td>0</td>\n",
              "      <td>0</td>\n",
              "    </tr>\n",
              "    <tr>\n",
              "      <th>4</th>\n",
              "      <td>1</td>\n",
              "      <td>0</td>\n",
              "      <td>0</td>\n",
              "      <td>0</td>\n",
              "      <td>0</td>\n",
              "      <td>0</td>\n",
              "      <td>0</td>\n",
              "      <td>1</td>\n",
              "      <td>0</td>\n",
              "      <td>0</td>\n",
              "      <td>1</td>\n",
              "    </tr>\n",
              "    <tr>\n",
              "      <th>5</th>\n",
              "      <td>0</td>\n",
              "      <td>1</td>\n",
              "      <td>1</td>\n",
              "      <td>0</td>\n",
              "      <td>0</td>\n",
              "      <td>0</td>\n",
              "      <td>0</td>\n",
              "      <td>0</td>\n",
              "      <td>0</td>\n",
              "      <td>0</td>\n",
              "      <td>1</td>\n",
              "    </tr>\n",
              "    <tr>\n",
              "      <th>6</th>\n",
              "      <td>0</td>\n",
              "      <td>0</td>\n",
              "      <td>0</td>\n",
              "      <td>0</td>\n",
              "      <td>0</td>\n",
              "      <td>1</td>\n",
              "      <td>0</td>\n",
              "      <td>1</td>\n",
              "      <td>0</td>\n",
              "      <td>0</td>\n",
              "      <td>1</td>\n",
              "    </tr>\n",
              "    <tr>\n",
              "      <th>7</th>\n",
              "      <td>1</td>\n",
              "      <td>0</td>\n",
              "      <td>1</td>\n",
              "      <td>0</td>\n",
              "      <td>0</td>\n",
              "      <td>0</td>\n",
              "      <td>0</td>\n",
              "      <td>1</td>\n",
              "      <td>0</td>\n",
              "      <td>0</td>\n",
              "      <td>1</td>\n",
              "    </tr>\n",
              "    <tr>\n",
              "      <th>8</th>\n",
              "      <td>0</td>\n",
              "      <td>0</td>\n",
              "      <td>1</td>\n",
              "      <td>0</td>\n",
              "      <td>0</td>\n",
              "      <td>0</td>\n",
              "      <td>1</td>\n",
              "      <td>1</td>\n",
              "      <td>0</td>\n",
              "      <td>0</td>\n",
              "      <td>1</td>\n",
              "    </tr>\n",
              "    <tr>\n",
              "      <th>9</th>\n",
              "      <td>0</td>\n",
              "      <td>0</td>\n",
              "      <td>1</td>\n",
              "      <td>0</td>\n",
              "      <td>0</td>\n",
              "      <td>0</td>\n",
              "      <td>0</td>\n",
              "      <td>0</td>\n",
              "      <td>1</td>\n",
              "      <td>0</td>\n",
              "      <td>0</td>\n",
              "    </tr>\n",
              "    <tr>\n",
              "      <th>10</th>\n",
              "      <td>1</td>\n",
              "      <td>0</td>\n",
              "      <td>0</td>\n",
              "      <td>1</td>\n",
              "      <td>1</td>\n",
              "      <td>1</td>\n",
              "      <td>0</td>\n",
              "      <td>0</td>\n",
              "      <td>0</td>\n",
              "      <td>0</td>\n",
              "      <td>0</td>\n",
              "    </tr>\n",
              "    <tr>\n",
              "      <th>11</th>\n",
              "      <td>1</td>\n",
              "      <td>0</td>\n",
              "      <td>0</td>\n",
              "      <td>1</td>\n",
              "      <td>1</td>\n",
              "      <td>1</td>\n",
              "      <td>0</td>\n",
              "      <td>0</td>\n",
              "      <td>0</td>\n",
              "      <td>0</td>\n",
              "      <td>0</td>\n",
              "    </tr>\n",
              "    <tr>\n",
              "      <th>12</th>\n",
              "      <td>0</td>\n",
              "      <td>1</td>\n",
              "      <td>0</td>\n",
              "      <td>0</td>\n",
              "      <td>1</td>\n",
              "      <td>0</td>\n",
              "      <td>0</td>\n",
              "      <td>0</td>\n",
              "      <td>0</td>\n",
              "      <td>1</td>\n",
              "      <td>0</td>\n",
              "    </tr>\n",
              "    <tr>\n",
              "      <th>13</th>\n",
              "      <td>0</td>\n",
              "      <td>0</td>\n",
              "      <td>1</td>\n",
              "      <td>1</td>\n",
              "      <td>1</td>\n",
              "      <td>0</td>\n",
              "      <td>0</td>\n",
              "      <td>0</td>\n",
              "      <td>0</td>\n",
              "      <td>0</td>\n",
              "      <td>0</td>\n",
              "    </tr>\n",
              "    <tr>\n",
              "      <th>14</th>\n",
              "      <td>1</td>\n",
              "      <td>0</td>\n",
              "      <td>1</td>\n",
              "      <td>0</td>\n",
              "      <td>0</td>\n",
              "      <td>0</td>\n",
              "      <td>0</td>\n",
              "      <td>0</td>\n",
              "      <td>0</td>\n",
              "      <td>1</td>\n",
              "      <td>0</td>\n",
              "    </tr>\n",
              "    <tr>\n",
              "      <th>15</th>\n",
              "      <td>0</td>\n",
              "      <td>0</td>\n",
              "      <td>0</td>\n",
              "      <td>0</td>\n",
              "      <td>1</td>\n",
              "      <td>1</td>\n",
              "      <td>0</td>\n",
              "      <td>0</td>\n",
              "      <td>0</td>\n",
              "      <td>1</td>\n",
              "      <td>0</td>\n",
              "    </tr>\n",
              "    <tr>\n",
              "      <th>16</th>\n",
              "      <td>0</td>\n",
              "      <td>1</td>\n",
              "      <td>1</td>\n",
              "      <td>0</td>\n",
              "      <td>0</td>\n",
              "      <td>0</td>\n",
              "      <td>0</td>\n",
              "      <td>0</td>\n",
              "      <td>0</td>\n",
              "      <td>1</td>\n",
              "      <td>0</td>\n",
              "    </tr>\n",
              "    <tr>\n",
              "      <th>17</th>\n",
              "      <td>0</td>\n",
              "      <td>0</td>\n",
              "      <td>1</td>\n",
              "      <td>0</td>\n",
              "      <td>1</td>\n",
              "      <td>0</td>\n",
              "      <td>0</td>\n",
              "      <td>0</td>\n",
              "      <td>0</td>\n",
              "      <td>1</td>\n",
              "      <td>0</td>\n",
              "    </tr>\n",
              "    <tr>\n",
              "      <th>18</th>\n",
              "      <td>0</td>\n",
              "      <td>0</td>\n",
              "      <td>1</td>\n",
              "      <td>0</td>\n",
              "      <td>1</td>\n",
              "      <td>0</td>\n",
              "      <td>0</td>\n",
              "      <td>0</td>\n",
              "      <td>0</td>\n",
              "      <td>1</td>\n",
              "      <td>0</td>\n",
              "    </tr>\n",
              "    <tr>\n",
              "      <th>19</th>\n",
              "      <td>0</td>\n",
              "      <td>0</td>\n",
              "      <td>0</td>\n",
              "      <td>0</td>\n",
              "      <td>1</td>\n",
              "      <td>1</td>\n",
              "      <td>0</td>\n",
              "      <td>0</td>\n",
              "      <td>1</td>\n",
              "      <td>0</td>\n",
              "      <td>1</td>\n",
              "    </tr>\n",
              "  </tbody>\n",
              "</table>\n",
              "</div>\n",
              "      <button class=\"colab-df-convert\" onclick=\"convertToInteractive('df-3d5bdbc2-1039-4170-9be1-2f719e245d39')\"\n",
              "              title=\"Convert this dataframe to an interactive table.\"\n",
              "              style=\"display:none;\">\n",
              "        \n",
              "  <svg xmlns=\"http://www.w3.org/2000/svg\" height=\"24px\"viewBox=\"0 0 24 24\"\n",
              "       width=\"24px\">\n",
              "    <path d=\"M0 0h24v24H0V0z\" fill=\"none\"/>\n",
              "    <path d=\"M18.56 5.44l.94 2.06.94-2.06 2.06-.94-2.06-.94-.94-2.06-.94 2.06-2.06.94zm-11 1L8.5 8.5l.94-2.06 2.06-.94-2.06-.94L8.5 2.5l-.94 2.06-2.06.94zm10 10l.94 2.06.94-2.06 2.06-.94-2.06-.94-.94-2.06-.94 2.06-2.06.94z\"/><path d=\"M17.41 7.96l-1.37-1.37c-.4-.4-.92-.59-1.43-.59-.52 0-1.04.2-1.43.59L10.3 9.45l-7.72 7.72c-.78.78-.78 2.05 0 2.83L4 21.41c.39.39.9.59 1.41.59.51 0 1.02-.2 1.41-.59l7.78-7.78 2.81-2.81c.8-.78.8-2.07 0-2.86zM5.41 20L4 18.59l7.72-7.72 1.47 1.35L5.41 20z\"/>\n",
              "  </svg>\n",
              "      </button>\n",
              "      \n",
              "  <style>\n",
              "    .colab-df-container {\n",
              "      display:flex;\n",
              "      flex-wrap:wrap;\n",
              "      gap: 12px;\n",
              "    }\n",
              "\n",
              "    .colab-df-convert {\n",
              "      background-color: #E8F0FE;\n",
              "      border: none;\n",
              "      border-radius: 50%;\n",
              "      cursor: pointer;\n",
              "      display: none;\n",
              "      fill: #1967D2;\n",
              "      height: 32px;\n",
              "      padding: 0 0 0 0;\n",
              "      width: 32px;\n",
              "    }\n",
              "\n",
              "    .colab-df-convert:hover {\n",
              "      background-color: #E2EBFA;\n",
              "      box-shadow: 0px 1px 2px rgba(60, 64, 67, 0.3), 0px 1px 3px 1px rgba(60, 64, 67, 0.15);\n",
              "      fill: #174EA6;\n",
              "    }\n",
              "\n",
              "    [theme=dark] .colab-df-convert {\n",
              "      background-color: #3B4455;\n",
              "      fill: #D2E3FC;\n",
              "    }\n",
              "\n",
              "    [theme=dark] .colab-df-convert:hover {\n",
              "      background-color: #434B5C;\n",
              "      box-shadow: 0px 1px 3px 1px rgba(0, 0, 0, 0.15);\n",
              "      filter: drop-shadow(0px 1px 2px rgba(0, 0, 0, 0.3));\n",
              "      fill: #FFFFFF;\n",
              "    }\n",
              "  </style>\n",
              "\n",
              "      <script>\n",
              "        const buttonEl =\n",
              "          document.querySelector('#df-3d5bdbc2-1039-4170-9be1-2f719e245d39 button.colab-df-convert');\n",
              "        buttonEl.style.display =\n",
              "          google.colab.kernel.accessAllowed ? 'block' : 'none';\n",
              "\n",
              "        async function convertToInteractive(key) {\n",
              "          const element = document.querySelector('#df-3d5bdbc2-1039-4170-9be1-2f719e245d39');\n",
              "          const dataTable =\n",
              "            await google.colab.kernel.invokeFunction('convertToInteractive',\n",
              "                                                     [key], {});\n",
              "          if (!dataTable) return;\n",
              "\n",
              "          const docLinkHtml = 'Like what you see? Visit the ' +\n",
              "            '<a target=\"_blank\" href=https://colab.research.google.com/notebooks/data_table.ipynb>data table notebook</a>'\n",
              "            + ' to learn more about interactive tables.';\n",
              "          element.innerHTML = '';\n",
              "          dataTable['output_type'] = 'display_data';\n",
              "          await google.colab.output.renderOutput(dataTable, element);\n",
              "          const docLink = document.createElement('div');\n",
              "          docLink.innerHTML = docLinkHtml;\n",
              "          element.appendChild(docLink);\n",
              "        }\n",
              "      </script>\n",
              "    </div>\n",
              "  </div>\n",
              "  "
            ]
          },
          "metadata": {},
          "execution_count": 150
        }
      ]
    },
    {
      "cell_type": "code",
      "source": [
        "# Calcular el support para cada ítem y combinación de ítems\n",
        "df = apriori(df, min_support = 0.2, use_colnames = True)\n",
        "df"
      ],
      "metadata": {
        "colab": {
          "base_uri": "https://localhost:8080/",
          "height": 551
        },
        "id": "LosBaZuVbC_H",
        "outputId": "28c7392b-eea3-473d-9599-e067166dbc72"
      },
      "execution_count": null,
      "outputs": [
        {
          "output_type": "execute_result",
          "data": {
            "text/plain": [
              "    support              itemsets\n",
              "0      0.35             (BISCUIT)\n",
              "1      0.20           (BOURNVITA)\n",
              "2      0.65               (BREAD)\n",
              "3      0.40              (COFFEE)\n",
              "4      0.30          (CORNFLAKES)\n",
              "5      0.25               (MAGGI)\n",
              "6      0.25                (MILK)\n",
              "7      0.30               (SUGER)\n",
              "8      0.35                 (TEA)\n",
              "9      0.20      (BISCUIT, BREAD)\n",
              "10     0.20         (BREAD, MILK)\n",
              "11     0.20        (SUGER, BREAD)\n",
              "12     0.20          (BREAD, TEA)\n",
              "13     0.20  (COFFEE, CORNFLAKES)\n",
              "14     0.20       (SUGER, COFFEE)\n",
              "15     0.20          (MAGGI, TEA)"
            ],
            "text/html": [
              "\n",
              "  <div id=\"df-be5fa7ec-8a07-4436-99cd-26b04dfccde2\">\n",
              "    <div class=\"colab-df-container\">\n",
              "      <div>\n",
              "<style scoped>\n",
              "    .dataframe tbody tr th:only-of-type {\n",
              "        vertical-align: middle;\n",
              "    }\n",
              "\n",
              "    .dataframe tbody tr th {\n",
              "        vertical-align: top;\n",
              "    }\n",
              "\n",
              "    .dataframe thead th {\n",
              "        text-align: right;\n",
              "    }\n",
              "</style>\n",
              "<table border=\"1\" class=\"dataframe\">\n",
              "  <thead>\n",
              "    <tr style=\"text-align: right;\">\n",
              "      <th></th>\n",
              "      <th>support</th>\n",
              "      <th>itemsets</th>\n",
              "    </tr>\n",
              "  </thead>\n",
              "  <tbody>\n",
              "    <tr>\n",
              "      <th>0</th>\n",
              "      <td>0.35</td>\n",
              "      <td>(BISCUIT)</td>\n",
              "    </tr>\n",
              "    <tr>\n",
              "      <th>1</th>\n",
              "      <td>0.20</td>\n",
              "      <td>(BOURNVITA)</td>\n",
              "    </tr>\n",
              "    <tr>\n",
              "      <th>2</th>\n",
              "      <td>0.65</td>\n",
              "      <td>(BREAD)</td>\n",
              "    </tr>\n",
              "    <tr>\n",
              "      <th>3</th>\n",
              "      <td>0.40</td>\n",
              "      <td>(COFFEE)</td>\n",
              "    </tr>\n",
              "    <tr>\n",
              "      <th>4</th>\n",
              "      <td>0.30</td>\n",
              "      <td>(CORNFLAKES)</td>\n",
              "    </tr>\n",
              "    <tr>\n",
              "      <th>5</th>\n",
              "      <td>0.25</td>\n",
              "      <td>(MAGGI)</td>\n",
              "    </tr>\n",
              "    <tr>\n",
              "      <th>6</th>\n",
              "      <td>0.25</td>\n",
              "      <td>(MILK)</td>\n",
              "    </tr>\n",
              "    <tr>\n",
              "      <th>7</th>\n",
              "      <td>0.30</td>\n",
              "      <td>(SUGER)</td>\n",
              "    </tr>\n",
              "    <tr>\n",
              "      <th>8</th>\n",
              "      <td>0.35</td>\n",
              "      <td>(TEA)</td>\n",
              "    </tr>\n",
              "    <tr>\n",
              "      <th>9</th>\n",
              "      <td>0.20</td>\n",
              "      <td>(BISCUIT, BREAD)</td>\n",
              "    </tr>\n",
              "    <tr>\n",
              "      <th>10</th>\n",
              "      <td>0.20</td>\n",
              "      <td>(BREAD, MILK)</td>\n",
              "    </tr>\n",
              "    <tr>\n",
              "      <th>11</th>\n",
              "      <td>0.20</td>\n",
              "      <td>(SUGER, BREAD)</td>\n",
              "    </tr>\n",
              "    <tr>\n",
              "      <th>12</th>\n",
              "      <td>0.20</td>\n",
              "      <td>(BREAD, TEA)</td>\n",
              "    </tr>\n",
              "    <tr>\n",
              "      <th>13</th>\n",
              "      <td>0.20</td>\n",
              "      <td>(COFFEE, CORNFLAKES)</td>\n",
              "    </tr>\n",
              "    <tr>\n",
              "      <th>14</th>\n",
              "      <td>0.20</td>\n",
              "      <td>(SUGER, COFFEE)</td>\n",
              "    </tr>\n",
              "    <tr>\n",
              "      <th>15</th>\n",
              "      <td>0.20</td>\n",
              "      <td>(MAGGI, TEA)</td>\n",
              "    </tr>\n",
              "  </tbody>\n",
              "</table>\n",
              "</div>\n",
              "      <button class=\"colab-df-convert\" onclick=\"convertToInteractive('df-be5fa7ec-8a07-4436-99cd-26b04dfccde2')\"\n",
              "              title=\"Convert this dataframe to an interactive table.\"\n",
              "              style=\"display:none;\">\n",
              "        \n",
              "  <svg xmlns=\"http://www.w3.org/2000/svg\" height=\"24px\"viewBox=\"0 0 24 24\"\n",
              "       width=\"24px\">\n",
              "    <path d=\"M0 0h24v24H0V0z\" fill=\"none\"/>\n",
              "    <path d=\"M18.56 5.44l.94 2.06.94-2.06 2.06-.94-2.06-.94-.94-2.06-.94 2.06-2.06.94zm-11 1L8.5 8.5l.94-2.06 2.06-.94-2.06-.94L8.5 2.5l-.94 2.06-2.06.94zm10 10l.94 2.06.94-2.06 2.06-.94-2.06-.94-.94-2.06-.94 2.06-2.06.94z\"/><path d=\"M17.41 7.96l-1.37-1.37c-.4-.4-.92-.59-1.43-.59-.52 0-1.04.2-1.43.59L10.3 9.45l-7.72 7.72c-.78.78-.78 2.05 0 2.83L4 21.41c.39.39.9.59 1.41.59.51 0 1.02-.2 1.41-.59l7.78-7.78 2.81-2.81c.8-.78.8-2.07 0-2.86zM5.41 20L4 18.59l7.72-7.72 1.47 1.35L5.41 20z\"/>\n",
              "  </svg>\n",
              "      </button>\n",
              "      \n",
              "  <style>\n",
              "    .colab-df-container {\n",
              "      display:flex;\n",
              "      flex-wrap:wrap;\n",
              "      gap: 12px;\n",
              "    }\n",
              "\n",
              "    .colab-df-convert {\n",
              "      background-color: #E8F0FE;\n",
              "      border: none;\n",
              "      border-radius: 50%;\n",
              "      cursor: pointer;\n",
              "      display: none;\n",
              "      fill: #1967D2;\n",
              "      height: 32px;\n",
              "      padding: 0 0 0 0;\n",
              "      width: 32px;\n",
              "    }\n",
              "\n",
              "    .colab-df-convert:hover {\n",
              "      background-color: #E2EBFA;\n",
              "      box-shadow: 0px 1px 2px rgba(60, 64, 67, 0.3), 0px 1px 3px 1px rgba(60, 64, 67, 0.15);\n",
              "      fill: #174EA6;\n",
              "    }\n",
              "\n",
              "    [theme=dark] .colab-df-convert {\n",
              "      background-color: #3B4455;\n",
              "      fill: #D2E3FC;\n",
              "    }\n",
              "\n",
              "    [theme=dark] .colab-df-convert:hover {\n",
              "      background-color: #434B5C;\n",
              "      box-shadow: 0px 1px 3px 1px rgba(0, 0, 0, 0.15);\n",
              "      filter: drop-shadow(0px 1px 2px rgba(0, 0, 0, 0.3));\n",
              "      fill: #FFFFFF;\n",
              "    }\n",
              "  </style>\n",
              "\n",
              "      <script>\n",
              "        const buttonEl =\n",
              "          document.querySelector('#df-be5fa7ec-8a07-4436-99cd-26b04dfccde2 button.colab-df-convert');\n",
              "        buttonEl.style.display =\n",
              "          google.colab.kernel.accessAllowed ? 'block' : 'none';\n",
              "\n",
              "        async function convertToInteractive(key) {\n",
              "          const element = document.querySelector('#df-be5fa7ec-8a07-4436-99cd-26b04dfccde2');\n",
              "          const dataTable =\n",
              "            await google.colab.kernel.invokeFunction('convertToInteractive',\n",
              "                                                     [key], {});\n",
              "          if (!dataTable) return;\n",
              "\n",
              "          const docLinkHtml = 'Like what you see? Visit the ' +\n",
              "            '<a target=\"_blank\" href=https://colab.research.google.com/notebooks/data_table.ipynb>data table notebook</a>'\n",
              "            + ' to learn more about interactive tables.';\n",
              "          element.innerHTML = '';\n",
              "          dataTable['output_type'] = 'display_data';\n",
              "          await google.colab.output.renderOutput(dataTable, element);\n",
              "          const docLink = document.createElement('div');\n",
              "          docLink.innerHTML = docLinkHtml;\n",
              "          element.appendChild(docLink);\n",
              "        }\n",
              "      </script>\n",
              "    </div>\n",
              "  </div>\n",
              "  "
            ]
          },
          "metadata": {},
          "execution_count": 151
        }
      ]
    },
    {
      "cell_type": "code",
      "source": [
        "# Calcular las métricas para las reglas de asociación y filtrar aquellas con un nivel de confianza superior a 0.6\n",
        "df_ar = association_rules(df, metric = \"confidence\", min_threshold = 0.6)\n",
        "df_ar"
      ],
      "metadata": {
        "colab": {
          "base_uri": "https://localhost:8080/",
          "height": 206
        },
        "id": "_KtSn_xsbTgG",
        "outputId": "5d0c0c0f-0c8a-4d01-a6c6-9974b68ea79e"
      },
      "execution_count": null,
      "outputs": [
        {
          "output_type": "execute_result",
          "data": {
            "text/plain": [
              "    antecedents consequents  antecedent support  consequent support  support  \\\n",
              "0        (MILK)     (BREAD)                0.25                0.65      0.2   \n",
              "1       (SUGER)     (BREAD)                0.30                0.65      0.2   \n",
              "2  (CORNFLAKES)    (COFFEE)                0.30                0.40      0.2   \n",
              "3       (SUGER)    (COFFEE)                0.30                0.40      0.2   \n",
              "4       (MAGGI)       (TEA)                0.25                0.35      0.2   \n",
              "\n",
              "   confidence      lift  leverage  conviction  \n",
              "0    0.800000  1.230769    0.0375        1.75  \n",
              "1    0.666667  1.025641    0.0050        1.05  \n",
              "2    0.666667  1.666667    0.0800        1.80  \n",
              "3    0.666667  1.666667    0.0800        1.80  \n",
              "4    0.800000  2.285714    0.1125        3.25  "
            ],
            "text/html": [
              "\n",
              "  <div id=\"df-71e37e1b-98b8-4c09-8025-82ac3044b63c\">\n",
              "    <div class=\"colab-df-container\">\n",
              "      <div>\n",
              "<style scoped>\n",
              "    .dataframe tbody tr th:only-of-type {\n",
              "        vertical-align: middle;\n",
              "    }\n",
              "\n",
              "    .dataframe tbody tr th {\n",
              "        vertical-align: top;\n",
              "    }\n",
              "\n",
              "    .dataframe thead th {\n",
              "        text-align: right;\n",
              "    }\n",
              "</style>\n",
              "<table border=\"1\" class=\"dataframe\">\n",
              "  <thead>\n",
              "    <tr style=\"text-align: right;\">\n",
              "      <th></th>\n",
              "      <th>antecedents</th>\n",
              "      <th>consequents</th>\n",
              "      <th>antecedent support</th>\n",
              "      <th>consequent support</th>\n",
              "      <th>support</th>\n",
              "      <th>confidence</th>\n",
              "      <th>lift</th>\n",
              "      <th>leverage</th>\n",
              "      <th>conviction</th>\n",
              "    </tr>\n",
              "  </thead>\n",
              "  <tbody>\n",
              "    <tr>\n",
              "      <th>0</th>\n",
              "      <td>(MILK)</td>\n",
              "      <td>(BREAD)</td>\n",
              "      <td>0.25</td>\n",
              "      <td>0.65</td>\n",
              "      <td>0.2</td>\n",
              "      <td>0.800000</td>\n",
              "      <td>1.230769</td>\n",
              "      <td>0.0375</td>\n",
              "      <td>1.75</td>\n",
              "    </tr>\n",
              "    <tr>\n",
              "      <th>1</th>\n",
              "      <td>(SUGER)</td>\n",
              "      <td>(BREAD)</td>\n",
              "      <td>0.30</td>\n",
              "      <td>0.65</td>\n",
              "      <td>0.2</td>\n",
              "      <td>0.666667</td>\n",
              "      <td>1.025641</td>\n",
              "      <td>0.0050</td>\n",
              "      <td>1.05</td>\n",
              "    </tr>\n",
              "    <tr>\n",
              "      <th>2</th>\n",
              "      <td>(CORNFLAKES)</td>\n",
              "      <td>(COFFEE)</td>\n",
              "      <td>0.30</td>\n",
              "      <td>0.40</td>\n",
              "      <td>0.2</td>\n",
              "      <td>0.666667</td>\n",
              "      <td>1.666667</td>\n",
              "      <td>0.0800</td>\n",
              "      <td>1.80</td>\n",
              "    </tr>\n",
              "    <tr>\n",
              "      <th>3</th>\n",
              "      <td>(SUGER)</td>\n",
              "      <td>(COFFEE)</td>\n",
              "      <td>0.30</td>\n",
              "      <td>0.40</td>\n",
              "      <td>0.2</td>\n",
              "      <td>0.666667</td>\n",
              "      <td>1.666667</td>\n",
              "      <td>0.0800</td>\n",
              "      <td>1.80</td>\n",
              "    </tr>\n",
              "    <tr>\n",
              "      <th>4</th>\n",
              "      <td>(MAGGI)</td>\n",
              "      <td>(TEA)</td>\n",
              "      <td>0.25</td>\n",
              "      <td>0.35</td>\n",
              "      <td>0.2</td>\n",
              "      <td>0.800000</td>\n",
              "      <td>2.285714</td>\n",
              "      <td>0.1125</td>\n",
              "      <td>3.25</td>\n",
              "    </tr>\n",
              "  </tbody>\n",
              "</table>\n",
              "</div>\n",
              "      <button class=\"colab-df-convert\" onclick=\"convertToInteractive('df-71e37e1b-98b8-4c09-8025-82ac3044b63c')\"\n",
              "              title=\"Convert this dataframe to an interactive table.\"\n",
              "              style=\"display:none;\">\n",
              "        \n",
              "  <svg xmlns=\"http://www.w3.org/2000/svg\" height=\"24px\"viewBox=\"0 0 24 24\"\n",
              "       width=\"24px\">\n",
              "    <path d=\"M0 0h24v24H0V0z\" fill=\"none\"/>\n",
              "    <path d=\"M18.56 5.44l.94 2.06.94-2.06 2.06-.94-2.06-.94-.94-2.06-.94 2.06-2.06.94zm-11 1L8.5 8.5l.94-2.06 2.06-.94-2.06-.94L8.5 2.5l-.94 2.06-2.06.94zm10 10l.94 2.06.94-2.06 2.06-.94-2.06-.94-.94-2.06-.94 2.06-2.06.94z\"/><path d=\"M17.41 7.96l-1.37-1.37c-.4-.4-.92-.59-1.43-.59-.52 0-1.04.2-1.43.59L10.3 9.45l-7.72 7.72c-.78.78-.78 2.05 0 2.83L4 21.41c.39.39.9.59 1.41.59.51 0 1.02-.2 1.41-.59l7.78-7.78 2.81-2.81c.8-.78.8-2.07 0-2.86zM5.41 20L4 18.59l7.72-7.72 1.47 1.35L5.41 20z\"/>\n",
              "  </svg>\n",
              "      </button>\n",
              "      \n",
              "  <style>\n",
              "    .colab-df-container {\n",
              "      display:flex;\n",
              "      flex-wrap:wrap;\n",
              "      gap: 12px;\n",
              "    }\n",
              "\n",
              "    .colab-df-convert {\n",
              "      background-color: #E8F0FE;\n",
              "      border: none;\n",
              "      border-radius: 50%;\n",
              "      cursor: pointer;\n",
              "      display: none;\n",
              "      fill: #1967D2;\n",
              "      height: 32px;\n",
              "      padding: 0 0 0 0;\n",
              "      width: 32px;\n",
              "    }\n",
              "\n",
              "    .colab-df-convert:hover {\n",
              "      background-color: #E2EBFA;\n",
              "      box-shadow: 0px 1px 2px rgba(60, 64, 67, 0.3), 0px 1px 3px 1px rgba(60, 64, 67, 0.15);\n",
              "      fill: #174EA6;\n",
              "    }\n",
              "\n",
              "    [theme=dark] .colab-df-convert {\n",
              "      background-color: #3B4455;\n",
              "      fill: #D2E3FC;\n",
              "    }\n",
              "\n",
              "    [theme=dark] .colab-df-convert:hover {\n",
              "      background-color: #434B5C;\n",
              "      box-shadow: 0px 1px 3px 1px rgba(0, 0, 0, 0.15);\n",
              "      filter: drop-shadow(0px 1px 2px rgba(0, 0, 0, 0.3));\n",
              "      fill: #FFFFFF;\n",
              "    }\n",
              "  </style>\n",
              "\n",
              "      <script>\n",
              "        const buttonEl =\n",
              "          document.querySelector('#df-71e37e1b-98b8-4c09-8025-82ac3044b63c button.colab-df-convert');\n",
              "        buttonEl.style.display =\n",
              "          google.colab.kernel.accessAllowed ? 'block' : 'none';\n",
              "\n",
              "        async function convertToInteractive(key) {\n",
              "          const element = document.querySelector('#df-71e37e1b-98b8-4c09-8025-82ac3044b63c');\n",
              "          const dataTable =\n",
              "            await google.colab.kernel.invokeFunction('convertToInteractive',\n",
              "                                                     [key], {});\n",
              "          if (!dataTable) return;\n",
              "\n",
              "          const docLinkHtml = 'Like what you see? Visit the ' +\n",
              "            '<a target=\"_blank\" href=https://colab.research.google.com/notebooks/data_table.ipynb>data table notebook</a>'\n",
              "            + ' to learn more about interactive tables.';\n",
              "          element.innerHTML = '';\n",
              "          dataTable['output_type'] = 'display_data';\n",
              "          await google.colab.output.renderOutput(dataTable, element);\n",
              "          const docLink = document.createElement('div');\n",
              "          docLink.innerHTML = docLinkHtml;\n",
              "          element.appendChild(docLink);\n",
              "        }\n",
              "      </script>\n",
              "    </div>\n",
              "  </div>\n",
              "  "
            ]
          },
          "metadata": {},
          "execution_count": 152
        }
      ]
    }
  ],
  "metadata": {
    "colab": {
      "provenance": [],
      "collapsed_sections": [
        "PKZGVfM18abP",
        "CDZGroWbGUW5",
        "6tC889z4Gt9V",
        "XepKYXAyHEjv",
        "cAPTq56aTO4v",
        "5gVNLk4OU0TZ",
        "vBYUzVUEUqDn",
        "CrJsD_nzpzoi"
      ],
      "authorship_tag": "ABX9TyPIqSJTkTCedxYmEp9hTEzF",
      "include_colab_link": true
    },
    "kernelspec": {
      "display_name": "Python 3",
      "name": "python3"
    },
    "language_info": {
      "name": "python"
    }
  },
  "nbformat": 4,
  "nbformat_minor": 0
}